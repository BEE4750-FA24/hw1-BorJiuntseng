{
  "cells": [
    {
      "cell_type": "markdown",
      "id": "9097e2ab-6249-4b31-9a2f-00089c083b72",
      "metadata": {},
      "source": [
        "# BEE 4750 Homework 1: Introduction to Using Julia\n",
        "\n",
        "**Name**: Bor-Jiun Tseng\n",
        "\n",
        "**ID**: bt366\n",
        "\n",
        "> **Due Date**\n",
        ">\n",
        "> Thursday, 9/5/24, 9:00pm\n",
        "\n",
        "## Overview\n",
        "\n",
        "### Instructions\n",
        "\n",
        "-   Problem 1 consist of a series of code snippets for you to interpret\n",
        "    and debug. You will be asked to identify relevant error(s) and fix\n",
        "    the code.\n",
        "-   Problem 2 gives you some code that works as intended; your goal is\n",
        "    to identify the code’s purpose by following its logic.\n",
        "-   Problem 3 asks you to write code to generate a random vector and\n",
        "    subtract off its mean, using a Julia syntax called broadcasting.\n",
        "-   Problem 4 asks you to convert a verbal description of a wastewater\n",
        "    treatment system into a Julia function, and then to use that\n",
        "    function to explore the impact of different wastewater allocation\n",
        "    strategies.\n",
        "-   Problem 5 (5750 only) asks you to use more advanced Julia\n",
        "    techniques.\n",
        "\n",
        "### Load Environment\n",
        "\n",
        "The following code loads the environment and makes sure all needed\n",
        "packages are installed. This should be at the start of most Julia\n",
        "scripts."
      ]
    },
    {
      "cell_type": "code",
      "execution_count": 109,
      "id": "2",
      "metadata": {},
      "outputs": [
        {
          "name": "stderr",
          "output_type": "stream",
          "text": [
            "\u001b[32m\u001b[1m  Activating\u001b[22m\u001b[39m project at `c:\\Users\\nobel\\OneDrive\\桌面\\BEE5750\\hw\\hw1-BorJiuntseng`\n"
          ]
        }
      ],
      "source": [
        "import Pkg\n",
        "Pkg.activate(@__DIR__)\n",
        "Pkg.instantiate()"
      ]
    },
    {
      "cell_type": "markdown",
      "id": "0e3bcb27-26cb-4cdd-a824-b55031e01b4e",
      "metadata": {},
      "source": [
        "Standard Julia practice is to load all needed packages at the top of a\n",
        "file. If you need to load any additional packages in any assignments\n",
        "beyond those which are loaded by default, feel free to add a `using`\n",
        "statement, though [you may need to install the\n",
        "package](https://viveks.me/environmental-systems-analysis/tutorials/julia-basics.html#package-management)."
      ]
    },
    {
      "cell_type": "code",
      "execution_count": 110,
      "id": "4",
      "metadata": {},
      "outputs": [],
      "source": [
        "using Random\n",
        "using Plots\n",
        "using GraphRecipes\n",
        "using LaTeXStrings"
      ]
    },
    {
      "cell_type": "code",
      "execution_count": 3,
      "id": "6",
      "metadata": {},
      "outputs": [
        {
          "data": {
            "text/plain": [
              "TaskLocalRNG()"
            ]
          },
          "metadata": {},
          "output_type": "display_data"
        }
      ],
      "source": [
        "# this sets a random seed, which ensures reproducibility of random number generation. You should always set a seed when working with random numbers.\n",
        "Random.seed!(1)"
      ]
    },
    {
      "cell_type": "markdown",
      "id": "02482a14-41e8-43bd-afa1-eee124ce54b3",
      "metadata": {},
      "source": [
        "## Problems (Total: 50/60 Points)\n",
        "\n",
        "### Problem 1 (15 points)\n",
        "\n",
        "The following subproblems all involve code snippets that require\n",
        "debugging.\n",
        "\n",
        "**For each of them**:\n",
        "\n",
        "-   identify and describe the logic and/or syntax error;\n",
        "-   write a fixed version of the function;\n",
        "-   use your fixed function to solve the problem.\n",
        "\n",
        "#### Problem 1.1\n",
        "\n",
        "You’ve been tasked with writing code to identify the minimum value in an\n",
        "array. You cannot use a predefined function. Your colleague suggested\n",
        "the function below, but it does not return the minimum value."
      ]
    },
    {
      "cell_type": "code",
      "execution_count": 14,
      "id": "8",
      "metadata": {},
      "outputs": [
        {
          "name": "stdout",
          "output_type": "stream",
          "text": [
            "minimum(array_values) = 78\n"
          ]
        }
      ],
      "source": [
        "function minimum(array)\n",
        "    min_value = array[1]\n",
        "    for i in 1:length(array)\n",
        "        if array[i] < min_value\n",
        "            min_value = array[i] \n",
        "        end\n",
        "    end\n",
        "    return min_value\n",
        "end\n",
        "\n",
        "array_values = [89, 90, 95, 100, 100, 78, 99, 98, 100, 95]\n",
        "@show minimum(array_values);"
      ]
    },
    {
      "cell_type": "markdown",
      "id": "9b842384",
      "metadata": {},
      "source": [
        "1. I think the login error is setting the min_value at 0, if non of the number in the array is below 0, then it'll output 0 as the product\n",
        "2. setting the min_value as any number in the array will instead compare the number within the array, therefore I will set min_value as the first number of the array, array[1]"
      ]
    },
    {
      "cell_type": "markdown",
      "id": "b64501cb-369d-464d-94f4-7fa51072cd2b",
      "metadata": {},
      "source": [
        "#### Problem 1.2\n",
        "\n",
        "Your team is trying to compute the average grade for your class, but the\n",
        "following code produces an error."
      ]
    },
    {
      "cell_type": "code",
      "execution_count": 29,
      "id": "10",
      "metadata": {},
      "outputs": [
        {
          "name": "stdout",
          "output_type": "stream",
          "text": [
            "average_grade = 94.4\n"
          ]
        }
      ],
      "source": [
        "student_grades = [89, 90, 95, 100, 100, 78, 99, 98, 100, 95]\n",
        "using Statistics\n",
        "function class_average(grades)\n",
        "  average_grade = mean(student_grades)\n",
        "  return average_grade\n",
        "end\n",
        "average_grade = class_average(student_grades)\n",
        "@show average_grade;"
      ]
    },
    {
      "cell_type": "markdown",
      "id": "6a89b87f",
      "metadata": {},
      "source": [
        "1. when running the code, it shows average_grade not define, we can see that average_grade is only defined within the function, therefore, \n",
        "I added average_grade = class_average(student_grades) outside the function.\n",
        "2. then the error appears again with mean not define. afterlooking up on "
      ]
    },
    {
      "cell_type": "markdown",
      "id": "5c97a0dc-97bd-43b2-8caa-a1628f47f932",
      "metadata": {},
      "source": [
        "#### Problem 1.3\n",
        "\n",
        "Your team wants to know the expected payout of an old Italian dice game\n",
        "called *passadieci* (which was analyzed by Galileo as one of the first\n",
        "examples of a rigorous study of probability). The goal of passadieci is\n",
        "to get at least an 11 from rolling three fair, six-sided dice. Your\n",
        "strategy is to compute the average wins from 1,000 trials, but the code\n",
        "you’ve written below produces an error."
      ]
    },
    {
      "cell_type": "code",
      "execution_count": 1,
      "id": "12",
      "metadata": {},
      "outputs": [
        {
          "name": "stdout",
          "output_type": "stream",
          "text": [
            "win_prob = 0.359\n"
          ]
        }
      ],
      "source": [
        "function passadieci()\n",
        "    # this rand() call samples 3 values from the vector [1, 6]\n",
        "    roll = rand(1:6, 3) \n",
        "    return roll\n",
        "end\n",
        "n_trials = 1_000\n",
        "outcomes = zeros(n_trials)\n",
        "for i = 1:n_trials\n",
        "    outcomes[i] = (sum(passadieci()) > 11)\n",
        "end\n",
        "win_prob = sum(outcomes) / n_trials # compute average number of wins\n",
        "@show win_prob;"
      ]
    },
    {
      "cell_type": "markdown",
      "id": "18952d55",
      "metadata": {},
      "source": [
        "after looking up method error, I find out that setting outcomes to zero(n_trial) is the method error, and should be zeros, so that the win_prob doesn't compute as 0"
      ]
    },
    {
      "cell_type": "markdown",
      "id": "aed03947",
      "metadata": {},
      "source": [
        "### Problem 2 (5 points)\n",
        "\n",
        "You’ve been handed some code to analyze. The original coder was not very\n",
        "considerate of other potential users: the function is called\n",
        "`mystery_function` and there are no comments explaining the purpose of\n",
        "the code. It appears to take in an array and return some numbers, and\n",
        "you’ve been assured that the code works as intended."
      ]
    },
    {
      "cell_type": "markdown",
      "id": "7da62df1",
      "metadata": {},
      "source": [
        "So after evaluating the \"mystery_function\", I believe that it's trying to identify and output each elements that appears in an array,\n",
        "and elements that have the same value will only be recorded once."
      ]
    },
    {
      "cell_type": "code",
      "execution_count": 10,
      "id": "14",
      "metadata": {},
      "outputs": [
        {
          "name": "stdout",
          "output_type": "stream",
          "text": [
            "mystery_function(list_of_values) = Any[1, 2, 3, 4]\n"
          ]
        }
      ],
      "source": [
        "#=The purpose for this function is to identify and record each elements that appears in an array, \n",
        "if elements have the same value it will only be recorded once.=#\n",
        "function mystery_function(values) \n",
        "    y = [] #creating an empty 1 dimensional array that can hold the values.\n",
        "    for v in values  #creating a for loop checking each elements(v) in values\n",
        "        if !(v in y) #checking if v is in array y, and if not, its' adding v into y\n",
        "            append!(y, v)\n",
        "        end\n",
        "    end\n",
        "    return y   #return the array created in the beginning           \n",
        "end\n",
        "\n",
        "list_of_values = [1, 2, 3, 4, 3, 4, 2, 1]\n",
        "@show mystery_function(list_of_values);"
      ]
    },
    {
      "cell_type": "code",
      "execution_count": 2,
      "id": "e3bd1b9a",
      "metadata": {},
      "outputs": [
        {
          "name": "stdout",
          "output_type": "stream",
          "text": [
            "unique(array_x) = [1, 2, 3, 4]\n"
          ]
        },
        {
          "data": {
            "text/plain": [
              "4-element Vector{Int64}:\n",
              " 1\n",
              " 2\n",
              " 3\n",
              " 4"
            ]
          },
          "metadata": {},
          "output_type": "display_data"
        }
      ],
      "source": [
        "array_x = [1, 2, 3, 4, 3, 4, 2, 1]\n",
        "@show unique(array_x)\n"
      ]
    },
    {
      "cell_type": "markdown",
      "id": "80bb3ce7",
      "metadata": {},
      "source": [
        "unique(array)\n",
        "This function does the same thing as mystery_function, it dientify the unique elements in an array."
      ]
    },
    {
      "cell_type": "markdown",
      "id": "5473439c-157a-498d-9433-f7faa08dc359",
      "metadata": {},
      "source": [
        "**In this problem**:\n",
        "\n",
        "-   Explain the purpose of `mystery_function`.\n",
        "-   Add comments to the code, explaining why and how it works. Refer to\n",
        "    [“Best Practices for Writing Code\n",
        "    Comments”](https://stackoverflow.blog/2021/12/23/best-practices-for-writing-code-comments/),\n",
        "    and remember that bad comments can be just as bad as no comments at\n",
        "    all. You do not need to add comments to every line (in fact, this is\n",
        "    very bad practice), but you should note the *purpose* of every\n",
        "    “section” of code, and add comments explaining any code sequences\n",
        "    that you don’t immediately understand.\n",
        "-   Is there a built-in Julia function that does the same thing as\n",
        "    `mystery_function`? If so, what is it? Use it to do the same thing\n",
        "    as the code above.\n",
        "\n",
        "### Problem 3 (10 points)\n",
        "\n",
        "You’re interested in writing some code to remove the mean of a vector.\n",
        "\n",
        "**In this problem**:\n",
        "\n",
        "-   Write a function `compute_mean(v)` which sums all of the elements of\n",
        "    a vector `v` using a `for` loop and computes the mean.\n",
        "-   Make a random vector `random_vect` of length 10 using Julia’s\n",
        "    `rand()` function. Use your `compute_mean()` function to calculate\n",
        "    its mean and subtract it from `random_vect` **without a loop**\n",
        "    (using a Julia technique called *broadcasting*; feel free to consult\n",
        "    the Julia documentation and search as necessary). Check that the new\n",
        "    vector has mean zero.\n",
        "\n",
        "### Problem 4 (20 points)\n",
        "\n",
        "Cheap Plastic Products, Inc. is operating a plant that produces\n",
        "$100 \\text{m}^3\\text{/day}$ of wastewater that is discharged into\n",
        "Pristine Brook. The wastewater contains $1 \\text{kg/m}^3$ of YUK, a\n",
        "toxic substance. The US Environmental Protection Agency has imposed an\n",
        "effluent standard on the plant prohibiting discharge of more than\n",
        "$20 \\text{kg/day}$ of YUK into Pristine Brook.\n",
        "\n",
        "Cheap Plastic Products has analyzed two methods for reducing its\n",
        "discharges of YUK. Method 1 is land disposal, which costs $X_1^2/20$\n",
        "dollars per day, where $X_1$ is the amount of wastewater disposed of on\n",
        "the land ($\\text{m}^3\\text{/day}$). With this method, 20% of the YUK\n",
        "applied to the land will eventually drain into the stream (*i.e.*, 80%\n",
        "of the YUK is removed by the soil).\n",
        "\n",
        "Method 2 is a chemical treatment procedure which costs \\$1.50 per\n",
        "$\\text{m}^3$ of wastewater treated. The chemical treatment has an\n",
        "efficiency of $e= 1 - 0.005X_2$, where $X_2$ is the quantity of\n",
        "wastewater ($\\text{m}^3\\text{/day}$) treated. For example, if\n",
        "$X_2 = 50 \\text{m}^3\\text{/day}$, then $e = 1 - 0.005(50) = 0.75$, so\n",
        "that 75% of the YUK is removed.\n",
        "\n",
        "Cheap Plastic Products is wondering how to allocate their wastewater\n",
        "between these three disposal and treatment methods (land disposal, and\n",
        "chemical treatment, and land disposal) to meet the effluent standard\n",
        "while keeping costs manageable.\n",
        "\n",
        "The flow of wastewater through this treatment system is shown in\n",
        "<a href=\"#fig-wastewater\" class=\"quarto-xref\">Figure 1</a>. Modify the\n",
        "edge labels (by editing the `edge_labels` dictionary in the code\n",
        "producing <a href=\"#fig-wastewater\" class=\"quarto-xref\">Figure 1</a>) to\n",
        "show how the wastewater allocations result in the final YUK discharge\n",
        "into Pristine Brook. For the `edge_label` dictionary, the tuple $(i, j)$\n",
        "corresponds to the arrow going from node $i$ to node $j$. The syntax for\n",
        "any entry is `(i, j) => \"label text\"`, and the label text can include\n",
        "mathematical notation if the string is prefaced with an `L`, as in\n",
        "`L\"x_1\"` will produce $x_1$."
      ]
    },
    {
      "cell_type": "markdown",
      "id": "57402b59",
      "metadata": {},
      "source": [
        "1. writing a function computeing the mean v, setting total value to 0, and adding each value to the total by total += i, mean = total / leanth of the array.\n",
        "2. get a random vector of length 10 by using rand(), use the function above to calculate the mean of this random vector\n",
        "3. using the broadcasting technique to substract the mean value of random vect from the random vector\n",
        "4. compute the new mean using the function above, the answer is very close to 0, so we want to round up so it's 0"
      ]
    },
    {
      "cell_type": "code",
      "execution_count": 98,
      "id": "bb945d04",
      "metadata": {},
      "outputs": [
        {
          "name": "stdout",
          "output_type": "stream",
          "text": [
            "rounded_new_mean = 0.0\n"
          ]
        },
        {
          "data": {
            "text/plain": [
              "0.0"
            ]
          },
          "metadata": {},
          "output_type": "display_data"
        }
      ],
      "source": [
        "#Problem 3\n",
        "function compute_mean(v)\n",
        "    total = 0.0\n",
        "    for i in v\n",
        "        total += i\n",
        "    end\n",
        "    mean = total / length(v)\n",
        "    return mean\n",
        "end\n",
        "random_vect = rand(10)\n",
        "mean_vect = compute_mean(random_vect)\n",
        "result_vect = random_vect .- mean_vect\n",
        "new_mean = compute_mean(result_vect)\n",
        "rounded_new_mean = round(new_mean; digits = 2)\n",
        "@show rounded_new_mean"
      ]
    },
    {
      "cell_type": "code",
      "execution_count": 105,
      "id": "cell-fig-wastewater",
      "metadata": {},
      "outputs": [
        {
          "data": {
            "image/png": "[encoded data removed]",
            "image/svg+xml": [
              "<?xml version=\"1.0\" encoding=\"utf-8\"?>\n",
              "<svg xmlns=\"http://www.w3.org/2000/svg\" xmlns:xlink=\"http://www.w3.org/1999/xlink\" width=\"600\" height=\"400\" viewBox=\"0 0 2400 1600\">\n",
              "<defs>\n",
              "  <clipPath id=\"clip010\">\n",
              "    <rect x=\"0\" y=\"0\" width=\"2400\" height=\"1600\"/>\n",
              "  </clipPath>\n",
              "</defs>\n",
              "<path clip-path=\"url(#clip010)\" d=\"M0 1600 L2400 1600 L2400 0 L0 0  Z\" fill=\"#ffffff\" fill-rule=\"evenodd\" fill-opacity=\"1\"/>\n",
              "<defs>\n",
              "  <clipPath id=\"clip011\">\n",
              "    <rect x=\"480\" y=\"0\" width=\"1681\" height=\"1600\"/>\n",
              "  </clipPath>\n",
              "</defs>\n",
              "<path clip-path=\"url(#clip010)\" d=\"M259.055 1552.76 L2140.94 1552.76 L2140.94 47.2441 L259.055 47.2441  Z\" fill=\"#ffffff\" fill-rule=\"evenodd\" fill-opacity=\"1\"/>\n",
              "<defs>\n",
              "  <clipPath id=\"clip012\">\n",
              "    <rect x=\"259\" y=\"47\" width=\"1883\" height=\"1507\"/>\n",
              "  </clipPath>\n",
              "</defs>\n",
              "<polyline clip-path=\"url(#clip012)\" style=\"stroke:#000000; stroke-linecap:round; stroke-linejoin:round; stroke-width:4; stroke-opacity:1; fill:none\" points=\"1334.42,262.317 1318.22,275.046 1302.02,287.766 1285.83,300.469 1269.64,313.146 1253.48,325.79 1237.33,338.392 1221.2,350.944 1205.09,363.436 1189.02,375.861 1172.97,388.21 1156.96,400.474 1140.99,412.646 1125.07,424.716 1109.18,436.677 1093.35,448.52 1077.57,460.237 1061.85,471.818 1046.18,483.256 1030.58,494.543 1015.05,505.669 999.586,516.626 984.197,527.407 968.885,538.002 953.655,548.402 938.509,558.601 923.447,568.598 908.467,578.401 893.564,588.018 878.735,597.459 863.976,606.73 849.284,615.842 834.656,624.801 820.088,633.617 805.576,642.299 791.117,650.853 776.707,659.29 762.343,667.617 748.021,675.843 733.738,683.976 719.49,692.025 705.274,699.998 691.087,707.903 676.923,715.75 662.781,723.546 648.657,731.299 634.547,739.019 620.447,746.714 606.354,754.392 592.265,762.061 \"/>\n",
              "<polyline clip-path=\"url(#clip012)\" style=\"stroke:#000000; stroke-linecap:round; stroke-linejoin:round; stroke-width:4; stroke-opacity:1; fill:none\" points=\"632.49,760.659 592.265,762.061 615.278,729.04 \"/>\n",
              "<polyline clip-path=\"url(#clip012)\" style=\"stroke:#000000; stroke-linecap:round; stroke-linejoin:round; stroke-width:4; stroke-opacity:1; fill:none\" points=\"592.265,762.061 606.354,754.392 \"/>\n",
              "<polyline clip-path=\"url(#clip012)\" style=\"stroke:#000000; stroke-linecap:round; stroke-linejoin:round; stroke-width:4; stroke-opacity:1; fill:none\" points=\"1334.42,262.317 1333.14,274.076 1331.85,285.829 1330.55,297.572 1329.24,309.3 1327.92,321.006 1326.57,332.687 1325.21,344.336 1323.81,355.949 1322.38,367.521 1320.92,379.045 1319.42,390.518 1317.88,401.933 1316.28,413.286 1314.64,424.572 1312.94,435.784 1311.18,446.919 1309.36,457.97 1307.47,468.933 1305.51,479.803 1303.48,490.573 1301.37,501.24 1299.17,511.797 1296.89,522.24 1294.51,532.564 1292.05,542.763 1289.48,552.837 1286.83,562.792 1284.09,572.632 1281.27,582.363 1278.37,591.99 1275.39,601.518 1272.34,610.953 1269.23,620.299 1266.05,629.562 1262.81,638.747 1259.52,647.86 1256.18,656.904 1252.79,665.887 1249.35,674.812 1245.88,683.685 1242.37,692.511 1238.83,701.296 1235.26,710.044 1231.67,718.762 1228.06,727.453 1224.43,736.123 1220.79,744.778 1217.14,753.422 1213.49,762.061 \"/>\n",
              "<polyline clip-path=\"url(#clip012)\" style=\"stroke:#000000; stroke-linecap:round; stroke-linejoin:round; stroke-width:4; stroke-opacity:1; fill:none\" points=\"1244.09,735.908 1213.49,762.061 1210.93,721.894 \"/>\n",
              "<polyline clip-path=\"url(#clip012)\" style=\"stroke:#000000; stroke-linecap:round; stroke-linejoin:round; stroke-width:4; stroke-opacity:1; fill:none\" points=\"1213.49,762.061 1217.14,753.422 \"/>\n",
              "<polyline clip-path=\"url(#clip012)\" style=\"stroke:#000000; stroke-linecap:round; stroke-linejoin:round; stroke-width:4; stroke-opacity:1; fill:none\" points=\"1334.42,262.317 1344.89,286.727 1355.34,311.117 1365.79,335.467 1376.23,359.758 1386.65,383.97 1397.04,408.083 1407.41,432.078 1417.74,455.935 1428.03,479.633 1438.28,503.154 1448.49,526.477 1458.64,549.583 1468.73,572.452 1478.77,595.064 1488.74,617.4 1498.63,639.44 1508.45,661.163 1518.19,682.551 1527.85,703.583 1537.41,724.24 1546.88,744.502 1556.25,764.349 1565.52,783.762 1574.68,802.72 1583.72,821.205 1592.66,839.218 1601.48,856.775 1610.2,873.899 1618.82,890.607 1627.34,906.921 1635.77,922.859 1644.12,938.442 1652.39,953.689 1660.58,968.62 1668.71,983.254 1676.76,997.613 1684.76,1011.71 1692.69,1025.58 1700.58,1039.23 1708.42,1052.68 1716.21,1065.95 1723.97,1079.06 1731.7,1092.04 1739.39,1104.89 1747.06,1117.65 1754.72,1130.33 1762.36,1142.95 1769.99,1155.53 1777.61,1168.09 \"/>\n",
              "<polyline clip-path=\"url(#clip012)\" style=\"stroke:#000000; stroke-linecap:round; stroke-linejoin:round; stroke-width:4; stroke-opacity:1; fill:none\" points=\"1774.32,1127.98 1777.61,1168.09 1743.54,1146.66 \"/>\n",
              "<polyline clip-path=\"url(#clip012)\" style=\"stroke:#000000; stroke-linecap:round; stroke-linejoin:round; stroke-width:4; stroke-opacity:1; fill:none\" points=\"1777.61,1168.09 1769.99,1155.53 \"/>\n",
              "<polyline clip-path=\"url(#clip012)\" style=\"stroke:#000000; stroke-linecap:round; stroke-linejoin:round; stroke-width:4; stroke-opacity:1; fill:none\" points=\"527.897,800 556.372,813.092 584.833,826.172 613.265,839.231 641.653,852.257 669.983,865.238 698.241,878.165 726.411,891.025 754.48,903.809 782.433,916.504 810.255,929.1 837.931,941.587 865.449,953.951 892.791,966.184 919.946,978.274 946.896,990.209 973.629,1001.98 1000.13,1013.57 1026.38,1024.98 1052.38,1036.19 1078.09,1047.19 1103.52,1057.97 1128.64,1068.52 1153.44,1078.82 1177.91,1088.87 1202.03,1098.66 1225.8,1108.19 1249.24,1117.46 1272.36,1126.49 1295.18,1135.29 1317.7,1143.87 1339.95,1152.23 1361.93,1160.4 1383.67,1168.39 1405.18,1176.19 1426.47,1183.84 1447.56,1191.32 1468.45,1198.67 1489.18,1205.88 1509.74,1212.97 1530.16,1219.95 1550.45,1226.84 1570.62,1233.63 1590.69,1240.35 1610.67,1247 1630.58,1253.59 1650.43,1260.15 1670.24,1266.66 1690.02,1273.16 1709.79,1279.65 \"/>\n",
              "<polyline clip-path=\"url(#clip012)\" style=\"stroke:#000000; stroke-linecap:round; stroke-linejoin:round; stroke-width:4; stroke-opacity:1; fill:none\" points=\"1681.19,1251.32 1709.79,1279.65 1669.97,1285.52 \"/>\n",
              "<polyline clip-path=\"url(#clip012)\" style=\"stroke:#000000; stroke-linecap:round; stroke-linejoin:round; stroke-width:4; stroke-opacity:1; fill:none\" points=\"1709.79,1279.65 1690.02,1273.16 \"/>\n",
              "<polyline clip-path=\"url(#clip012)\" style=\"stroke:#000000; stroke-linecap:round; stroke-linejoin:round; stroke-width:4; stroke-opacity:1; fill:none\" points=\"1200,800 1214.11,813.255 1228.21,826.495 1242.28,839.707 1256.32,852.876 1270.32,865.988 1284.27,879.029 1298.15,891.984 1311.96,904.839 1325.68,917.58 1339.3,930.193 1352.82,942.663 1366.21,954.976 1379.48,967.118 1392.61,979.075 1405.58,990.831 1418.39,1002.37 1431.04,1013.69 1443.49,1024.76 1455.76,1035.58 1467.82,1046.12 1479.66,1056.38 1491.28,1066.34 1502.66,1075.99 1513.79,1085.3 1524.66,1094.28 1535.28,1102.91 1545.64,1111.22 1555.77,1119.21 1565.67,1126.9 1575.36,1134.31 1584.84,1141.45 1594.13,1148.33 1603.24,1154.96 1612.17,1161.37 1620.94,1167.57 1629.56,1173.56 1638.04,1179.37 1646.39,1185.01 1654.62,1190.49 1662.74,1195.83 1670.77,1201.04 1678.71,1206.14 1686.57,1211.14 1694.37,1216.05 1702.12,1220.89 1709.82,1225.67 1717.49,1230.41 1725.14,1235.12 1732.78,1239.82 \"/>\n",
              "<polyline clip-path=\"url(#clip012)\" style=\"stroke:#000000; stroke-linecap:round; stroke-linejoin:round; stroke-width:4; stroke-opacity:1; fill:none\" points=\"1711.54,1205.63 1732.78,1239.82 1692.69,1236.29 \"/>\n",
              "<polyline clip-path=\"url(#clip012)\" style=\"stroke:#000000; stroke-linecap:round; stroke-linejoin:round; stroke-width:4; stroke-opacity:1; fill:none\" points=\"1732.78,1239.82 1725.14,1235.12 \"/>\n",
              "<path clip-path=\"url(#clip012)\" d=\"M946.071 571.594 L946.071 571.594 L946.071 535.461 L946.071 535.461 L946.071 571.594 L946.071 571.594  Z\" fill=\"#ffffff\" fill-rule=\"evenodd\" fill-opacity=\"1\"/>\n",
              "<polyline clip-path=\"url(#clip012)\" style=\"stroke:#000000; stroke-linecap:round; stroke-linejoin:round; stroke-width:0; stroke-opacity:0; fill:none\" points=\"946.071,571.594 946.071,571.594 946.071,535.461 946.071,571.594 \"/>\n",
              "<path clip-path=\"url(#clip012)\" d=\"M1293.29 555.745 L1293.29 555.745 L1293.29 519.613 L1293.29 519.613 L1293.29 555.745 L1293.29 555.745  Z\" fill=\"#ffffff\" fill-rule=\"evenodd\" fill-opacity=\"1\"/>\n",
              "<polyline clip-path=\"url(#clip012)\" style=\"stroke:#000000; stroke-linecap:round; stroke-linejoin:round; stroke-width:0; stroke-opacity:0; fill:none\" points=\"1293.29,555.745 1293.29,555.745 1293.29,519.613 1293.29,555.745 \"/>\n",
              "<path clip-path=\"url(#clip012)\" d=\"M1579.22 830.089 L1579.22 830.089 L1579.22 793.957 L1579.22 793.957 L1579.22 830.089 L1579.22 830.089  Z\" fill=\"#ffffff\" fill-rule=\"evenodd\" fill-opacity=\"1\"/>\n",
              "<polyline clip-path=\"url(#clip012)\" style=\"stroke:#000000; stroke-linecap:round; stroke-linejoin:round; stroke-width:0; stroke-opacity:0; fill:none\" points=\"1579.22,830.089 1579.22,830.089 1579.22,793.957 1579.22,830.089 \"/>\n",
              "<path clip-path=\"url(#clip012)\" d=\"M1190.02 1111.87 L1190.02 1111.87 L1190.02 1075.74 L1190.02 1075.74 L1190.02 1111.87 L1190.02 1111.87  Z\" fill=\"#ffffff\" fill-rule=\"evenodd\" fill-opacity=\"1\"/>\n",
              "<polyline clip-path=\"url(#clip012)\" style=\"stroke:#000000; stroke-linecap:round; stroke-linejoin:round; stroke-width:0; stroke-opacity:0; fill:none\" points=\"1190.02,1111.87 1190.02,1111.87 1190.02,1075.74 1190.02,1111.87 \"/>\n",
              "<path clip-path=\"url(#clip012)\" d=\"M1519.26 1107.9 L1519.26 1107.9 L1519.26 1071.77 L1519.26 1071.77 L1519.26 1107.9 L1519.26 1107.9  Z\" fill=\"#ffffff\" fill-rule=\"evenodd\" fill-opacity=\"1\"/>\n",
              "<polyline clip-path=\"url(#clip012)\" style=\"stroke:#000000; stroke-linecap:round; stroke-linejoin:round; stroke-width:0; stroke-opacity:0; fill:none\" points=\"1519.26,1107.9 1519.26,1107.9 1519.26,1071.77 1519.26,1107.9 \"/>\n",
              "<path clip-path=\"url(#clip012)\" d=\"M1433.84 262.317 L1384.13 176.215 L1284.71 176.215 L1235 262.317 L1284.71 348.42 L1384.13 348.42 L1433.84 262.317 L1433.84 262.317  Z\" fill=\"#ffffff\" fill-rule=\"evenodd\" fill-opacity=\"1\"/>\n",
              "<polyline clip-path=\"url(#clip012)\" style=\"stroke:#000000; stroke-linecap:round; stroke-linejoin:round; stroke-width:4; stroke-opacity:1; fill:none\" points=\"1433.84,262.317 1384.13,176.215 1284.71,176.215 1235,262.317 1284.71,348.42 1384.13,348.42 1433.84,262.317 \"/>\n",
              "<path clip-path=\"url(#clip012)\" d=\"M332.072 837.939 L723.721 837.939 L723.721 762.061 L332.072 762.061 L332.072 837.939 L332.072 837.939  Z\" fill=\"#ffffff\" fill-rule=\"evenodd\" fill-opacity=\"1\"/>\n",
              "<polyline clip-path=\"url(#clip012)\" style=\"stroke:#000000; stroke-linecap:round; stroke-linejoin:round; stroke-width:4; stroke-opacity:1; fill:none\" points=\"332.072,837.939 723.721,837.939 723.721,762.061 332.072,762.061 332.072,837.939 \"/>\n",
              "<path clip-path=\"url(#clip012)\" d=\"M1004.18 837.939 L1395.82 837.939 L1395.82 762.061 L1004.18 762.061 L1004.18 837.939 L1004.18 837.939  Z\" fill=\"#ffffff\" fill-rule=\"evenodd\" fill-opacity=\"1\"/>\n",
              "<polyline clip-path=\"url(#clip012)\" style=\"stroke:#000000; stroke-linecap:round; stroke-linejoin:round; stroke-width:4; stroke-opacity:1; fill:none\" points=\"1004.18,837.939 1395.82,837.939 1395.82,762.061 1004.18,762.061 1004.18,837.939 \"/>\n",
              "<path clip-path=\"url(#clip012)\" d=\"M2067.93 1337.68 L1970.02 1168.09 L1774.19 1168.09 L1676.28 1337.68 L1774.19 1507.27 L1970.02 1507.27 L2067.93 1337.68 L2067.93 1337.68  Z\" fill=\"#ffffff\" fill-rule=\"evenodd\" fill-opacity=\"1\"/>\n",
              "<polyline clip-path=\"url(#clip012)\" style=\"stroke:#000000; stroke-linecap:round; stroke-linejoin:round; stroke-width:4; stroke-opacity:1; fill:none\" points=\"2067.93,1337.68 1970.02,1168.09 1774.19,1168.09 1676.28,1337.68 1774.19,1507.27 1970.02,1507.27 2067.93,1337.68 \"/>\n",
              "<circle clip-path=\"url(#clip012)\" style=\"fill:#ffffff; stroke:none; fill-opacity:0\" cx=\"1334.42\" cy=\"262.317\" r=\"2\"/>\n",
              "<circle clip-path=\"url(#clip012)\" style=\"fill:#ffffff; stroke:none; fill-opacity:0\" cx=\"527.897\" cy=\"800\" r=\"2\"/>\n",
              "<circle clip-path=\"url(#clip012)\" style=\"fill:#ffffff; stroke:none; fill-opacity:0\" cx=\"1200\" cy=\"800\" r=\"2\"/>\n",
              "<circle clip-path=\"url(#clip012)\" style=\"fill:#ffffff; stroke:none; fill-opacity:0\" cx=\"1872.1\" cy=\"1337.68\" r=\"2\"/>\n",
              "<path clip-path=\"url(#clip010)\" d=\"M1278.5 250.559 L1278.5 261.922 L1283.64 261.922 Q1286.5 261.922 1288.06 260.444 Q1289.62 258.965 1289.62 256.231 Q1289.62 253.517 1288.06 252.038 Q1286.5 250.559 1283.64 250.559 L1278.5 250.559 M1274.41 247.197 L1283.64 247.197 Q1288.73 247.197 1291.32 249.506 Q1293.93 251.795 1293.93 256.231 Q1293.93 260.707 1291.32 262.996 Q1288.73 265.284 1283.64 265.284 L1278.5 265.284 L1278.5 277.437 L1274.41 277.437 L1274.41 247.197 Z\" fill=\"#000000\" fill-rule=\"nonzero\" fill-opacity=\"1\" /><path clip-path=\"url(#clip010)\" d=\"M1299.26 245.921 L1302.99 245.921 L1302.99 277.437 L1299.26 277.437 L1299.26 245.921 Z\" fill=\"#000000\" fill-rule=\"nonzero\" fill-opacity=\"1\" /><path clip-path=\"url(#clip010)\" d=\"M1321.09 266.034 Q1316.58 266.034 1314.83 267.067 Q1313.09 268.1 1313.09 270.591 Q1313.09 272.576 1314.39 273.751 Q1315.71 274.905 1317.95 274.905 Q1321.05 274.905 1322.92 272.718 Q1324.8 270.51 1324.8 266.864 L1324.8 266.034 L1321.09 266.034 M1328.53 264.495 L1328.53 277.437 L1324.8 277.437 L1324.8 273.994 Q1323.52 276.06 1321.62 277.052 Q1319.72 278.025 1316.96 278.025 Q1313.48 278.025 1311.41 276.08 Q1309.37 274.115 1309.37 270.834 Q1309.37 267.006 1311.92 265.062 Q1314.49 263.117 1319.57 263.117 L1324.8 263.117 L1324.8 262.753 Q1324.8 260.18 1323.1 258.783 Q1321.42 257.365 1318.36 257.365 Q1316.41 257.365 1314.57 257.831 Q1312.73 258.297 1311.03 259.228 L1311.03 255.785 Q1313.07 254.995 1315 254.61 Q1316.92 254.205 1318.74 254.205 Q1323.67 254.205 1326.1 256.757 Q1328.53 259.309 1328.53 264.495 Z\" fill=\"#000000\" fill-rule=\"nonzero\" fill-opacity=\"1\" /><path clip-path=\"url(#clip010)\" d=\"M1355.06 263.745 L1355.06 277.437 L1351.33 277.437 L1351.33 263.867 Q1351.33 260.646 1350.08 259.046 Q1348.82 257.446 1346.31 257.446 Q1343.29 257.446 1341.55 259.37 Q1339.81 261.294 1339.81 264.616 L1339.81 277.437 L1336.06 277.437 L1336.06 254.752 L1339.81 254.752 L1339.81 258.276 Q1341.15 256.231 1342.95 255.218 Q1344.77 254.205 1347.14 254.205 Q1351.05 254.205 1353.05 256.636 Q1355.06 259.046 1355.06 263.745 Z\" fill=\"#000000\" fill-rule=\"nonzero\" fill-opacity=\"1\" /><path clip-path=\"url(#clip010)\" d=\"M1366.18 248.311 L1366.18 254.752 L1373.86 254.752 L1373.86 257.649 L1366.18 257.649 L1366.18 269.963 Q1366.18 272.738 1366.93 273.528 Q1367.7 274.318 1370.03 274.318 L1373.86 274.318 L1373.86 277.437 L1370.03 277.437 Q1365.71 277.437 1364.07 275.837 Q1362.43 274.217 1362.43 269.963 L1362.43 257.649 L1359.7 257.649 L1359.7 254.752 L1362.43 254.752 L1362.43 248.311 L1366.18 248.311 Z\" fill=\"#000000\" fill-rule=\"nonzero\" fill-opacity=\"1\" /><path clip-path=\"url(#clip010)\" d=\"M1393.22 255.421 L1393.22 258.945 Q1391.64 258.135 1389.94 257.73 Q1388.24 257.324 1386.41 257.324 Q1383.64 257.324 1382.24 258.175 Q1380.86 259.026 1380.86 260.727 Q1380.86 262.024 1381.86 262.773 Q1382.85 263.502 1385.85 264.17 L1387.12 264.454 Q1391.09 265.305 1392.75 266.864 Q1394.43 268.404 1394.43 271.179 Q1394.43 274.338 1391.92 276.181 Q1389.43 278.025 1385.06 278.025 Q1383.23 278.025 1381.25 277.66 Q1379.28 277.316 1377.1 276.607 L1377.1 272.758 Q1379.16 273.832 1381.17 274.379 Q1383.17 274.905 1385.14 274.905 Q1387.77 274.905 1389.19 274.014 Q1390.61 273.103 1390.61 271.462 Q1390.61 269.943 1389.57 269.133 Q1388.56 268.323 1385.1 267.573 L1383.8 267.269 Q1380.34 266.54 1378.8 265.041 Q1377.26 263.522 1377.26 260.889 Q1377.26 257.689 1379.53 255.947 Q1381.8 254.205 1385.97 254.205 Q1388.03 254.205 1389.86 254.509 Q1391.68 254.813 1393.22 255.421 Z\" fill=\"#000000\" fill-rule=\"nonzero\" fill-opacity=\"1\" /><path clip-path=\"url(#clip010)\" d=\"M367.724 784.88 L371.815 784.88 L371.815 811.677 L386.54 811.677 L386.54 815.12 L367.724 815.12 L367.724 784.88 Z\" fill=\"#000000\" fill-rule=\"nonzero\" fill-opacity=\"1\" /><path clip-path=\"url(#clip010)\" d=\"M400.982 803.717 Q396.465 803.717 394.723 804.75 Q392.981 805.783 392.981 808.274 Q392.981 810.259 394.277 811.434 Q395.594 812.588 397.842 812.588 Q400.941 812.588 402.805 810.401 Q404.688 808.193 404.688 804.547 L404.688 803.717 L400.982 803.717 M408.415 802.177 L408.415 815.12 L404.688 815.12 L404.688 811.677 Q403.412 813.743 401.508 814.735 Q399.604 815.707 396.85 815.707 Q393.366 815.707 391.3 813.763 Q389.254 811.798 389.254 808.517 Q389.254 804.689 391.806 802.744 Q394.379 800.8 399.463 800.8 L404.688 800.8 L404.688 800.435 Q404.688 797.863 402.987 796.466 Q401.306 795.048 398.247 795.048 Q396.303 795.048 394.46 795.514 Q392.617 795.979 390.915 796.911 L390.915 793.468 Q392.961 792.678 394.885 792.293 Q396.809 791.888 398.632 791.888 Q403.554 791.888 405.985 794.44 Q408.415 796.992 408.415 802.177 Z\" fill=\"#000000\" fill-rule=\"nonzero\" fill-opacity=\"1\" /><path clip-path=\"url(#clip010)\" d=\"M434.949 801.428 L434.949 815.12 L431.222 815.12 L431.222 801.549 Q431.222 798.329 429.966 796.729 Q428.71 795.129 426.199 795.129 Q423.181 795.129 421.439 797.053 Q419.697 798.977 419.697 802.299 L419.697 815.12 L415.95 815.12 L415.95 792.435 L419.697 792.435 L419.697 795.959 Q421.034 793.914 422.836 792.901 Q424.659 791.888 427.029 791.888 Q430.938 791.888 432.943 794.319 Q434.949 796.729 434.949 801.428 Z\" fill=\"#000000\" fill-rule=\"nonzero\" fill-opacity=\"1\" /><path clip-path=\"url(#clip010)\" d=\"M457.31 795.878 L457.31 783.604 L461.036 783.604 L461.036 815.12 L457.31 815.12 L457.31 811.717 Q456.135 813.743 454.332 814.735 Q452.55 815.707 450.038 815.707 Q445.926 815.707 443.334 812.426 Q440.762 809.145 440.762 803.798 Q440.762 798.451 443.334 795.169 Q445.926 791.888 450.038 791.888 Q452.55 791.888 454.332 792.881 Q456.135 793.853 457.31 795.878 M444.61 803.798 Q444.61 807.909 446.291 810.259 Q447.992 812.588 450.95 812.588 Q453.907 812.588 455.608 810.259 Q457.31 807.909 457.31 803.798 Q457.31 799.686 455.608 797.357 Q453.907 795.007 450.95 795.007 Q447.992 795.007 446.291 797.357 Q444.61 799.686 444.61 803.798 Z\" fill=\"#000000\" fill-rule=\"nonzero\" fill-opacity=\"1\" /><path clip-path=\"url(#clip010)\" d=\"M477.868 784.88 L503.449 784.88 L503.449 788.323 L492.714 788.323 L492.714 815.12 L488.603 815.12 L488.603 788.323 L477.868 788.323 L477.868 784.88 Z\" fill=\"#000000\" fill-rule=\"nonzero\" fill-opacity=\"1\" /><path clip-path=\"url(#clip010)\" d=\"M514.285 795.919 Q513.658 795.554 512.908 795.392 Q512.179 795.21 511.288 795.21 Q508.128 795.21 506.427 797.276 Q504.746 799.321 504.746 803.17 L504.746 815.12 L500.999 815.12 L500.999 792.435 L504.746 792.435 L504.746 795.959 Q505.92 793.893 507.804 792.901 Q509.688 791.888 512.382 791.888 Q512.766 791.888 513.232 791.949 Q513.698 791.989 514.265 792.091 L514.285 795.919 Z\" fill=\"#000000\" fill-rule=\"nonzero\" fill-opacity=\"1\" /><path clip-path=\"url(#clip010)\" d=\"M536.687 802.846 L536.687 804.669 L519.552 804.669 Q519.795 808.517 521.861 810.542 Q523.947 812.548 527.653 812.548 Q529.8 812.548 531.806 812.021 Q533.831 811.494 535.816 810.441 L535.816 813.965 Q533.811 814.816 531.704 815.262 Q529.598 815.707 527.431 815.707 Q522.002 815.707 518.822 812.548 Q515.663 809.388 515.663 804 Q515.663 798.43 518.66 795.169 Q521.678 791.888 526.783 791.888 Q531.36 791.888 534.013 794.845 Q536.687 797.782 536.687 802.846 M532.96 801.752 Q532.92 798.694 531.239 796.871 Q529.578 795.048 526.823 795.048 Q523.704 795.048 521.82 796.81 Q519.957 798.572 519.673 801.772 L532.96 801.752 Z\" fill=\"#000000\" fill-rule=\"nonzero\" fill-opacity=\"1\" /><path clip-path=\"url(#clip010)\" d=\"M553.113 803.717 Q548.597 803.717 546.855 804.75 Q545.113 805.783 545.113 808.274 Q545.113 810.259 546.409 811.434 Q547.726 812.588 549.974 812.588 Q553.073 812.588 554.936 810.401 Q556.82 808.193 556.82 804.547 L556.82 803.717 L553.113 803.717 M560.547 802.177 L560.547 815.12 L556.82 815.12 L556.82 811.677 Q555.544 813.743 553.64 814.735 Q551.736 815.707 548.981 815.707 Q545.498 815.707 543.432 813.763 Q541.386 811.798 541.386 808.517 Q541.386 804.689 543.938 802.744 Q546.51 800.8 551.594 800.8 L556.82 800.8 L556.82 800.435 Q556.82 797.863 555.119 796.466 Q553.437 795.048 550.379 795.048 Q548.435 795.048 546.591 795.514 Q544.748 795.979 543.047 796.911 L543.047 793.468 Q545.093 792.678 547.017 792.293 Q548.941 791.888 550.764 791.888 Q555.686 791.888 558.116 794.44 Q560.547 796.992 560.547 802.177 Z\" fill=\"#000000\" fill-rule=\"nonzero\" fill-opacity=\"1\" /><path clip-path=\"url(#clip010)\" d=\"M571.91 785.994 L571.91 792.435 L579.586 792.435 L579.586 795.331 L571.91 795.331 L571.91 807.646 Q571.91 810.421 572.659 811.211 Q573.429 812.001 575.758 812.001 L579.586 812.001 L579.586 815.12 L575.758 815.12 Q571.444 815.12 569.803 813.52 Q568.163 811.9 568.163 807.646 L568.163 795.331 L565.428 795.331 L565.428 792.435 L568.163 792.435 L568.163 785.994 L571.91 785.994 Z\" fill=\"#000000\" fill-rule=\"nonzero\" fill-opacity=\"1\" /><path clip-path=\"url(#clip010)\" d=\"M602.15 796.79 Q603.547 794.278 605.492 793.083 Q607.436 791.888 610.069 791.888 Q613.614 791.888 615.538 794.379 Q617.462 796.85 617.462 801.428 L617.462 815.12 L613.715 815.12 L613.715 801.549 Q613.715 798.288 612.56 796.709 Q611.406 795.129 609.036 795.129 Q606.14 795.129 604.459 797.053 Q602.777 798.977 602.777 802.299 L602.777 815.12 L599.03 815.12 L599.03 801.549 Q599.03 798.268 597.876 796.709 Q596.721 795.129 594.311 795.129 Q591.455 795.129 589.774 797.073 Q588.093 798.997 588.093 802.299 L588.093 815.12 L584.346 815.12 L584.346 792.435 L588.093 792.435 L588.093 795.959 Q589.369 793.873 591.151 792.881 Q592.934 791.888 595.385 791.888 Q597.856 791.888 599.577 793.144 Q601.319 794.4 602.15 796.79 Z\" fill=\"#000000\" fill-rule=\"nonzero\" fill-opacity=\"1\" /><path clip-path=\"url(#clip010)\" d=\"M644.299 802.846 L644.299 804.669 L627.164 804.669 Q627.407 808.517 629.473 810.542 Q631.559 812.548 635.266 812.548 Q637.413 812.548 639.418 812.021 Q641.443 811.494 643.428 810.441 L643.428 813.965 Q641.423 814.816 639.317 815.262 Q637.21 815.707 635.043 815.707 Q629.615 815.707 626.435 812.548 Q623.275 809.388 623.275 804 Q623.275 798.43 626.273 795.169 Q629.291 791.888 634.395 791.888 Q638.972 791.888 641.626 794.845 Q644.299 797.782 644.299 802.846 M640.572 801.752 Q640.532 798.694 638.851 796.871 Q637.19 795.048 634.435 795.048 Q631.316 795.048 629.432 796.81 Q627.569 798.572 627.285 801.772 L640.572 801.752 Z\" fill=\"#000000\" fill-rule=\"nonzero\" fill-opacity=\"1\" /><path clip-path=\"url(#clip010)\" d=\"M669.273 801.428 L669.273 815.12 L665.546 815.12 L665.546 801.549 Q665.546 798.329 664.29 796.729 Q663.035 795.129 660.523 795.129 Q657.505 795.129 655.763 797.053 Q654.021 798.977 654.021 802.299 L654.021 815.12 L650.274 815.12 L650.274 792.435 L654.021 792.435 L654.021 795.959 Q655.358 793.914 657.161 792.901 Q658.984 791.888 661.354 791.888 Q665.263 791.888 667.268 794.319 Q669.273 796.729 669.273 801.428 Z\" fill=\"#000000\" fill-rule=\"nonzero\" fill-opacity=\"1\" /><path clip-path=\"url(#clip010)\" d=\"M680.393 785.994 L680.393 792.435 L688.069 792.435 L688.069 795.331 L680.393 795.331 L680.393 807.646 Q680.393 810.421 681.142 811.211 Q681.912 812.001 684.241 812.001 L688.069 812.001 L688.069 815.12 L684.241 815.12 Q679.927 815.12 678.286 813.52 Q676.646 811.9 676.646 807.646 L676.646 795.331 L673.911 795.331 L673.911 792.435 L676.646 792.435 L676.646 785.994 L680.393 785.994 Z\" fill=\"#000000\" fill-rule=\"nonzero\" fill-opacity=\"1\" /><path clip-path=\"url(#clip010)\" d=\"M1053.33 787.209 L1053.33 791.523 Q1051.26 789.599 1048.91 788.647 Q1046.58 787.695 1043.95 787.695 Q1038.76 787.695 1036.01 790.875 Q1033.25 794.035 1033.25 800.03 Q1033.25 806.005 1036.01 809.185 Q1038.76 812.345 1043.95 812.345 Q1046.58 812.345 1048.91 811.393 Q1051.26 810.441 1053.33 808.517 L1053.33 812.791 Q1051.18 814.249 1048.77 814.978 Q1046.38 815.707 1043.71 815.707 Q1036.84 815.707 1032.89 811.515 Q1028.94 807.302 1028.94 800.03 Q1028.94 792.739 1032.89 788.546 Q1036.84 784.333 1043.71 784.333 Q1046.42 784.333 1048.81 785.062 Q1051.22 785.771 1053.33 787.209 Z\" fill=\"#000000\" fill-rule=\"nonzero\" fill-opacity=\"1\" /><path clip-path=\"url(#clip010)\" d=\"M1078.34 801.428 L1078.34 815.12 L1074.61 815.12 L1074.61 801.549 Q1074.61 798.329 1073.36 796.729 Q1072.1 795.129 1069.59 795.129 Q1066.57 795.129 1064.83 797.053 Q1063.09 798.977 1063.09 802.299 L1063.09 815.12 L1059.34 815.12 L1059.34 783.604 L1063.09 783.604 L1063.09 795.959 Q1064.43 793.914 1066.23 792.901 Q1068.05 791.888 1070.42 791.888 Q1074.33 791.888 1076.34 794.319 Q1078.34 796.729 1078.34 801.428 Z\" fill=\"#000000\" fill-rule=\"nonzero\" fill-opacity=\"1\" /><path clip-path=\"url(#clip010)\" d=\"M1105.18 802.846 L1105.18 804.669 L1088.04 804.669 Q1088.29 808.517 1090.35 810.542 Q1092.44 812.548 1096.14 812.548 Q1098.29 812.548 1100.3 812.021 Q1102.32 811.494 1104.31 810.441 L1104.31 813.965 Q1102.3 814.816 1100.2 815.262 Q1098.09 815.707 1095.92 815.707 Q1090.49 815.707 1087.31 812.548 Q1084.15 809.388 1084.15 804 Q1084.15 798.43 1087.15 795.169 Q1090.17 791.888 1095.27 791.888 Q1099.85 791.888 1102.5 794.845 Q1105.18 797.782 1105.18 802.846 M1101.45 801.752 Q1101.41 798.694 1099.73 796.871 Q1098.07 795.048 1095.31 795.048 Q1092.2 795.048 1090.31 796.81 Q1088.45 798.572 1088.16 801.772 L1101.45 801.752 Z\" fill=\"#000000\" fill-rule=\"nonzero\" fill-opacity=\"1\" /><path clip-path=\"url(#clip010)\" d=\"M1128.96 796.79 Q1130.35 794.278 1132.3 793.083 Q1134.24 791.888 1136.88 791.888 Q1140.42 791.888 1142.35 794.379 Q1144.27 796.85 1144.27 801.428 L1144.27 815.12 L1140.52 815.12 L1140.52 801.549 Q1140.52 798.288 1139.37 796.709 Q1138.21 795.129 1135.84 795.129 Q1132.95 795.129 1131.27 797.053 Q1129.59 798.977 1129.59 802.299 L1129.59 815.12 L1125.84 815.12 L1125.84 801.549 Q1125.84 798.268 1124.68 796.709 Q1123.53 795.129 1121.12 795.129 Q1118.26 795.129 1116.58 797.073 Q1114.9 798.997 1114.9 802.299 L1114.9 815.12 L1111.15 815.12 L1111.15 792.435 L1114.9 792.435 L1114.9 795.959 Q1116.18 793.873 1117.96 792.881 Q1119.74 791.888 1122.19 791.888 Q1124.66 791.888 1126.38 793.144 Q1128.13 794.4 1128.96 796.79 Z\" fill=\"#000000\" fill-rule=\"nonzero\" fill-opacity=\"1\" /><path clip-path=\"url(#clip010)\" d=\"M1160.86 784.88 L1186.44 784.88 L1186.44 788.323 L1175.7 788.323 L1175.7 815.12 L1171.59 815.12 L1171.59 788.323 L1160.86 788.323 L1160.86 784.88 Z\" fill=\"#000000\" fill-rule=\"nonzero\" fill-opacity=\"1\" /><path clip-path=\"url(#clip010)\" d=\"M1197.28 795.919 Q1196.65 795.554 1195.9 795.392 Q1195.17 795.21 1194.28 795.21 Q1191.12 795.21 1189.42 797.276 Q1187.74 799.321 1187.74 803.17 L1187.74 815.12 L1183.99 815.12 L1183.99 792.435 L1187.74 792.435 L1187.74 795.959 Q1188.91 793.893 1190.79 792.901 Q1192.68 791.888 1195.37 791.888 Q1195.76 791.888 1196.22 791.949 Q1196.69 791.989 1197.26 792.091 L1197.28 795.919 Z\" fill=\"#000000\" fill-rule=\"nonzero\" fill-opacity=\"1\" /><path clip-path=\"url(#clip010)\" d=\"M1219.68 802.846 L1219.68 804.669 L1202.54 804.669 Q1202.78 808.517 1204.85 810.542 Q1206.94 812.548 1210.64 812.548 Q1212.79 812.548 1214.8 812.021 Q1216.82 811.494 1218.81 810.441 L1218.81 813.965 Q1216.8 814.816 1214.69 815.262 Q1212.59 815.707 1210.42 815.707 Q1204.99 815.707 1201.81 812.548 Q1198.65 809.388 1198.65 804 Q1198.65 798.43 1201.65 795.169 Q1204.67 791.888 1209.77 791.888 Q1214.35 791.888 1217 794.845 Q1219.68 797.782 1219.68 802.846 M1215.95 801.752 Q1215.91 798.694 1214.23 796.871 Q1212.57 795.048 1209.81 795.048 Q1206.69 795.048 1204.81 796.81 Q1202.95 798.572 1202.66 801.772 L1215.95 801.752 Z\" fill=\"#000000\" fill-rule=\"nonzero\" fill-opacity=\"1\" /><path clip-path=\"url(#clip010)\" d=\"M1236.1 803.717 Q1231.59 803.717 1229.85 804.75 Q1228.1 805.783 1228.1 808.274 Q1228.1 810.259 1229.4 811.434 Q1230.72 812.588 1232.96 812.588 Q1236.06 812.588 1237.93 810.401 Q1239.81 808.193 1239.81 804.547 L1239.81 803.717 L1236.1 803.717 M1243.54 802.177 L1243.54 815.12 L1239.81 815.12 L1239.81 811.677 Q1238.53 813.743 1236.63 814.735 Q1234.73 815.707 1231.97 815.707 Q1228.49 815.707 1226.42 813.763 Q1224.38 811.798 1224.38 808.517 Q1224.38 804.689 1226.93 802.744 Q1229.5 800.8 1234.58 800.8 L1239.81 800.8 L1239.81 800.435 Q1239.81 797.863 1238.11 796.466 Q1236.43 795.048 1233.37 795.048 Q1231.42 795.048 1229.58 795.514 Q1227.74 795.979 1226.04 796.911 L1226.04 793.468 Q1228.08 792.678 1230.01 792.293 Q1231.93 791.888 1233.75 791.888 Q1238.68 791.888 1241.11 794.44 Q1243.54 796.992 1243.54 802.177 Z\" fill=\"#000000\" fill-rule=\"nonzero\" fill-opacity=\"1\" /><path clip-path=\"url(#clip010)\" d=\"M1254.9 785.994 L1254.9 792.435 L1262.58 792.435 L1262.58 795.331 L1254.9 795.331 L1254.9 807.646 Q1254.9 810.421 1255.65 811.211 Q1256.42 812.001 1258.75 812.001 L1262.58 812.001 L1262.58 815.12 L1258.75 815.12 Q1254.43 815.12 1252.79 813.52 Q1251.15 811.9 1251.15 807.646 L1251.15 795.331 L1248.42 795.331 L1248.42 792.435 L1251.15 792.435 L1251.15 785.994 L1254.9 785.994 Z\" fill=\"#000000\" fill-rule=\"nonzero\" fill-opacity=\"1\" /><path clip-path=\"url(#clip010)\" d=\"M1285.14 796.79 Q1286.54 794.278 1288.48 793.083 Q1290.43 791.888 1293.06 791.888 Q1296.6 791.888 1298.53 794.379 Q1300.45 796.85 1300.45 801.428 L1300.45 815.12 L1296.71 815.12 L1296.71 801.549 Q1296.71 798.288 1295.55 796.709 Q1294.4 795.129 1292.03 795.129 Q1289.13 795.129 1287.45 797.053 Q1285.77 798.977 1285.77 802.299 L1285.77 815.12 L1282.02 815.12 L1282.02 801.549 Q1282.02 798.268 1280.87 796.709 Q1279.71 795.129 1277.3 795.129 Q1274.45 795.129 1272.76 797.073 Q1271.08 798.997 1271.08 802.299 L1271.08 815.12 L1267.34 815.12 L1267.34 792.435 L1271.08 792.435 L1271.08 795.959 Q1272.36 793.873 1274.14 792.881 Q1275.92 791.888 1278.37 791.888 Q1280.85 791.888 1282.57 793.144 Q1284.31 794.4 1285.14 796.79 Z\" fill=\"#000000\" fill-rule=\"nonzero\" fill-opacity=\"1\" /><path clip-path=\"url(#clip010)\" d=\"M1327.29 802.846 L1327.29 804.669 L1310.15 804.669 Q1310.4 808.517 1312.46 810.542 Q1314.55 812.548 1318.26 812.548 Q1320.4 812.548 1322.41 812.021 Q1324.43 811.494 1326.42 810.441 L1326.42 813.965 Q1324.41 814.816 1322.31 815.262 Q1320.2 815.707 1318.03 815.707 Q1312.61 815.707 1309.43 812.548 Q1306.27 809.388 1306.27 804 Q1306.27 798.43 1309.26 795.169 Q1312.28 791.888 1317.39 791.888 Q1321.96 791.888 1324.62 794.845 Q1327.29 797.782 1327.29 802.846 M1323.56 801.752 Q1323.52 798.694 1321.84 796.871 Q1320.18 795.048 1317.43 795.048 Q1314.31 795.048 1312.42 796.81 Q1310.56 798.572 1310.28 801.772 L1323.56 801.752 Z\" fill=\"#000000\" fill-rule=\"nonzero\" fill-opacity=\"1\" /><path clip-path=\"url(#clip010)\" d=\"M1352.26 801.428 L1352.26 815.12 L1348.54 815.12 L1348.54 801.549 Q1348.54 798.329 1347.28 796.729 Q1346.02 795.129 1343.51 795.129 Q1340.5 795.129 1338.75 797.053 Q1337.01 798.977 1337.01 802.299 L1337.01 815.12 L1333.26 815.12 L1333.26 792.435 L1337.01 792.435 L1337.01 795.959 Q1338.35 793.914 1340.15 792.901 Q1341.97 791.888 1344.34 791.888 Q1348.25 791.888 1350.26 794.319 Q1352.26 796.729 1352.26 801.428 Z\" fill=\"#000000\" fill-rule=\"nonzero\" fill-opacity=\"1\" /><path clip-path=\"url(#clip010)\" d=\"M1363.38 785.994 L1363.38 792.435 L1371.06 792.435 L1371.06 795.331 L1363.38 795.331 L1363.38 807.646 Q1363.38 810.421 1364.13 811.211 Q1364.9 812.001 1367.23 812.001 L1371.06 812.001 L1371.06 815.12 L1367.23 815.12 Q1362.92 815.12 1361.28 813.52 Q1359.64 811.9 1359.64 807.646 L1359.64 795.331 L1356.9 795.331 L1356.9 792.435 L1359.64 792.435 L1359.64 785.994 L1363.38 785.994 Z\" fill=\"#000000\" fill-rule=\"nonzero\" fill-opacity=\"1\" /><path clip-path=\"url(#clip010)\" d=\"M1734.97 1325.93 L1734.97 1337.29 L1740.11 1337.29 Q1742.97 1337.29 1744.53 1335.81 Q1746.09 1334.33 1746.09 1331.6 Q1746.09 1328.88 1744.53 1327.4 Q1742.97 1325.93 1740.11 1325.93 L1734.97 1325.93 M1730.88 1322.56 L1740.11 1322.56 Q1745.2 1322.56 1747.79 1324.87 Q1750.4 1327.16 1750.4 1331.6 Q1750.4 1336.07 1747.79 1338.36 Q1745.2 1340.65 1740.11 1340.65 L1734.97 1340.65 L1734.97 1352.8 L1730.88 1352.8 L1730.88 1322.56 Z\" fill=\"#000000\" fill-rule=\"nonzero\" fill-opacity=\"1\" /><path clip-path=\"url(#clip010)\" d=\"M1768.15 1333.6 Q1767.52 1333.24 1766.77 1333.07 Q1766.04 1332.89 1765.15 1332.89 Q1761.99 1332.89 1760.29 1334.96 Q1758.61 1337 1758.61 1340.85 L1758.61 1352.8 L1754.86 1352.8 L1754.86 1330.12 L1758.61 1330.12 L1758.61 1333.64 Q1759.78 1331.58 1761.67 1330.58 Q1763.55 1329.57 1766.24 1329.57 Q1766.63 1329.57 1767.09 1329.63 Q1767.56 1329.67 1768.13 1329.77 L1768.15 1333.6 Z\" fill=\"#000000\" fill-rule=\"nonzero\" fill-opacity=\"1\" /><path clip-path=\"url(#clip010)\" d=\"M1772.06 1330.12 L1775.78 1330.12 L1775.78 1352.8 L1772.06 1352.8 L1772.06 1330.12 M1772.06 1321.29 L1775.78 1321.29 L1775.78 1326.01 L1772.06 1326.01 L1772.06 1321.29 Z\" fill=\"#000000\" fill-rule=\"nonzero\" fill-opacity=\"1\" /><path clip-path=\"url(#clip010)\" d=\"M1798.04 1330.79 L1798.04 1334.31 Q1796.46 1333.5 1794.76 1333.1 Q1793.06 1332.69 1791.24 1332.69 Q1788.46 1332.69 1787.06 1333.54 Q1785.69 1334.39 1785.69 1336.09 Q1785.69 1337.39 1786.68 1338.14 Q1787.67 1338.87 1790.67 1339.54 L1791.95 1339.82 Q1795.92 1340.67 1797.58 1342.23 Q1799.26 1343.77 1799.26 1346.54 Q1799.26 1349.7 1796.75 1351.55 Q1794.26 1353.39 1789.88 1353.39 Q1788.06 1353.39 1786.07 1353.03 Q1784.11 1352.68 1781.92 1351.97 L1781.92 1348.12 Q1783.99 1349.2 1785.99 1349.74 Q1788 1350.27 1789.96 1350.27 Q1792.59 1350.27 1794.01 1349.38 Q1795.43 1348.47 1795.43 1346.83 Q1795.43 1345.31 1794.4 1344.5 Q1793.38 1343.69 1789.92 1342.94 L1788.62 1342.64 Q1785.16 1341.91 1783.62 1340.41 Q1782.08 1338.89 1782.08 1336.25 Q1782.08 1333.05 1784.35 1331.31 Q1786.62 1329.57 1790.79 1329.57 Q1792.86 1329.57 1794.68 1329.87 Q1796.5 1330.18 1798.04 1330.79 Z\" fill=\"#000000\" fill-rule=\"nonzero\" fill-opacity=\"1\" /><path clip-path=\"url(#clip010)\" d=\"M1808.88 1323.68 L1808.88 1330.12 L1816.56 1330.12 L1816.56 1333.01 L1808.88 1333.01 L1808.88 1345.33 Q1808.88 1348.1 1809.63 1348.89 Q1810.4 1349.68 1812.73 1349.68 L1816.56 1349.68 L1816.56 1352.8 L1812.73 1352.8 Q1808.41 1352.8 1806.77 1351.2 Q1805.13 1349.58 1805.13 1345.33 L1805.13 1333.01 L1802.4 1333.01 L1802.4 1330.12 L1805.13 1330.12 L1805.13 1323.68 L1808.88 1323.68 Z\" fill=\"#000000\" fill-rule=\"nonzero\" fill-opacity=\"1\" /><path clip-path=\"url(#clip010)\" d=\"M1821.46 1330.12 L1825.18 1330.12 L1825.18 1352.8 L1821.46 1352.8 L1821.46 1330.12 M1821.46 1321.29 L1825.18 1321.29 L1825.18 1326.01 L1821.46 1326.01 L1821.46 1321.29 Z\" fill=\"#000000\" fill-rule=\"nonzero\" fill-opacity=\"1\" /><path clip-path=\"url(#clip010)\" d=\"M1851.84 1339.11 L1851.84 1352.8 L1848.11 1352.8 L1848.11 1339.23 Q1848.11 1336.01 1846.86 1334.41 Q1845.6 1332.81 1843.09 1332.81 Q1840.07 1332.81 1838.33 1334.74 Q1836.59 1336.66 1836.59 1339.98 L1836.59 1352.8 L1832.84 1352.8 L1832.84 1330.12 L1836.59 1330.12 L1836.59 1333.64 Q1837.92 1331.6 1839.73 1330.58 Q1841.55 1329.57 1843.92 1329.57 Q1847.83 1329.57 1849.83 1332 Q1851.84 1334.41 1851.84 1339.11 Z\" fill=\"#000000\" fill-rule=\"nonzero\" fill-opacity=\"1\" /><path clip-path=\"url(#clip010)\" d=\"M1878.68 1340.53 L1878.68 1342.35 L1861.54 1342.35 Q1861.78 1346.2 1863.85 1348.23 Q1865.94 1350.23 1869.64 1350.23 Q1871.79 1350.23 1873.79 1349.7 Q1875.82 1349.18 1877.81 1348.12 L1877.81 1351.65 Q1875.8 1352.5 1873.69 1352.94 Q1871.59 1353.39 1869.42 1353.39 Q1863.99 1353.39 1860.81 1350.23 Q1857.65 1347.07 1857.65 1341.68 Q1857.65 1336.11 1860.65 1332.85 Q1863.67 1329.57 1868.77 1329.57 Q1873.35 1329.57 1876 1332.53 Q1878.68 1335.46 1878.68 1340.53 M1874.95 1339.43 Q1874.91 1336.38 1873.23 1334.55 Q1871.57 1332.73 1868.81 1332.73 Q1865.69 1332.73 1863.81 1334.49 Q1861.95 1336.25 1861.66 1339.46 L1874.95 1339.43 Z\" fill=\"#000000\" fill-rule=\"nonzero\" fill-opacity=\"1\" /><path clip-path=\"url(#clip010)\" d=\"M1902.23 1338.36 L1902.23 1349.44 L1908.79 1349.44 Q1912.1 1349.44 1913.68 1348.08 Q1915.28 1346.71 1915.28 1343.89 Q1915.28 1341.06 1913.68 1339.72 Q1912.1 1338.36 1908.79 1338.36 L1902.23 1338.36 M1902.23 1325.93 L1902.23 1335.04 L1908.29 1335.04 Q1911.29 1335.04 1912.74 1333.93 Q1914.22 1332.79 1914.22 1330.48 Q1914.22 1328.19 1912.74 1327.06 Q1911.29 1325.93 1908.29 1325.93 L1902.23 1325.93 M1898.14 1322.56 L1908.59 1322.56 Q1913.27 1322.56 1915.8 1324.51 Q1918.33 1326.45 1918.33 1330.04 Q1918.33 1332.81 1917.04 1334.45 Q1915.74 1336.09 1913.23 1336.5 Q1916.25 1337.15 1917.91 1339.21 Q1919.59 1341.26 1919.59 1344.34 Q1919.59 1348.39 1916.84 1350.6 Q1914.08 1352.8 1909 1352.8 L1898.14 1352.8 L1898.14 1322.56 Z\" fill=\"#000000\" fill-rule=\"nonzero\" fill-opacity=\"1\" /><path clip-path=\"url(#clip010)\" d=\"M1939.58 1333.6 Q1938.95 1333.24 1938.2 1333.07 Q1937.47 1332.89 1936.58 1332.89 Q1933.42 1332.89 1931.72 1334.96 Q1930.04 1337 1930.04 1340.85 L1930.04 1352.8 L1926.29 1352.8 L1926.29 1330.12 L1930.04 1330.12 L1930.04 1333.64 Q1931.22 1331.58 1933.1 1330.58 Q1934.98 1329.57 1937.68 1329.57 Q1938.06 1329.57 1938.53 1329.63 Q1938.99 1329.67 1939.56 1329.77 L1939.58 1333.6 Z\" fill=\"#000000\" fill-rule=\"nonzero\" fill-opacity=\"1\" /><path clip-path=\"url(#clip010)\" d=\"M1951.37 1332.73 Q1948.37 1332.73 1946.63 1335.08 Q1944.89 1337.41 1944.89 1341.48 Q1944.89 1345.55 1946.61 1347.9 Q1948.35 1350.23 1951.37 1350.23 Q1954.35 1350.23 1956.09 1347.88 Q1957.83 1345.53 1957.83 1341.48 Q1957.83 1337.45 1956.09 1335.1 Q1954.35 1332.73 1951.37 1332.73 M1951.37 1329.57 Q1956.23 1329.57 1959.01 1332.73 Q1961.78 1335.89 1961.78 1341.48 Q1961.78 1347.05 1959.01 1350.23 Q1956.23 1353.39 1951.37 1353.39 Q1946.49 1353.39 1943.71 1350.23 Q1940.96 1347.05 1940.96 1341.48 Q1940.96 1335.89 1943.71 1332.73 Q1946.49 1329.57 1951.37 1329.57 Z\" fill=\"#000000\" fill-rule=\"nonzero\" fill-opacity=\"1\" /><path clip-path=\"url(#clip010)\" d=\"M1976.75 1332.73 Q1973.75 1332.73 1972.01 1335.08 Q1970.27 1337.41 1970.27 1341.48 Q1970.27 1345.55 1971.99 1347.9 Q1973.73 1350.23 1976.75 1350.23 Q1979.73 1350.23 1981.47 1347.88 Q1983.21 1345.53 1983.21 1341.48 Q1983.21 1337.45 1981.47 1335.1 Q1979.73 1332.73 1976.75 1332.73 M1976.75 1329.57 Q1981.61 1329.57 1984.38 1332.73 Q1987.16 1335.89 1987.16 1341.48 Q1987.16 1347.05 1984.38 1350.23 Q1981.61 1353.39 1976.75 1353.39 Q1971.87 1353.39 1969.09 1350.23 Q1966.34 1347.05 1966.34 1341.48 Q1966.34 1335.89 1969.09 1332.73 Q1971.87 1329.57 1976.75 1329.57 Z\" fill=\"#000000\" fill-rule=\"nonzero\" fill-opacity=\"1\" /><path clip-path=\"url(#clip010)\" d=\"M1993.2 1321.29 L1996.94 1321.29 L1996.94 1339.9 L2008.06 1330.12 L2012.82 1330.12 L2000.79 1340.73 L2013.33 1352.8 L2008.47 1352.8 L1996.94 1341.72 L1996.94 1352.8 L1993.2 1352.8 L1993.2 1321.29 Z\" fill=\"#000000\" fill-rule=\"nonzero\" fill-opacity=\"1\" /></svg>\n"
            ],
            "text/html": [
              "<?xml version=\"1.0\" encoding=\"utf-8\"?>\n",
              "<svg xmlns=\"http://www.w3.org/2000/svg\" xmlns:xlink=\"http://www.w3.org/1999/xlink\" width=\"600\" height=\"400\" viewBox=\"0 0 2400 1600\">\n",
              "<defs>\n",
              "  <clipPath id=\"clip040\">\n",
              "    <rect x=\"0\" y=\"0\" width=\"2400\" height=\"1600\"/>\n",
              "  </clipPath>\n",
              "</defs>\n",
              "<path clip-path=\"url(#clip040)\" d=\"M0 1600 L2400 1600 L2400 0 L0 0  Z\" fill=\"#ffffff\" fill-rule=\"evenodd\" fill-opacity=\"1\"/>\n",
              "<defs>\n",
              "  <clipPath id=\"clip041\">\n",
              "    <rect x=\"480\" y=\"0\" width=\"1681\" height=\"1600\"/>\n",
              "  </clipPath>\n",
              "</defs>\n",
              "<path clip-path=\"url(#clip040)\" d=\"M259.055 1552.76 L2140.94 1552.76 L2140.94 47.2441 L259.055 47.2441  Z\" fill=\"#ffffff\" fill-rule=\"evenodd\" fill-opacity=\"1\"/>\n",
              "<defs>\n",
              "  <clipPath id=\"clip042\">\n",
              "    <rect x=\"259\" y=\"47\" width=\"1883\" height=\"1507\"/>\n",
              "  </clipPath>\n",
              "</defs>\n",
              "<polyline clip-path=\"url(#clip042)\" style=\"stroke:#000000; stroke-linecap:round; stroke-linejoin:round; stroke-width:4; stroke-opacity:1; fill:none\" points=\"1334.42,262.317 1318.22,275.046 1302.02,287.766 1285.83,300.469 1269.64,313.146 1253.48,325.79 1237.33,338.392 1221.2,350.944 1205.09,363.436 1189.02,375.861 1172.97,388.21 1156.96,400.474 1140.99,412.646 1125.07,424.716 1109.18,436.677 1093.35,448.52 1077.57,460.237 1061.85,471.818 1046.18,483.256 1030.58,494.543 1015.05,505.669 999.586,516.626 984.197,527.407 968.885,538.002 953.655,548.402 938.509,558.601 923.447,568.598 908.467,578.401 893.564,588.018 878.735,597.459 863.976,606.73 849.284,615.842 834.656,624.801 820.088,633.617 805.576,642.299 791.117,650.853 776.707,659.29 762.343,667.617 748.021,675.843 733.738,683.976 719.49,692.025 705.274,699.998 691.087,707.903 676.923,715.75 662.781,723.546 648.657,731.299 634.547,739.019 620.447,746.714 606.354,754.392 592.265,762.061 \"/>\n",
              "<polyline clip-path=\"url(#clip042)\" style=\"stroke:#000000; stroke-linecap:round; stroke-linejoin:round; stroke-width:4; stroke-opacity:1; fill:none\" points=\"632.49,760.659 592.265,762.061 615.278,729.04 \"/>\n",
              "<polyline clip-path=\"url(#clip042)\" style=\"stroke:#000000; stroke-linecap:round; stroke-linejoin:round; stroke-width:4; stroke-opacity:1; fill:none\" points=\"592.265,762.061 606.354,754.392 \"/>\n",
              "<polyline clip-path=\"url(#clip042)\" style=\"stroke:#000000; stroke-linecap:round; stroke-linejoin:round; stroke-width:4; stroke-opacity:1; fill:none\" points=\"1334.42,262.317 1333.14,274.076 1331.85,285.829 1330.55,297.572 1329.24,309.3 1327.92,321.006 1326.57,332.687 1325.21,344.336 1323.81,355.949 1322.38,367.521 1320.92,379.045 1319.42,390.518 1317.88,401.933 1316.28,413.286 1314.64,424.572 1312.94,435.784 1311.18,446.919 1309.36,457.97 1307.47,468.933 1305.51,479.803 1303.48,490.573 1301.37,501.24 1299.17,511.797 1296.89,522.24 1294.51,532.564 1292.05,542.763 1289.48,552.837 1286.83,562.792 1284.09,572.632 1281.27,582.363 1278.37,591.99 1275.39,601.518 1272.34,610.953 1269.23,620.299 1266.05,629.562 1262.81,638.747 1259.52,647.86 1256.18,656.904 1252.79,665.887 1249.35,674.812 1245.88,683.685 1242.37,692.511 1238.83,701.296 1235.26,710.044 1231.67,718.762 1228.06,727.453 1224.43,736.123 1220.79,744.778 1217.14,753.422 1213.49,762.061 \"/>\n",
              "<polyline clip-path=\"url(#clip042)\" style=\"stroke:#000000; stroke-linecap:round; stroke-linejoin:round; stroke-width:4; stroke-opacity:1; fill:none\" points=\"1244.09,735.908 1213.49,762.061 1210.93,721.894 \"/>\n",
              "<polyline clip-path=\"url(#clip042)\" style=\"stroke:#000000; stroke-linecap:round; stroke-linejoin:round; stroke-width:4; stroke-opacity:1; fill:none\" points=\"1213.49,762.061 1217.14,753.422 \"/>\n",
              "<polyline clip-path=\"url(#clip042)\" style=\"stroke:#000000; stroke-linecap:round; stroke-linejoin:round; stroke-width:4; stroke-opacity:1; fill:none\" points=\"1334.42,262.317 1344.89,286.727 1355.34,311.117 1365.79,335.467 1376.23,359.758 1386.65,383.97 1397.04,408.083 1407.41,432.078 1417.74,455.935 1428.03,479.633 1438.28,503.154 1448.49,526.477 1458.64,549.583 1468.73,572.452 1478.77,595.064 1488.74,617.4 1498.63,639.44 1508.45,661.163 1518.19,682.551 1527.85,703.583 1537.41,724.24 1546.88,744.502 1556.25,764.349 1565.52,783.762 1574.68,802.72 1583.72,821.205 1592.66,839.218 1601.48,856.775 1610.2,873.899 1618.82,890.607 1627.34,906.921 1635.77,922.859 1644.12,938.442 1652.39,953.689 1660.58,968.62 1668.71,983.254 1676.76,997.613 1684.76,1011.71 1692.69,1025.58 1700.58,1039.23 1708.42,1052.68 1716.21,1065.95 1723.97,1079.06 1731.7,1092.04 1739.39,1104.89 1747.06,1117.65 1754.72,1130.33 1762.36,1142.95 1769.99,1155.53 1777.61,1168.09 \"/>\n",
              "<polyline clip-path=\"url(#clip042)\" style=\"stroke:#000000; stroke-linecap:round; stroke-linejoin:round; stroke-width:4; stroke-opacity:1; fill:none\" points=\"1774.32,1127.98 1777.61,1168.09 1743.54,1146.66 \"/>\n",
              "<polyline clip-path=\"url(#clip042)\" style=\"stroke:#000000; stroke-linecap:round; stroke-linejoin:round; stroke-width:4; stroke-opacity:1; fill:none\" points=\"1777.61,1168.09 1769.99,1155.53 \"/>\n",
              "<polyline clip-path=\"url(#clip042)\" style=\"stroke:#000000; stroke-linecap:round; stroke-linejoin:round; stroke-width:4; stroke-opacity:1; fill:none\" points=\"527.897,800 556.372,813.092 584.833,826.172 613.265,839.231 641.653,852.257 669.983,865.238 698.241,878.165 726.411,891.025 754.48,903.809 782.433,916.504 810.255,929.1 837.931,941.587 865.449,953.951 892.791,966.184 919.946,978.274 946.896,990.209 973.629,1001.98 1000.13,1013.57 1026.38,1024.98 1052.38,1036.19 1078.09,1047.19 1103.52,1057.97 1128.64,1068.52 1153.44,1078.82 1177.91,1088.87 1202.03,1098.66 1225.8,1108.19 1249.24,1117.46 1272.36,1126.49 1295.18,1135.29 1317.7,1143.87 1339.95,1152.23 1361.93,1160.4 1383.67,1168.39 1405.18,1176.19 1426.47,1183.84 1447.56,1191.32 1468.45,1198.67 1489.18,1205.88 1509.74,1212.97 1530.16,1219.95 1550.45,1226.84 1570.62,1233.63 1590.69,1240.35 1610.67,1247 1630.58,1253.59 1650.43,1260.15 1670.24,1266.66 1690.02,1273.16 1709.79,1279.65 \"/>\n",
              "<polyline clip-path=\"url(#clip042)\" style=\"stroke:#000000; stroke-linecap:round; stroke-linejoin:round; stroke-width:4; stroke-opacity:1; fill:none\" points=\"1681.19,1251.32 1709.79,1279.65 1669.97,1285.52 \"/>\n",
              "<polyline clip-path=\"url(#clip042)\" style=\"stroke:#000000; stroke-linecap:round; stroke-linejoin:round; stroke-width:4; stroke-opacity:1; fill:none\" points=\"1709.79,1279.65 1690.02,1273.16 \"/>\n",
              "<polyline clip-path=\"url(#clip042)\" style=\"stroke:#000000; stroke-linecap:round; stroke-linejoin:round; stroke-width:4; stroke-opacity:1; fill:none\" points=\"1200,800 1214.11,813.255 1228.21,826.495 1242.28,839.707 1256.32,852.876 1270.32,865.988 1284.27,879.029 1298.15,891.984 1311.96,904.839 1325.68,917.58 1339.3,930.193 1352.82,942.663 1366.21,954.976 1379.48,967.118 1392.61,979.075 1405.58,990.831 1418.39,1002.37 1431.04,1013.69 1443.49,1024.76 1455.76,1035.58 1467.82,1046.12 1479.66,1056.38 1491.28,1066.34 1502.66,1075.99 1513.79,1085.3 1524.66,1094.28 1535.28,1102.91 1545.64,1111.22 1555.77,1119.21 1565.67,1126.9 1575.36,1134.31 1584.84,1141.45 1594.13,1148.33 1603.24,1154.96 1612.17,1161.37 1620.94,1167.57 1629.56,1173.56 1638.04,1179.37 1646.39,1185.01 1654.62,1190.49 1662.74,1195.83 1670.77,1201.04 1678.71,1206.14 1686.57,1211.14 1694.37,1216.05 1702.12,1220.89 1709.82,1225.67 1717.49,1230.41 1725.14,1235.12 1732.78,1239.82 \"/>\n",
              "<polyline clip-path=\"url(#clip042)\" style=\"stroke:#000000; stroke-linecap:round; stroke-linejoin:round; stroke-width:4; stroke-opacity:1; fill:none\" points=\"1711.54,1205.63 1732.78,1239.82 1692.69,1236.29 \"/>\n",
              "<polyline clip-path=\"url(#clip042)\" style=\"stroke:#000000; stroke-linecap:round; stroke-linejoin:round; stroke-width:4; stroke-opacity:1; fill:none\" points=\"1732.78,1239.82 1725.14,1235.12 \"/>\n",
              "<path clip-path=\"url(#clip042)\" d=\"M946.071 571.594 L946.071 571.594 L946.071 535.461 L946.071 535.461 L946.071 571.594 L946.071 571.594  Z\" fill=\"#ffffff\" fill-rule=\"evenodd\" fill-opacity=\"1\"/>\n",
              "<polyline clip-path=\"url(#clip042)\" style=\"stroke:#000000; stroke-linecap:round; stroke-linejoin:round; stroke-width:0; stroke-opacity:0; fill:none\" points=\"946.071,571.594 946.071,571.594 946.071,535.461 946.071,571.594 \"/>\n",
              "<path clip-path=\"url(#clip042)\" d=\"M1293.29 555.745 L1293.29 555.745 L1293.29 519.613 L1293.29 519.613 L1293.29 555.745 L1293.29 555.745  Z\" fill=\"#ffffff\" fill-rule=\"evenodd\" fill-opacity=\"1\"/>\n",
              "<polyline clip-path=\"url(#clip042)\" style=\"stroke:#000000; stroke-linecap:round; stroke-linejoin:round; stroke-width:0; stroke-opacity:0; fill:none\" points=\"1293.29,555.745 1293.29,555.745 1293.29,519.613 1293.29,555.745 \"/>\n",
              "<path clip-path=\"url(#clip042)\" d=\"M1579.22 830.089 L1579.22 830.089 L1579.22 793.957 L1579.22 793.957 L1579.22 830.089 L1579.22 830.089  Z\" fill=\"#ffffff\" fill-rule=\"evenodd\" fill-opacity=\"1\"/>\n",
              "<polyline clip-path=\"url(#clip042)\" style=\"stroke:#000000; stroke-linecap:round; stroke-linejoin:round; stroke-width:0; stroke-opacity:0; fill:none\" points=\"1579.22,830.089 1579.22,830.089 1579.22,793.957 1579.22,830.089 \"/>\n",
              "<path clip-path=\"url(#clip042)\" d=\"M1190.02 1111.87 L1190.02 1111.87 L1190.02 1075.74 L1190.02 1075.74 L1190.02 1111.87 L1190.02 1111.87  Z\" fill=\"#ffffff\" fill-rule=\"evenodd\" fill-opacity=\"1\"/>\n",
              "<polyline clip-path=\"url(#clip042)\" style=\"stroke:#000000; stroke-linecap:round; stroke-linejoin:round; stroke-width:0; stroke-opacity:0; fill:none\" points=\"1190.02,1111.87 1190.02,1111.87 1190.02,1075.74 1190.02,1111.87 \"/>\n",
              "<path clip-path=\"url(#clip042)\" d=\"M1519.26 1107.9 L1519.26 1107.9 L1519.26 1071.77 L1519.26 1071.77 L1519.26 1107.9 L1519.26 1107.9  Z\" fill=\"#ffffff\" fill-rule=\"evenodd\" fill-opacity=\"1\"/>\n",
              "<polyline clip-path=\"url(#clip042)\" style=\"stroke:#000000; stroke-linecap:round; stroke-linejoin:round; stroke-width:0; stroke-opacity:0; fill:none\" points=\"1519.26,1107.9 1519.26,1107.9 1519.26,1071.77 1519.26,1107.9 \"/>\n",
              "<path clip-path=\"url(#clip042)\" d=\"M1433.84 262.317 L1384.13 176.215 L1284.71 176.215 L1235 262.317 L1284.71 348.42 L1384.13 348.42 L1433.84 262.317 L1433.84 262.317  Z\" fill=\"#ffffff\" fill-rule=\"evenodd\" fill-opacity=\"1\"/>\n",
              "<polyline clip-path=\"url(#clip042)\" style=\"stroke:#000000; stroke-linecap:round; stroke-linejoin:round; stroke-width:4; stroke-opacity:1; fill:none\" points=\"1433.84,262.317 1384.13,176.215 1284.71,176.215 1235,262.317 1284.71,348.42 1384.13,348.42 1433.84,262.317 \"/>\n",
              "<path clip-path=\"url(#clip042)\" d=\"M332.072 837.939 L723.721 837.939 L723.721 762.061 L332.072 762.061 L332.072 837.939 L332.072 837.939  Z\" fill=\"#ffffff\" fill-rule=\"evenodd\" fill-opacity=\"1\"/>\n",
              "<polyline clip-path=\"url(#clip042)\" style=\"stroke:#000000; stroke-linecap:round; stroke-linejoin:round; stroke-width:4; stroke-opacity:1; fill:none\" points=\"332.072,837.939 723.721,837.939 723.721,762.061 332.072,762.061 332.072,837.939 \"/>\n",
              "<path clip-path=\"url(#clip042)\" d=\"M1004.18 837.939 L1395.82 837.939 L1395.82 762.061 L1004.18 762.061 L1004.18 837.939 L1004.18 837.939  Z\" fill=\"#ffffff\" fill-rule=\"evenodd\" fill-opacity=\"1\"/>\n",
              "<polyline clip-path=\"url(#clip042)\" style=\"stroke:#000000; stroke-linecap:round; stroke-linejoin:round; stroke-width:4; stroke-opacity:1; fill:none\" points=\"1004.18,837.939 1395.82,837.939 1395.82,762.061 1004.18,762.061 1004.18,837.939 \"/>\n",
              "<path clip-path=\"url(#clip042)\" d=\"M2067.93 1337.68 L1970.02 1168.09 L1774.19 1168.09 L1676.28 1337.68 L1774.19 1507.27 L1970.02 1507.27 L2067.93 1337.68 L2067.93 1337.68  Z\" fill=\"#ffffff\" fill-rule=\"evenodd\" fill-opacity=\"1\"/>\n",
              "<polyline clip-path=\"url(#clip042)\" style=\"stroke:#000000; stroke-linecap:round; stroke-linejoin:round; stroke-width:4; stroke-opacity:1; fill:none\" points=\"2067.93,1337.68 1970.02,1168.09 1774.19,1168.09 1676.28,1337.68 1774.19,1507.27 1970.02,1507.27 2067.93,1337.68 \"/>\n",
              "<circle clip-path=\"url(#clip042)\" style=\"fill:#ffffff; stroke:none; fill-opacity:0\" cx=\"1334.42\" cy=\"262.317\" r=\"2\"/>\n",
              "<circle clip-path=\"url(#clip042)\" style=\"fill:#ffffff; stroke:none; fill-opacity:0\" cx=\"527.897\" cy=\"800\" r=\"2\"/>\n",
              "<circle clip-path=\"url(#clip042)\" style=\"fill:#ffffff; stroke:none; fill-opacity:0\" cx=\"1200\" cy=\"800\" r=\"2\"/>\n",
              "<circle clip-path=\"url(#clip042)\" style=\"fill:#ffffff; stroke:none; fill-opacity:0\" cx=\"1872.1\" cy=\"1337.68\" r=\"2\"/>\n",
              "<path clip-path=\"url(#clip040)\" d=\"M1278.5 250.559 L1278.5 261.922 L1283.64 261.922 Q1286.5 261.922 1288.06 260.444 Q1289.62 258.965 1289.62 256.231 Q1289.62 253.517 1288.06 252.038 Q1286.5 250.559 1283.64 250.559 L1278.5 250.559 M1274.41 247.197 L1283.64 247.197 Q1288.73 247.197 1291.32 249.506 Q1293.93 251.795 1293.93 256.231 Q1293.93 260.707 1291.32 262.996 Q1288.73 265.284 1283.64 265.284 L1278.5 265.284 L1278.5 277.437 L1274.41 277.437 L1274.41 247.197 Z\" fill=\"#000000\" fill-rule=\"nonzero\" fill-opacity=\"1\" /><path clip-path=\"url(#clip040)\" d=\"M1299.26 245.921 L1302.99 245.921 L1302.99 277.437 L1299.26 277.437 L1299.26 245.921 Z\" fill=\"#000000\" fill-rule=\"nonzero\" fill-opacity=\"1\" /><path clip-path=\"url(#clip040)\" d=\"M1321.09 266.034 Q1316.58 266.034 1314.83 267.067 Q1313.09 268.1 1313.09 270.591 Q1313.09 272.576 1314.39 273.751 Q1315.71 274.905 1317.95 274.905 Q1321.05 274.905 1322.92 272.718 Q1324.8 270.51 1324.8 266.864 L1324.8 266.034 L1321.09 266.034 M1328.53 264.495 L1328.53 277.437 L1324.8 277.437 L1324.8 273.994 Q1323.52 276.06 1321.62 277.052 Q1319.72 278.025 1316.96 278.025 Q1313.48 278.025 1311.41 276.08 Q1309.37 274.115 1309.37 270.834 Q1309.37 267.006 1311.92 265.062 Q1314.49 263.117 1319.57 263.117 L1324.8 263.117 L1324.8 262.753 Q1324.8 260.18 1323.1 258.783 Q1321.42 257.365 1318.36 257.365 Q1316.41 257.365 1314.57 257.831 Q1312.73 258.297 1311.03 259.228 L1311.03 255.785 Q1313.07 254.995 1315 254.61 Q1316.92 254.205 1318.74 254.205 Q1323.67 254.205 1326.1 256.757 Q1328.53 259.309 1328.53 264.495 Z\" fill=\"#000000\" fill-rule=\"nonzero\" fill-opacity=\"1\" /><path clip-path=\"url(#clip040)\" d=\"M1355.06 263.745 L1355.06 277.437 L1351.33 277.437 L1351.33 263.867 Q1351.33 260.646 1350.08 259.046 Q1348.82 257.446 1346.31 257.446 Q1343.29 257.446 1341.55 259.37 Q1339.81 261.294 1339.81 264.616 L1339.81 277.437 L1336.06 277.437 L1336.06 254.752 L1339.81 254.752 L1339.81 258.276 Q1341.15 256.231 1342.95 255.218 Q1344.77 254.205 1347.14 254.205 Q1351.05 254.205 1353.05 256.636 Q1355.06 259.046 1355.06 263.745 Z\" fill=\"#000000\" fill-rule=\"nonzero\" fill-opacity=\"1\" /><path clip-path=\"url(#clip040)\" d=\"M1366.18 248.311 L1366.18 254.752 L1373.86 254.752 L1373.86 257.649 L1366.18 257.649 L1366.18 269.963 Q1366.18 272.738 1366.93 273.528 Q1367.7 274.318 1370.03 274.318 L1373.86 274.318 L1373.86 277.437 L1370.03 277.437 Q1365.71 277.437 1364.07 275.837 Q1362.43 274.217 1362.43 269.963 L1362.43 257.649 L1359.7 257.649 L1359.7 254.752 L1362.43 254.752 L1362.43 248.311 L1366.18 248.311 Z\" fill=\"#000000\" fill-rule=\"nonzero\" fill-opacity=\"1\" /><path clip-path=\"url(#clip040)\" d=\"M1393.22 255.421 L1393.22 258.945 Q1391.64 258.135 1389.94 257.73 Q1388.24 257.324 1386.41 257.324 Q1383.64 257.324 1382.24 258.175 Q1380.86 259.026 1380.86 260.727 Q1380.86 262.024 1381.86 262.773 Q1382.85 263.502 1385.85 264.17 L1387.12 264.454 Q1391.09 265.305 1392.75 266.864 Q1394.43 268.404 1394.43 271.179 Q1394.43 274.338 1391.92 276.181 Q1389.43 278.025 1385.06 278.025 Q1383.23 278.025 1381.25 277.66 Q1379.28 277.316 1377.1 276.607 L1377.1 272.758 Q1379.16 273.832 1381.17 274.379 Q1383.17 274.905 1385.14 274.905 Q1387.77 274.905 1389.19 274.014 Q1390.61 273.103 1390.61 271.462 Q1390.61 269.943 1389.57 269.133 Q1388.56 268.323 1385.1 267.573 L1383.8 267.269 Q1380.34 266.54 1378.8 265.041 Q1377.26 263.522 1377.26 260.889 Q1377.26 257.689 1379.53 255.947 Q1381.8 254.205 1385.97 254.205 Q1388.03 254.205 1389.86 254.509 Q1391.68 254.813 1393.22 255.421 Z\" fill=\"#000000\" fill-rule=\"nonzero\" fill-opacity=\"1\" /><path clip-path=\"url(#clip040)\" d=\"M367.724 784.88 L371.815 784.88 L371.815 811.677 L386.54 811.677 L386.54 815.12 L367.724 815.12 L367.724 784.88 Z\" fill=\"#000000\" fill-rule=\"nonzero\" fill-opacity=\"1\" /><path clip-path=\"url(#clip040)\" d=\"M400.982 803.717 Q396.465 803.717 394.723 804.75 Q392.981 805.783 392.981 808.274 Q392.981 810.259 394.277 811.434 Q395.594 812.588 397.842 812.588 Q400.941 812.588 402.805 810.401 Q404.688 808.193 404.688 804.547 L404.688 803.717 L400.982 803.717 M408.415 802.177 L408.415 815.12 L404.688 815.12 L404.688 811.677 Q403.412 813.743 401.508 814.735 Q399.604 815.707 396.85 815.707 Q393.366 815.707 391.3 813.763 Q389.254 811.798 389.254 808.517 Q389.254 804.689 391.806 802.744 Q394.379 800.8 399.463 800.8 L404.688 800.8 L404.688 800.435 Q404.688 797.863 402.987 796.466 Q401.306 795.048 398.247 795.048 Q396.303 795.048 394.46 795.514 Q392.617 795.979 390.915 796.911 L390.915 793.468 Q392.961 792.678 394.885 792.293 Q396.809 791.888 398.632 791.888 Q403.554 791.888 405.985 794.44 Q408.415 796.992 408.415 802.177 Z\" fill=\"#000000\" fill-rule=\"nonzero\" fill-opacity=\"1\" /><path clip-path=\"url(#clip040)\" d=\"M434.949 801.428 L434.949 815.12 L431.222 815.12 L431.222 801.549 Q431.222 798.329 429.966 796.729 Q428.71 795.129 426.199 795.129 Q423.181 795.129 421.439 797.053 Q419.697 798.977 419.697 802.299 L419.697 815.12 L415.95 815.12 L415.95 792.435 L419.697 792.435 L419.697 795.959 Q421.034 793.914 422.836 792.901 Q424.659 791.888 427.029 791.888 Q430.938 791.888 432.943 794.319 Q434.949 796.729 434.949 801.428 Z\" fill=\"#000000\" fill-rule=\"nonzero\" fill-opacity=\"1\" /><path clip-path=\"url(#clip040)\" d=\"M457.31 795.878 L457.31 783.604 L461.036 783.604 L461.036 815.12 L457.31 815.12 L457.31 811.717 Q456.135 813.743 454.332 814.735 Q452.55 815.707 450.038 815.707 Q445.926 815.707 443.334 812.426 Q440.762 809.145 440.762 803.798 Q440.762 798.451 443.334 795.169 Q445.926 791.888 450.038 791.888 Q452.55 791.888 454.332 792.881 Q456.135 793.853 457.31 795.878 M444.61 803.798 Q444.61 807.909 446.291 810.259 Q447.992 812.588 450.95 812.588 Q453.907 812.588 455.608 810.259 Q457.31 807.909 457.31 803.798 Q457.31 799.686 455.608 797.357 Q453.907 795.007 450.95 795.007 Q447.992 795.007 446.291 797.357 Q444.61 799.686 444.61 803.798 Z\" fill=\"#000000\" fill-rule=\"nonzero\" fill-opacity=\"1\" /><path clip-path=\"url(#clip040)\" d=\"M477.868 784.88 L503.449 784.88 L503.449 788.323 L492.714 788.323 L492.714 815.12 L488.603 815.12 L488.603 788.323 L477.868 788.323 L477.868 784.88 Z\" fill=\"#000000\" fill-rule=\"nonzero\" fill-opacity=\"1\" /><path clip-path=\"url(#clip040)\" d=\"M514.285 795.919 Q513.658 795.554 512.908 795.392 Q512.179 795.21 511.288 795.21 Q508.128 795.21 506.427 797.276 Q504.746 799.321 504.746 803.17 L504.746 815.12 L500.999 815.12 L500.999 792.435 L504.746 792.435 L504.746 795.959 Q505.92 793.893 507.804 792.901 Q509.688 791.888 512.382 791.888 Q512.766 791.888 513.232 791.949 Q513.698 791.989 514.265 792.091 L514.285 795.919 Z\" fill=\"#000000\" fill-rule=\"nonzero\" fill-opacity=\"1\" /><path clip-path=\"url(#clip040)\" d=\"M536.687 802.846 L536.687 804.669 L519.552 804.669 Q519.795 808.517 521.861 810.542 Q523.947 812.548 527.653 812.548 Q529.8 812.548 531.806 812.021 Q533.831 811.494 535.816 810.441 L535.816 813.965 Q533.811 814.816 531.704 815.262 Q529.598 815.707 527.431 815.707 Q522.002 815.707 518.822 812.548 Q515.663 809.388 515.663 804 Q515.663 798.43 518.66 795.169 Q521.678 791.888 526.783 791.888 Q531.36 791.888 534.013 794.845 Q536.687 797.782 536.687 802.846 M532.96 801.752 Q532.92 798.694 531.239 796.871 Q529.578 795.048 526.823 795.048 Q523.704 795.048 521.82 796.81 Q519.957 798.572 519.673 801.772 L532.96 801.752 Z\" fill=\"#000000\" fill-rule=\"nonzero\" fill-opacity=\"1\" /><path clip-path=\"url(#clip040)\" d=\"M553.113 803.717 Q548.597 803.717 546.855 804.75 Q545.113 805.783 545.113 808.274 Q545.113 810.259 546.409 811.434 Q547.726 812.588 549.974 812.588 Q553.073 812.588 554.936 810.401 Q556.82 808.193 556.82 804.547 L556.82 803.717 L553.113 803.717 M560.547 802.177 L560.547 815.12 L556.82 815.12 L556.82 811.677 Q555.544 813.743 553.64 814.735 Q551.736 815.707 548.981 815.707 Q545.498 815.707 543.432 813.763 Q541.386 811.798 541.386 808.517 Q541.386 804.689 543.938 802.744 Q546.51 800.8 551.594 800.8 L556.82 800.8 L556.82 800.435 Q556.82 797.863 555.119 796.466 Q553.437 795.048 550.379 795.048 Q548.435 795.048 546.591 795.514 Q544.748 795.979 543.047 796.911 L543.047 793.468 Q545.093 792.678 547.017 792.293 Q548.941 791.888 550.764 791.888 Q555.686 791.888 558.116 794.44 Q560.547 796.992 560.547 802.177 Z\" fill=\"#000000\" fill-rule=\"nonzero\" fill-opacity=\"1\" /><path clip-path=\"url(#clip040)\" d=\"M571.91 785.994 L571.91 792.435 L579.586 792.435 L579.586 795.331 L571.91 795.331 L571.91 807.646 Q571.91 810.421 572.659 811.211 Q573.429 812.001 575.758 812.001 L579.586 812.001 L579.586 815.12 L575.758 815.12 Q571.444 815.12 569.803 813.52 Q568.163 811.9 568.163 807.646 L568.163 795.331 L565.428 795.331 L565.428 792.435 L568.163 792.435 L568.163 785.994 L571.91 785.994 Z\" fill=\"#000000\" fill-rule=\"nonzero\" fill-opacity=\"1\" /><path clip-path=\"url(#clip040)\" d=\"M602.15 796.79 Q603.547 794.278 605.492 793.083 Q607.436 791.888 610.069 791.888 Q613.614 791.888 615.538 794.379 Q617.462 796.85 617.462 801.428 L617.462 815.12 L613.715 815.12 L613.715 801.549 Q613.715 798.288 612.56 796.709 Q611.406 795.129 609.036 795.129 Q606.14 795.129 604.459 797.053 Q602.777 798.977 602.777 802.299 L602.777 815.12 L599.03 815.12 L599.03 801.549 Q599.03 798.268 597.876 796.709 Q596.721 795.129 594.311 795.129 Q591.455 795.129 589.774 797.073 Q588.093 798.997 588.093 802.299 L588.093 815.12 L584.346 815.12 L584.346 792.435 L588.093 792.435 L588.093 795.959 Q589.369 793.873 591.151 792.881 Q592.934 791.888 595.385 791.888 Q597.856 791.888 599.577 793.144 Q601.319 794.4 602.15 796.79 Z\" fill=\"#000000\" fill-rule=\"nonzero\" fill-opacity=\"1\" /><path clip-path=\"url(#clip040)\" d=\"M644.299 802.846 L644.299 804.669 L627.164 804.669 Q627.407 808.517 629.473 810.542 Q631.559 812.548 635.266 812.548 Q637.413 812.548 639.418 812.021 Q641.443 811.494 643.428 810.441 L643.428 813.965 Q641.423 814.816 639.317 815.262 Q637.21 815.707 635.043 815.707 Q629.615 815.707 626.435 812.548 Q623.275 809.388 623.275 804 Q623.275 798.43 626.273 795.169 Q629.291 791.888 634.395 791.888 Q638.972 791.888 641.626 794.845 Q644.299 797.782 644.299 802.846 M640.572 801.752 Q640.532 798.694 638.851 796.871 Q637.19 795.048 634.435 795.048 Q631.316 795.048 629.432 796.81 Q627.569 798.572 627.285 801.772 L640.572 801.752 Z\" fill=\"#000000\" fill-rule=\"nonzero\" fill-opacity=\"1\" /><path clip-path=\"url(#clip040)\" d=\"M669.273 801.428 L669.273 815.12 L665.546 815.12 L665.546 801.549 Q665.546 798.329 664.29 796.729 Q663.035 795.129 660.523 795.129 Q657.505 795.129 655.763 797.053 Q654.021 798.977 654.021 802.299 L654.021 815.12 L650.274 815.12 L650.274 792.435 L654.021 792.435 L654.021 795.959 Q655.358 793.914 657.161 792.901 Q658.984 791.888 661.354 791.888 Q665.263 791.888 667.268 794.319 Q669.273 796.729 669.273 801.428 Z\" fill=\"#000000\" fill-rule=\"nonzero\" fill-opacity=\"1\" /><path clip-path=\"url(#clip040)\" d=\"M680.393 785.994 L680.393 792.435 L688.069 792.435 L688.069 795.331 L680.393 795.331 L680.393 807.646 Q680.393 810.421 681.142 811.211 Q681.912 812.001 684.241 812.001 L688.069 812.001 L688.069 815.12 L684.241 815.12 Q679.927 815.12 678.286 813.52 Q676.646 811.9 676.646 807.646 L676.646 795.331 L673.911 795.331 L673.911 792.435 L676.646 792.435 L676.646 785.994 L680.393 785.994 Z\" fill=\"#000000\" fill-rule=\"nonzero\" fill-opacity=\"1\" /><path clip-path=\"url(#clip040)\" d=\"M1053.33 787.209 L1053.33 791.523 Q1051.26 789.599 1048.91 788.647 Q1046.58 787.695 1043.95 787.695 Q1038.76 787.695 1036.01 790.875 Q1033.25 794.035 1033.25 800.03 Q1033.25 806.005 1036.01 809.185 Q1038.76 812.345 1043.95 812.345 Q1046.58 812.345 1048.91 811.393 Q1051.26 810.441 1053.33 808.517 L1053.33 812.791 Q1051.18 814.249 1048.77 814.978 Q1046.38 815.707 1043.71 815.707 Q1036.84 815.707 1032.89 811.515 Q1028.94 807.302 1028.94 800.03 Q1028.94 792.739 1032.89 788.546 Q1036.84 784.333 1043.71 784.333 Q1046.42 784.333 1048.81 785.062 Q1051.22 785.771 1053.33 787.209 Z\" fill=\"#000000\" fill-rule=\"nonzero\" fill-opacity=\"1\" /><path clip-path=\"url(#clip040)\" d=\"M1078.34 801.428 L1078.34 815.12 L1074.61 815.12 L1074.61 801.549 Q1074.61 798.329 1073.36 796.729 Q1072.1 795.129 1069.59 795.129 Q1066.57 795.129 1064.83 797.053 Q1063.09 798.977 1063.09 802.299 L1063.09 815.12 L1059.34 815.12 L1059.34 783.604 L1063.09 783.604 L1063.09 795.959 Q1064.43 793.914 1066.23 792.901 Q1068.05 791.888 1070.42 791.888 Q1074.33 791.888 1076.34 794.319 Q1078.34 796.729 1078.34 801.428 Z\" fill=\"#000000\" fill-rule=\"nonzero\" fill-opacity=\"1\" /><path clip-path=\"url(#clip040)\" d=\"M1105.18 802.846 L1105.18 804.669 L1088.04 804.669 Q1088.29 808.517 1090.35 810.542 Q1092.44 812.548 1096.14 812.548 Q1098.29 812.548 1100.3 812.021 Q1102.32 811.494 1104.31 810.441 L1104.31 813.965 Q1102.3 814.816 1100.2 815.262 Q1098.09 815.707 1095.92 815.707 Q1090.49 815.707 1087.31 812.548 Q1084.15 809.388 1084.15 804 Q1084.15 798.43 1087.15 795.169 Q1090.17 791.888 1095.27 791.888 Q1099.85 791.888 1102.5 794.845 Q1105.18 797.782 1105.18 802.846 M1101.45 801.752 Q1101.41 798.694 1099.73 796.871 Q1098.07 795.048 1095.31 795.048 Q1092.2 795.048 1090.31 796.81 Q1088.45 798.572 1088.16 801.772 L1101.45 801.752 Z\" fill=\"#000000\" fill-rule=\"nonzero\" fill-opacity=\"1\" /><path clip-path=\"url(#clip040)\" d=\"M1128.96 796.79 Q1130.35 794.278 1132.3 793.083 Q1134.24 791.888 1136.88 791.888 Q1140.42 791.888 1142.35 794.379 Q1144.27 796.85 1144.27 801.428 L1144.27 815.12 L1140.52 815.12 L1140.52 801.549 Q1140.52 798.288 1139.37 796.709 Q1138.21 795.129 1135.84 795.129 Q1132.95 795.129 1131.27 797.053 Q1129.59 798.977 1129.59 802.299 L1129.59 815.12 L1125.84 815.12 L1125.84 801.549 Q1125.84 798.268 1124.68 796.709 Q1123.53 795.129 1121.12 795.129 Q1118.26 795.129 1116.58 797.073 Q1114.9 798.997 1114.9 802.299 L1114.9 815.12 L1111.15 815.12 L1111.15 792.435 L1114.9 792.435 L1114.9 795.959 Q1116.18 793.873 1117.96 792.881 Q1119.74 791.888 1122.19 791.888 Q1124.66 791.888 1126.38 793.144 Q1128.13 794.4 1128.96 796.79 Z\" fill=\"#000000\" fill-rule=\"nonzero\" fill-opacity=\"1\" /><path clip-path=\"url(#clip040)\" d=\"M1160.86 784.88 L1186.44 784.88 L1186.44 788.323 L1175.7 788.323 L1175.7 815.12 L1171.59 815.12 L1171.59 788.323 L1160.86 788.323 L1160.86 784.88 Z\" fill=\"#000000\" fill-rule=\"nonzero\" fill-opacity=\"1\" /><path clip-path=\"url(#clip040)\" d=\"M1197.28 795.919 Q1196.65 795.554 1195.9 795.392 Q1195.17 795.21 1194.28 795.21 Q1191.12 795.21 1189.42 797.276 Q1187.74 799.321 1187.74 803.17 L1187.74 815.12 L1183.99 815.12 L1183.99 792.435 L1187.74 792.435 L1187.74 795.959 Q1188.91 793.893 1190.79 792.901 Q1192.68 791.888 1195.37 791.888 Q1195.76 791.888 1196.22 791.949 Q1196.69 791.989 1197.26 792.091 L1197.28 795.919 Z\" fill=\"#000000\" fill-rule=\"nonzero\" fill-opacity=\"1\" /><path clip-path=\"url(#clip040)\" d=\"M1219.68 802.846 L1219.68 804.669 L1202.54 804.669 Q1202.78 808.517 1204.85 810.542 Q1206.94 812.548 1210.64 812.548 Q1212.79 812.548 1214.8 812.021 Q1216.82 811.494 1218.81 810.441 L1218.81 813.965 Q1216.8 814.816 1214.69 815.262 Q1212.59 815.707 1210.42 815.707 Q1204.99 815.707 1201.81 812.548 Q1198.65 809.388 1198.65 804 Q1198.65 798.43 1201.65 795.169 Q1204.67 791.888 1209.77 791.888 Q1214.35 791.888 1217 794.845 Q1219.68 797.782 1219.68 802.846 M1215.95 801.752 Q1215.91 798.694 1214.23 796.871 Q1212.57 795.048 1209.81 795.048 Q1206.69 795.048 1204.81 796.81 Q1202.95 798.572 1202.66 801.772 L1215.95 801.752 Z\" fill=\"#000000\" fill-rule=\"nonzero\" fill-opacity=\"1\" /><path clip-path=\"url(#clip040)\" d=\"M1236.1 803.717 Q1231.59 803.717 1229.85 804.75 Q1228.1 805.783 1228.1 808.274 Q1228.1 810.259 1229.4 811.434 Q1230.72 812.588 1232.96 812.588 Q1236.06 812.588 1237.93 810.401 Q1239.81 808.193 1239.81 804.547 L1239.81 803.717 L1236.1 803.717 M1243.54 802.177 L1243.54 815.12 L1239.81 815.12 L1239.81 811.677 Q1238.53 813.743 1236.63 814.735 Q1234.73 815.707 1231.97 815.707 Q1228.49 815.707 1226.42 813.763 Q1224.38 811.798 1224.38 808.517 Q1224.38 804.689 1226.93 802.744 Q1229.5 800.8 1234.58 800.8 L1239.81 800.8 L1239.81 800.435 Q1239.81 797.863 1238.11 796.466 Q1236.43 795.048 1233.37 795.048 Q1231.42 795.048 1229.58 795.514 Q1227.74 795.979 1226.04 796.911 L1226.04 793.468 Q1228.08 792.678 1230.01 792.293 Q1231.93 791.888 1233.75 791.888 Q1238.68 791.888 1241.11 794.44 Q1243.54 796.992 1243.54 802.177 Z\" fill=\"#000000\" fill-rule=\"nonzero\" fill-opacity=\"1\" /><path clip-path=\"url(#clip040)\" d=\"M1254.9 785.994 L1254.9 792.435 L1262.58 792.435 L1262.58 795.331 L1254.9 795.331 L1254.9 807.646 Q1254.9 810.421 1255.65 811.211 Q1256.42 812.001 1258.75 812.001 L1262.58 812.001 L1262.58 815.12 L1258.75 815.12 Q1254.43 815.12 1252.79 813.52 Q1251.15 811.9 1251.15 807.646 L1251.15 795.331 L1248.42 795.331 L1248.42 792.435 L1251.15 792.435 L1251.15 785.994 L1254.9 785.994 Z\" fill=\"#000000\" fill-rule=\"nonzero\" fill-opacity=\"1\" /><path clip-path=\"url(#clip040)\" d=\"M1285.14 796.79 Q1286.54 794.278 1288.48 793.083 Q1290.43 791.888 1293.06 791.888 Q1296.6 791.888 1298.53 794.379 Q1300.45 796.85 1300.45 801.428 L1300.45 815.12 L1296.71 815.12 L1296.71 801.549 Q1296.71 798.288 1295.55 796.709 Q1294.4 795.129 1292.03 795.129 Q1289.13 795.129 1287.45 797.053 Q1285.77 798.977 1285.77 802.299 L1285.77 815.12 L1282.02 815.12 L1282.02 801.549 Q1282.02 798.268 1280.87 796.709 Q1279.71 795.129 1277.3 795.129 Q1274.45 795.129 1272.76 797.073 Q1271.08 798.997 1271.08 802.299 L1271.08 815.12 L1267.34 815.12 L1267.34 792.435 L1271.08 792.435 L1271.08 795.959 Q1272.36 793.873 1274.14 792.881 Q1275.92 791.888 1278.37 791.888 Q1280.85 791.888 1282.57 793.144 Q1284.31 794.4 1285.14 796.79 Z\" fill=\"#000000\" fill-rule=\"nonzero\" fill-opacity=\"1\" /><path clip-path=\"url(#clip040)\" d=\"M1327.29 802.846 L1327.29 804.669 L1310.15 804.669 Q1310.4 808.517 1312.46 810.542 Q1314.55 812.548 1318.26 812.548 Q1320.4 812.548 1322.41 812.021 Q1324.43 811.494 1326.42 810.441 L1326.42 813.965 Q1324.41 814.816 1322.31 815.262 Q1320.2 815.707 1318.03 815.707 Q1312.61 815.707 1309.43 812.548 Q1306.27 809.388 1306.27 804 Q1306.27 798.43 1309.26 795.169 Q1312.28 791.888 1317.39 791.888 Q1321.96 791.888 1324.62 794.845 Q1327.29 797.782 1327.29 802.846 M1323.56 801.752 Q1323.52 798.694 1321.84 796.871 Q1320.18 795.048 1317.43 795.048 Q1314.31 795.048 1312.42 796.81 Q1310.56 798.572 1310.28 801.772 L1323.56 801.752 Z\" fill=\"#000000\" fill-rule=\"nonzero\" fill-opacity=\"1\" /><path clip-path=\"url(#clip040)\" d=\"M1352.26 801.428 L1352.26 815.12 L1348.54 815.12 L1348.54 801.549 Q1348.54 798.329 1347.28 796.729 Q1346.02 795.129 1343.51 795.129 Q1340.5 795.129 1338.75 797.053 Q1337.01 798.977 1337.01 802.299 L1337.01 815.12 L1333.26 815.12 L1333.26 792.435 L1337.01 792.435 L1337.01 795.959 Q1338.35 793.914 1340.15 792.901 Q1341.97 791.888 1344.34 791.888 Q1348.25 791.888 1350.26 794.319 Q1352.26 796.729 1352.26 801.428 Z\" fill=\"#000000\" fill-rule=\"nonzero\" fill-opacity=\"1\" /><path clip-path=\"url(#clip040)\" d=\"M1363.38 785.994 L1363.38 792.435 L1371.06 792.435 L1371.06 795.331 L1363.38 795.331 L1363.38 807.646 Q1363.38 810.421 1364.13 811.211 Q1364.9 812.001 1367.23 812.001 L1371.06 812.001 L1371.06 815.12 L1367.23 815.12 Q1362.92 815.12 1361.28 813.52 Q1359.64 811.9 1359.64 807.646 L1359.64 795.331 L1356.9 795.331 L1356.9 792.435 L1359.64 792.435 L1359.64 785.994 L1363.38 785.994 Z\" fill=\"#000000\" fill-rule=\"nonzero\" fill-opacity=\"1\" /><path clip-path=\"url(#clip040)\" d=\"M1734.97 1325.93 L1734.97 1337.29 L1740.11 1337.29 Q1742.97 1337.29 1744.53 1335.81 Q1746.09 1334.33 1746.09 1331.6 Q1746.09 1328.88 1744.53 1327.4 Q1742.97 1325.93 1740.11 1325.93 L1734.97 1325.93 M1730.88 1322.56 L1740.11 1322.56 Q1745.2 1322.56 1747.79 1324.87 Q1750.4 1327.16 1750.4 1331.6 Q1750.4 1336.07 1747.79 1338.36 Q1745.2 1340.65 1740.11 1340.65 L1734.97 1340.65 L1734.97 1352.8 L1730.88 1352.8 L1730.88 1322.56 Z\" fill=\"#000000\" fill-rule=\"nonzero\" fill-opacity=\"1\" /><path clip-path=\"url(#clip040)\" d=\"M1768.15 1333.6 Q1767.52 1333.24 1766.77 1333.07 Q1766.04 1332.89 1765.15 1332.89 Q1761.99 1332.89 1760.29 1334.96 Q1758.61 1337 1758.61 1340.85 L1758.61 1352.8 L1754.86 1352.8 L1754.86 1330.12 L1758.61 1330.12 L1758.61 1333.64 Q1759.78 1331.58 1761.67 1330.58 Q1763.55 1329.57 1766.24 1329.57 Q1766.63 1329.57 1767.09 1329.63 Q1767.56 1329.67 1768.13 1329.77 L1768.15 1333.6 Z\" fill=\"#000000\" fill-rule=\"nonzero\" fill-opacity=\"1\" /><path clip-path=\"url(#clip040)\" d=\"M1772.06 1330.12 L1775.78 1330.12 L1775.78 1352.8 L1772.06 1352.8 L1772.06 1330.12 M1772.06 1321.29 L1775.78 1321.29 L1775.78 1326.01 L1772.06 1326.01 L1772.06 1321.29 Z\" fill=\"#000000\" fill-rule=\"nonzero\" fill-opacity=\"1\" /><path clip-path=\"url(#clip040)\" d=\"M1798.04 1330.79 L1798.04 1334.31 Q1796.46 1333.5 1794.76 1333.1 Q1793.06 1332.69 1791.24 1332.69 Q1788.46 1332.69 1787.06 1333.54 Q1785.69 1334.39 1785.69 1336.09 Q1785.69 1337.39 1786.68 1338.14 Q1787.67 1338.87 1790.67 1339.54 L1791.95 1339.82 Q1795.92 1340.67 1797.58 1342.23 Q1799.26 1343.77 1799.26 1346.54 Q1799.26 1349.7 1796.75 1351.55 Q1794.26 1353.39 1789.88 1353.39 Q1788.06 1353.39 1786.07 1353.03 Q1784.11 1352.68 1781.92 1351.97 L1781.92 1348.12 Q1783.99 1349.2 1785.99 1349.74 Q1788 1350.27 1789.96 1350.27 Q1792.59 1350.27 1794.01 1349.38 Q1795.43 1348.47 1795.43 1346.83 Q1795.43 1345.31 1794.4 1344.5 Q1793.38 1343.69 1789.92 1342.94 L1788.62 1342.64 Q1785.16 1341.91 1783.62 1340.41 Q1782.08 1338.89 1782.08 1336.25 Q1782.08 1333.05 1784.35 1331.31 Q1786.62 1329.57 1790.79 1329.57 Q1792.86 1329.57 1794.68 1329.87 Q1796.5 1330.18 1798.04 1330.79 Z\" fill=\"#000000\" fill-rule=\"nonzero\" fill-opacity=\"1\" /><path clip-path=\"url(#clip040)\" d=\"M1808.88 1323.68 L1808.88 1330.12 L1816.56 1330.12 L1816.56 1333.01 L1808.88 1333.01 L1808.88 1345.33 Q1808.88 1348.1 1809.63 1348.89 Q1810.4 1349.68 1812.73 1349.68 L1816.56 1349.68 L1816.56 1352.8 L1812.73 1352.8 Q1808.41 1352.8 1806.77 1351.2 Q1805.13 1349.58 1805.13 1345.33 L1805.13 1333.01 L1802.4 1333.01 L1802.4 1330.12 L1805.13 1330.12 L1805.13 1323.68 L1808.88 1323.68 Z\" fill=\"#000000\" fill-rule=\"nonzero\" fill-opacity=\"1\" /><path clip-path=\"url(#clip040)\" d=\"M1821.46 1330.12 L1825.18 1330.12 L1825.18 1352.8 L1821.46 1352.8 L1821.46 1330.12 M1821.46 1321.29 L1825.18 1321.29 L1825.18 1326.01 L1821.46 1326.01 L1821.46 1321.29 Z\" fill=\"#000000\" fill-rule=\"nonzero\" fill-opacity=\"1\" /><path clip-path=\"url(#clip040)\" d=\"M1851.84 1339.11 L1851.84 1352.8 L1848.11 1352.8 L1848.11 1339.23 Q1848.11 1336.01 1846.86 1334.41 Q1845.6 1332.81 1843.09 1332.81 Q1840.07 1332.81 1838.33 1334.74 Q1836.59 1336.66 1836.59 1339.98 L1836.59 1352.8 L1832.84 1352.8 L1832.84 1330.12 L1836.59 1330.12 L1836.59 1333.64 Q1837.92 1331.6 1839.73 1330.58 Q1841.55 1329.57 1843.92 1329.57 Q1847.83 1329.57 1849.83 1332 Q1851.84 1334.41 1851.84 1339.11 Z\" fill=\"#000000\" fill-rule=\"nonzero\" fill-opacity=\"1\" /><path clip-path=\"url(#clip040)\" d=\"M1878.68 1340.53 L1878.68 1342.35 L1861.54 1342.35 Q1861.78 1346.2 1863.85 1348.23 Q1865.94 1350.23 1869.64 1350.23 Q1871.79 1350.23 1873.79 1349.7 Q1875.82 1349.18 1877.81 1348.12 L1877.81 1351.65 Q1875.8 1352.5 1873.69 1352.94 Q1871.59 1353.39 1869.42 1353.39 Q1863.99 1353.39 1860.81 1350.23 Q1857.65 1347.07 1857.65 1341.68 Q1857.65 1336.11 1860.65 1332.85 Q1863.67 1329.57 1868.77 1329.57 Q1873.35 1329.57 1876 1332.53 Q1878.68 1335.46 1878.68 1340.53 M1874.95 1339.43 Q1874.91 1336.38 1873.23 1334.55 Q1871.57 1332.73 1868.81 1332.73 Q1865.69 1332.73 1863.81 1334.49 Q1861.95 1336.25 1861.66 1339.46 L1874.95 1339.43 Z\" fill=\"#000000\" fill-rule=\"nonzero\" fill-opacity=\"1\" /><path clip-path=\"url(#clip040)\" d=\"M1902.23 1338.36 L1902.23 1349.44 L1908.79 1349.44 Q1912.1 1349.44 1913.68 1348.08 Q1915.28 1346.71 1915.28 1343.89 Q1915.28 1341.06 1913.68 1339.72 Q1912.1 1338.36 1908.79 1338.36 L1902.23 1338.36 M1902.23 1325.93 L1902.23 1335.04 L1908.29 1335.04 Q1911.29 1335.04 1912.74 1333.93 Q1914.22 1332.79 1914.22 1330.48 Q1914.22 1328.19 1912.74 1327.06 Q1911.29 1325.93 1908.29 1325.93 L1902.23 1325.93 M1898.14 1322.56 L1908.59 1322.56 Q1913.27 1322.56 1915.8 1324.51 Q1918.33 1326.45 1918.33 1330.04 Q1918.33 1332.81 1917.04 1334.45 Q1915.74 1336.09 1913.23 1336.5 Q1916.25 1337.15 1917.91 1339.21 Q1919.59 1341.26 1919.59 1344.34 Q1919.59 1348.39 1916.84 1350.6 Q1914.08 1352.8 1909 1352.8 L1898.14 1352.8 L1898.14 1322.56 Z\" fill=\"#000000\" fill-rule=\"nonzero\" fill-opacity=\"1\" /><path clip-path=\"url(#clip040)\" d=\"M1939.58 1333.6 Q1938.95 1333.24 1938.2 1333.07 Q1937.47 1332.89 1936.58 1332.89 Q1933.42 1332.89 1931.72 1334.96 Q1930.04 1337 1930.04 1340.85 L1930.04 1352.8 L1926.29 1352.8 L1926.29 1330.12 L1930.04 1330.12 L1930.04 1333.64 Q1931.22 1331.58 1933.1 1330.58 Q1934.98 1329.57 1937.68 1329.57 Q1938.06 1329.57 1938.53 1329.63 Q1938.99 1329.67 1939.56 1329.77 L1939.58 1333.6 Z\" fill=\"#000000\" fill-rule=\"nonzero\" fill-opacity=\"1\" /><path clip-path=\"url(#clip040)\" d=\"M1951.37 1332.73 Q1948.37 1332.73 1946.63 1335.08 Q1944.89 1337.41 1944.89 1341.48 Q1944.89 1345.55 1946.61 1347.9 Q1948.35 1350.23 1951.37 1350.23 Q1954.35 1350.23 1956.09 1347.88 Q1957.83 1345.53 1957.83 1341.48 Q1957.83 1337.45 1956.09 1335.1 Q1954.35 1332.73 1951.37 1332.73 M1951.37 1329.57 Q1956.23 1329.57 1959.01 1332.73 Q1961.78 1335.89 1961.78 1341.48 Q1961.78 1347.05 1959.01 1350.23 Q1956.23 1353.39 1951.37 1353.39 Q1946.49 1353.39 1943.71 1350.23 Q1940.96 1347.05 1940.96 1341.48 Q1940.96 1335.89 1943.71 1332.73 Q1946.49 1329.57 1951.37 1329.57 Z\" fill=\"#000000\" fill-rule=\"nonzero\" fill-opacity=\"1\" /><path clip-path=\"url(#clip040)\" d=\"M1976.75 1332.73 Q1973.75 1332.73 1972.01 1335.08 Q1970.27 1337.41 1970.27 1341.48 Q1970.27 1345.55 1971.99 1347.9 Q1973.73 1350.23 1976.75 1350.23 Q1979.73 1350.23 1981.47 1347.88 Q1983.21 1345.53 1983.21 1341.48 Q1983.21 1337.45 1981.47 1335.1 Q1979.73 1332.73 1976.75 1332.73 M1976.75 1329.57 Q1981.61 1329.57 1984.38 1332.73 Q1987.16 1335.89 1987.16 1341.48 Q1987.16 1347.05 1984.38 1350.23 Q1981.61 1353.39 1976.75 1353.39 Q1971.87 1353.39 1969.09 1350.23 Q1966.34 1347.05 1966.34 1341.48 Q1966.34 1335.89 1969.09 1332.73 Q1971.87 1329.57 1976.75 1329.57 Z\" fill=\"#000000\" fill-rule=\"nonzero\" fill-opacity=\"1\" /><path clip-path=\"url(#clip040)\" d=\"M1993.2 1321.29 L1996.94 1321.29 L1996.94 1339.9 L2008.06 1330.12 L2012.82 1330.12 L2000.79 1340.73 L2013.33 1352.8 L2008.47 1352.8 L1996.94 1341.72 L1996.94 1352.8 L1993.2 1352.8 L1993.2 1321.29 Z\" fill=\"#000000\" fill-rule=\"nonzero\" fill-opacity=\"1\" /></svg>\n"
            ]
          },
          "metadata": {},
          "output_type": "display_data"
        }
      ],
      "source": [
        "A = [0 1 1 1;\n",
        "    0 0 0 1;\n",
        "    0 0 0 1;\n",
        "    0 0 0 0]\n",
        "\n",
        "names = [\"Plants\", \"Land Treatment\", \"Chem Treatment\", \"Pristine Brook\"]\n",
        "# modify this dictionary to add labels\n",
        "edge_labels = Dict((1, 2) => \"\", (1,3) => \"\", (1, 4) => \"\",(2, 4) => \"\",(3, 4) => \"\")\n",
        "shapes=[:hexagon, :rect, :rect, :hexagon]\n",
        "xpos = [0, -1.5, -0.25, 1]\n",
        "ypos = [1, 0, 0, -1]\n",
        "p = graphplot(A, names=names,edgelabel=edge_labels, markersize=0.15, markershapes=shapes, markercolor=:white, x=xpos, y=ypos)\n",
        "display(p)"
      ]
    },
    {
      "cell_type": "markdown",
      "id": "35a80f6a-0862-4469-bd1d-e57f3e7762d3",
      "metadata": {},
      "source": [
        "**In this problem**:\n",
        "\n",
        "-   Formulate a mathematical model for the treatment cost and the amount\n",
        "    of YUK that will be discharged into Pristine Brook based on the\n",
        "    wastewater allocations. This is best done with some equations and\n",
        "    supporting text explaining the derivation. Make sure you include, as\n",
        "    additional equations in the model, any needed constraints on\n",
        "    relevant values. You can find some basics on writing mathematical\n",
        "    equations using the LaTeX typesetting syntax\n",
        "    [here](https://viveks.me/environmental-systems-analysis/tutorials/latex-notebook.qmd),\n",
        "    and a cheatsheet with LaTeX commands can be found on the course\n",
        "    website’s [Resources\n",
        "    page](https://viveks.me/environmental-systems-analysis/resources/markdown.qmd).\n",
        "\n",
        "-   Implement your systems model as a Julia function which computes the\n",
        "    resulting YUK concentration and cost for a particular treatment\n",
        "    plan. You can return multiple values from a function with a\n",
        "    [tuple](https://docs.julialang.org/en/v1/manual/functions/#Tuples-1),\n",
        "    as in:\n",
        "\n",
        "    ``` {julia}\n",
        "    function multiple_return_values(x, y)\n",
        "        return (x+y, x*y)\n",
        "    end\n",
        "\n",
        "    a, b = multiple_return_values(2, 5)\n",
        "    @show a;\n",
        "    @show b;\n",
        "    ```\n",
        "\n",
        "    To evalute the function over vectors of inputs, you can *broadcast*\n",
        "    the function by adding a decimal `.` before the function arguments\n",
        "    and accessing the resulting values by writing a *comprehension* to\n",
        "    loop over the individual outputs in the vector:\n",
        "\n",
        "    ``` {julia}\n",
        "    x = [1, 2, 3, 4, 5]\n",
        "    y = [6, 7, 8, 9, 10]\n",
        "\n",
        "    output = multiple_return_values.(x, y)\n",
        "    a = [out[1] for out in output]\n",
        "    b = [out[2] for out in output]\n",
        "    @show a;\n",
        "    @show b;\n",
        "    ```\n",
        "\n",
        "    Make sure you comment your code appropriately to make it clear what\n",
        "    is going on and why.\n",
        "\n",
        "-   Use your function to experiment with some different combinations of\n",
        "    wastewater discharge and treatment and plot the results of these\n",
        "    experiments. Can you find one that satisfies the YUK effluent\n",
        "    standard (plot this as well as a dashed red line)? What was the\n",
        "    cost? What can you say about the tradeoff between treatment cost and\n",
        "    YUK concentration? You don’t have to find an “optimal” solution to\n",
        "    this problem, but what do you think would be needed to find a better\n",
        "    solution?\n",
        "\n",
        "### Problem 5 (10 points)\n",
        "\n",
        "**This problem is only required for students in BEE 5750**."
      ]
    },
    {
      "cell_type": "markdown",
      "id": "82577723",
      "metadata": {},
      "source": [
        "When calculating efficiency, checmical treatment need to have 40 m^3 or less to remove at least 80% of yuk which is what the government \n",
        "wanted.\n",
        "I'm calculating the cost first, and for land disposal, the cost will be (amount of waste in m3)^2/20, and chemical treatment will be (amount of waste in m3)*1.5\n",
        "then I'm calculating the efficiency, for land fill it's 0.8*x, and for chemical treatment the fomula given is e = 1-0.005*(amount of waste in m3).\n",
        "therefore by creating the function, we can get the cost of each plan. However, once chemical treatment is under 40m3, it'll be more efficient, therefore we're able to dump\n",
        "some waste directly to meet the standard.\n",
        "I use number of value to findout that when we have 60 at land fill, and 40 at chemical treatment, we'll minimize the cost of the plan\n",
        "I tried to graph out the plot, and y1 is landfill, y2 is chemcial"
      ]
    },
    {
      "cell_type": "code",
      "execution_count": 32,
      "id": "286bda56",
      "metadata": {},
      "outputs": [
        {
          "name": "stdout",
          "output_type": "stream",
          "text": [
            "a = [180.0, 211.25, 245.0, 281.25, 320.0, 361.25, 405.0, 451.25, 500.0]\n",
            "b = [60.0, 52.5, 45.0, 37.5, 30.0, 22.5, 15.0, 7.5, 0.0]\n",
            "c = [12.0, 13.0, 14.0, 15.0, 16.0, 17.0, 18.0, 19.0, 20.0]\n",
            "d = [8.0, 6.125, 4.5, 3.125, 2.0, 1.125, 0.5, 0.125, 0.0]\n"
          ]
        },
        {
          "data": {
            "image/png": "[encoded data removed]",
            "image/svg+xml": [
              "<?xml version=\"1.0\" encoding=\"utf-8\"?>\n",
              "<svg xmlns=\"http://www.w3.org/2000/svg\" xmlns:xlink=\"http://www.w3.org/1999/xlink\" width=\"600\" height=\"400\" viewBox=\"0 0 2400 1600\">\n",
              "<defs>\n",
              "  <clipPath id=\"clip540\">\n",
              "    <rect x=\"0\" y=\"0\" width=\"2400\" height=\"1600\"/>\n",
              "  </clipPath>\n",
              "</defs>\n",
              "<path clip-path=\"url(#clip540)\" d=\"M0 1600 L2400 1600 L2400 0 L0 0  Z\" fill=\"#ffffff\" fill-rule=\"evenodd\" fill-opacity=\"1\"/>\n",
              "<defs>\n",
              "  <clipPath id=\"clip541\">\n",
              "    <rect x=\"480\" y=\"0\" width=\"1681\" height=\"1600\"/>\n",
              "  </clipPath>\n",
              "</defs>\n",
              "<path clip-path=\"url(#clip540)\" d=\"M172.015 1486.45 L2352.76 1486.45 L2352.76 47.2441 L172.015 47.2441  Z\" fill=\"#ffffff\" fill-rule=\"evenodd\" fill-opacity=\"1\"/>\n",
              "<defs>\n",
              "  <clipPath id=\"clip542\">\n",
              "    <rect x=\"172\" y=\"47\" width=\"2182\" height=\"1440\"/>\n",
              "  </clipPath>\n",
              "</defs>\n",
              "<polyline clip-path=\"url(#clip542)\" style=\"stroke:#000000; stroke-linecap:round; stroke-linejoin:round; stroke-width:2; stroke-opacity:0.1; fill:none\" points=\"490.897,1486.45 490.897,47.2441 \"/>\n",
              "<polyline clip-path=\"url(#clip542)\" style=\"stroke:#000000; stroke-linecap:round; stroke-linejoin:round; stroke-width:2; stroke-opacity:0.1; fill:none\" points=\"1005.22,1486.45 1005.22,47.2441 \"/>\n",
              "<polyline clip-path=\"url(#clip542)\" style=\"stroke:#000000; stroke-linecap:round; stroke-linejoin:round; stroke-width:2; stroke-opacity:0.1; fill:none\" points=\"1519.55,1486.45 1519.55,47.2441 \"/>\n",
              "<polyline clip-path=\"url(#clip542)\" style=\"stroke:#000000; stroke-linecap:round; stroke-linejoin:round; stroke-width:2; stroke-opacity:0.1; fill:none\" points=\"2033.87,1486.45 2033.87,47.2441 \"/>\n",
              "<polyline clip-path=\"url(#clip540)\" style=\"stroke:#000000; stroke-linecap:round; stroke-linejoin:round; stroke-width:4; stroke-opacity:1; fill:none\" points=\"172.015,1486.45 2352.76,1486.45 \"/>\n",
              "<polyline clip-path=\"url(#clip540)\" style=\"stroke:#000000; stroke-linecap:round; stroke-linejoin:round; stroke-width:4; stroke-opacity:1; fill:none\" points=\"490.897,1486.45 490.897,1467.55 \"/>\n",
              "<polyline clip-path=\"url(#clip540)\" style=\"stroke:#000000; stroke-linecap:round; stroke-linejoin:round; stroke-width:4; stroke-opacity:1; fill:none\" points=\"1005.22,1486.45 1005.22,1467.55 \"/>\n",
              "<polyline clip-path=\"url(#clip540)\" style=\"stroke:#000000; stroke-linecap:round; stroke-linejoin:round; stroke-width:4; stroke-opacity:1; fill:none\" points=\"1519.55,1486.45 1519.55,1467.55 \"/>\n",
              "<polyline clip-path=\"url(#clip540)\" style=\"stroke:#000000; stroke-linecap:round; stroke-linejoin:round; stroke-width:4; stroke-opacity:1; fill:none\" points=\"2033.87,1486.45 2033.87,1467.55 \"/>\n",
              "<path clip-path=\"url(#clip540)\" d=\"M485.55 1544.91 L501.869 1544.91 L501.869 1548.85 L479.925 1548.85 L479.925 1544.91 Q482.587 1542.16 487.17 1537.53 Q491.776 1532.88 492.957 1531.53 Q495.202 1529.01 496.082 1527.27 Q496.985 1525.51 496.985 1523.82 Q496.985 1521.07 495.04 1519.33 Q493.119 1517.6 490.017 1517.6 Q487.818 1517.6 485.364 1518.36 Q482.934 1519.13 480.156 1520.68 L480.156 1515.95 Q482.98 1514.82 485.434 1514.24 Q487.888 1513.66 489.925 1513.66 Q495.295 1513.66 498.489 1516.35 Q501.684 1519.03 501.684 1523.52 Q501.684 1525.65 500.874 1527.57 Q500.087 1529.47 497.98 1532.07 Q497.401 1532.74 494.3 1535.95 Q491.198 1539.15 485.55 1544.91 Z\" fill=\"#000000\" fill-rule=\"nonzero\" fill-opacity=\"1\" /><path clip-path=\"url(#clip540)\" d=\"M1008.23 1518.36 L996.426 1536.81 L1008.23 1536.81 L1008.23 1518.36 M1007 1514.29 L1012.88 1514.29 L1012.88 1536.81 L1017.82 1536.81 L1017.82 1540.7 L1012.88 1540.7 L1012.88 1548.85 L1008.23 1548.85 L1008.23 1540.7 L992.63 1540.7 L992.63 1536.19 L1007 1514.29 Z\" fill=\"#000000\" fill-rule=\"nonzero\" fill-opacity=\"1\" /><path clip-path=\"url(#clip540)\" d=\"M1519.95 1529.7 Q1516.81 1529.7 1514.95 1531.86 Q1513.12 1534.01 1513.12 1537.76 Q1513.12 1541.49 1514.95 1543.66 Q1516.81 1545.82 1519.95 1545.82 Q1523.1 1545.82 1524.93 1543.66 Q1526.78 1541.49 1526.78 1537.76 Q1526.78 1534.01 1524.93 1531.86 Q1523.1 1529.7 1519.95 1529.7 M1529.24 1515.05 L1529.24 1519.31 Q1527.48 1518.48 1525.67 1518.04 Q1523.89 1517.6 1522.13 1517.6 Q1517.5 1517.6 1515.05 1520.72 Q1512.62 1523.85 1512.27 1530.17 Q1513.63 1528.15 1515.69 1527.09 Q1517.75 1526 1520.23 1526 Q1525.44 1526 1528.45 1529.17 Q1531.48 1532.32 1531.48 1537.76 Q1531.48 1543.08 1528.33 1546.3 Q1525.18 1549.52 1519.95 1549.52 Q1513.96 1549.52 1510.79 1544.94 Q1507.62 1540.33 1507.62 1531.6 Q1507.62 1523.41 1511.5 1518.55 Q1515.39 1513.66 1521.94 1513.66 Q1523.7 1513.66 1525.49 1514.01 Q1527.29 1514.36 1529.24 1515.05 Z\" fill=\"#000000\" fill-rule=\"nonzero\" fill-opacity=\"1\" /><path clip-path=\"url(#clip540)\" d=\"M2033.87 1532.44 Q2030.54 1532.44 2028.62 1534.22 Q2026.72 1536 2026.72 1539.13 Q2026.72 1542.25 2028.62 1544.03 Q2030.54 1545.82 2033.87 1545.82 Q2037.21 1545.82 2039.13 1544.03 Q2041.05 1542.23 2041.05 1539.13 Q2041.05 1536 2039.13 1534.22 Q2037.23 1532.44 2033.87 1532.44 M2029.2 1530.45 Q2026.19 1529.7 2024.5 1527.64 Q2022.83 1525.58 2022.83 1522.62 Q2022.83 1518.48 2025.77 1516.07 Q2028.74 1513.66 2033.87 1513.66 Q2039.04 1513.66 2041.98 1516.07 Q2044.92 1518.48 2044.92 1522.62 Q2044.92 1525.58 2043.23 1527.64 Q2041.56 1529.7 2038.57 1530.45 Q2041.95 1531.23 2043.83 1533.52 Q2045.73 1535.82 2045.73 1539.13 Q2045.73 1544.15 2042.65 1546.83 Q2039.59 1549.52 2033.87 1549.52 Q2028.16 1549.52 2025.08 1546.83 Q2022.02 1544.15 2022.02 1539.13 Q2022.02 1535.82 2023.92 1533.52 Q2025.82 1531.23 2029.2 1530.45 M2027.49 1523.06 Q2027.49 1525.75 2029.15 1527.25 Q2030.84 1528.76 2033.87 1528.76 Q2036.88 1528.76 2038.57 1527.25 Q2040.29 1525.75 2040.29 1523.06 Q2040.29 1520.38 2038.57 1518.87 Q2036.88 1517.37 2033.87 1517.37 Q2030.84 1517.37 2029.15 1518.87 Q2027.49 1520.38 2027.49 1523.06 Z\" fill=\"#000000\" fill-rule=\"nonzero\" fill-opacity=\"1\" /><polyline clip-path=\"url(#clip542)\" style=\"stroke:#000000; stroke-linecap:round; stroke-linejoin:round; stroke-width:2; stroke-opacity:0.1; fill:none\" points=\"172.015,1445.72 2352.76,1445.72 \"/>\n",
              "<polyline clip-path=\"url(#clip542)\" style=\"stroke:#000000; stroke-linecap:round; stroke-linejoin:round; stroke-width:2; stroke-opacity:0.1; fill:none\" points=\"172.015,1174.17 2352.76,1174.17 \"/>\n",
              "<polyline clip-path=\"url(#clip542)\" style=\"stroke:#000000; stroke-linecap:round; stroke-linejoin:round; stroke-width:2; stroke-opacity:0.1; fill:none\" points=\"172.015,902.62 2352.76,902.62 \"/>\n",
              "<polyline clip-path=\"url(#clip542)\" style=\"stroke:#000000; stroke-linecap:round; stroke-linejoin:round; stroke-width:2; stroke-opacity:0.1; fill:none\" points=\"172.015,631.072 2352.76,631.072 \"/>\n",
              "<polyline clip-path=\"url(#clip542)\" style=\"stroke:#000000; stroke-linecap:round; stroke-linejoin:round; stroke-width:2; stroke-opacity:0.1; fill:none\" points=\"172.015,359.524 2352.76,359.524 \"/>\n",
              "<polyline clip-path=\"url(#clip542)\" style=\"stroke:#000000; stroke-linecap:round; stroke-linejoin:round; stroke-width:2; stroke-opacity:0.1; fill:none\" points=\"172.015,87.9763 2352.76,87.9763 \"/>\n",
              "<polyline clip-path=\"url(#clip540)\" style=\"stroke:#000000; stroke-linecap:round; stroke-linejoin:round; stroke-width:4; stroke-opacity:1; fill:none\" points=\"172.015,1486.45 172.015,47.2441 \"/>\n",
              "<polyline clip-path=\"url(#clip540)\" style=\"stroke:#000000; stroke-linecap:round; stroke-linejoin:round; stroke-width:4; stroke-opacity:1; fill:none\" points=\"172.015,1445.72 190.912,1445.72 \"/>\n",
              "<polyline clip-path=\"url(#clip540)\" style=\"stroke:#000000; stroke-linecap:round; stroke-linejoin:round; stroke-width:4; stroke-opacity:1; fill:none\" points=\"172.015,1174.17 190.912,1174.17 \"/>\n",
              "<polyline clip-path=\"url(#clip540)\" style=\"stroke:#000000; stroke-linecap:round; stroke-linejoin:round; stroke-width:4; stroke-opacity:1; fill:none\" points=\"172.015,902.62 190.912,902.62 \"/>\n",
              "<polyline clip-path=\"url(#clip540)\" style=\"stroke:#000000; stroke-linecap:round; stroke-linejoin:round; stroke-width:4; stroke-opacity:1; fill:none\" points=\"172.015,631.072 190.912,631.072 \"/>\n",
              "<polyline clip-path=\"url(#clip540)\" style=\"stroke:#000000; stroke-linecap:round; stroke-linejoin:round; stroke-width:4; stroke-opacity:1; fill:none\" points=\"172.015,359.524 190.912,359.524 \"/>\n",
              "<polyline clip-path=\"url(#clip540)\" style=\"stroke:#000000; stroke-linecap:round; stroke-linejoin:round; stroke-width:4; stroke-opacity:1; fill:none\" points=\"172.015,87.9763 190.912,87.9763 \"/>\n",
              "<path clip-path=\"url(#clip540)\" d=\"M124.07 1431.51 Q120.459 1431.51 118.631 1435.08 Q116.825 1438.62 116.825 1445.75 Q116.825 1452.86 118.631 1456.42 Q120.459 1459.96 124.07 1459.96 Q127.705 1459.96 129.51 1456.42 Q131.339 1452.86 131.339 1445.75 Q131.339 1438.62 129.51 1435.08 Q127.705 1431.51 124.07 1431.51 M124.07 1427.81 Q129.881 1427.81 132.936 1432.42 Q136.015 1437 136.015 1445.75 Q136.015 1454.48 132.936 1459.08 Q129.881 1463.67 124.07 1463.67 Q118.26 1463.67 115.182 1459.08 Q112.126 1454.48 112.126 1445.75 Q112.126 1437 115.182 1432.42 Q118.26 1427.81 124.07 1427.81 Z\" fill=\"#000000\" fill-rule=\"nonzero\" fill-opacity=\"1\" /><path clip-path=\"url(#clip540)\" d=\"M54.5569 1187.51 L62.1958 1187.51 L62.1958 1161.15 L53.8856 1162.81 L53.8856 1158.55 L62.1495 1156.89 L66.8254 1156.89 L66.8254 1187.51 L74.4642 1187.51 L74.4642 1191.45 L54.5569 1191.45 L54.5569 1187.51 Z\" fill=\"#000000\" fill-rule=\"nonzero\" fill-opacity=\"1\" /><path clip-path=\"url(#clip540)\" d=\"M93.9086 1159.97 Q90.2975 1159.97 88.4688 1163.53 Q86.6632 1167.07 86.6632 1174.2 Q86.6632 1181.31 88.4688 1184.87 Q90.2975 1188.42 93.9086 1188.42 Q97.5428 1188.42 99.3483 1184.87 Q101.177 1181.31 101.177 1174.2 Q101.177 1167.07 99.3483 1163.53 Q97.5428 1159.97 93.9086 1159.97 M93.9086 1156.26 Q99.7187 1156.26 102.774 1160.87 Q105.853 1165.45 105.853 1174.2 Q105.853 1182.93 102.774 1187.54 Q99.7187 1192.12 93.9086 1192.12 Q88.0984 1192.12 85.0197 1187.54 Q81.9642 1182.93 81.9642 1174.2 Q81.9642 1165.45 85.0197 1160.87 Q88.0984 1156.26 93.9086 1156.26 Z\" fill=\"#000000\" fill-rule=\"nonzero\" fill-opacity=\"1\" /><path clip-path=\"url(#clip540)\" d=\"M124.07 1159.97 Q120.459 1159.97 118.631 1163.53 Q116.825 1167.07 116.825 1174.2 Q116.825 1181.31 118.631 1184.87 Q120.459 1188.42 124.07 1188.42 Q127.705 1188.42 129.51 1184.87 Q131.339 1181.31 131.339 1174.2 Q131.339 1167.07 129.51 1163.53 Q127.705 1159.97 124.07 1159.97 M124.07 1156.26 Q129.881 1156.26 132.936 1160.87 Q136.015 1165.45 136.015 1174.2 Q136.015 1182.93 132.936 1187.54 Q129.881 1192.12 124.07 1192.12 Q118.26 1192.12 115.182 1187.54 Q112.126 1182.93 112.126 1174.2 Q112.126 1165.45 115.182 1160.87 Q118.26 1156.26 124.07 1156.26 Z\" fill=\"#000000\" fill-rule=\"nonzero\" fill-opacity=\"1\" /><path clip-path=\"url(#clip540)\" d=\"M57.7745 915.965 L74.0939 915.965 L74.0939 919.9 L52.1495 919.9 L52.1495 915.965 Q54.8115 913.21 59.3949 908.581 Q64.0013 903.928 65.1819 902.585 Q67.4272 900.062 68.3068 898.326 Q69.2096 896.567 69.2096 894.877 Q69.2096 892.122 67.2652 890.386 Q65.3439 888.65 62.2421 888.65 Q60.043 888.65 57.5893 889.414 Q55.1588 890.178 52.381 891.729 L52.381 887.007 Q55.2051 885.872 57.6588 885.294 Q60.1124 884.715 62.1495 884.715 Q67.5198 884.715 70.7142 887.4 Q73.9087 890.085 73.9087 894.576 Q73.9087 896.706 73.0985 898.627 Q72.3115 900.525 70.205 903.118 Q69.6263 903.789 66.5245 907.006 Q63.4226 910.201 57.7745 915.965 Z\" fill=\"#000000\" fill-rule=\"nonzero\" fill-opacity=\"1\" /><path clip-path=\"url(#clip540)\" d=\"M93.9086 888.419 Q90.2975 888.419 88.4688 891.983 Q86.6632 895.525 86.6632 902.655 Q86.6632 909.761 88.4688 913.326 Q90.2975 916.868 93.9086 916.868 Q97.5428 916.868 99.3483 913.326 Q101.177 909.761 101.177 902.655 Q101.177 895.525 99.3483 891.983 Q97.5428 888.419 93.9086 888.419 M93.9086 884.715 Q99.7187 884.715 102.774 889.321 Q105.853 893.905 105.853 902.655 Q105.853 911.381 102.774 915.988 Q99.7187 920.571 93.9086 920.571 Q88.0984 920.571 85.0197 915.988 Q81.9642 911.381 81.9642 902.655 Q81.9642 893.905 85.0197 889.321 Q88.0984 884.715 93.9086 884.715 Z\" fill=\"#000000\" fill-rule=\"nonzero\" fill-opacity=\"1\" /><path clip-path=\"url(#clip540)\" d=\"M124.07 888.419 Q120.459 888.419 118.631 891.983 Q116.825 895.525 116.825 902.655 Q116.825 909.761 118.631 913.326 Q120.459 916.868 124.07 916.868 Q127.705 916.868 129.51 913.326 Q131.339 909.761 131.339 902.655 Q131.339 895.525 129.51 891.983 Q127.705 888.419 124.07 888.419 M124.07 884.715 Q129.881 884.715 132.936 889.321 Q136.015 893.905 136.015 902.655 Q136.015 911.381 132.936 915.988 Q129.881 920.571 124.07 920.571 Q118.26 920.571 115.182 915.988 Q112.126 911.381 112.126 902.655 Q112.126 893.905 115.182 889.321 Q118.26 884.715 124.07 884.715 Z\" fill=\"#000000\" fill-rule=\"nonzero\" fill-opacity=\"1\" /><path clip-path=\"url(#clip540)\" d=\"M67.9133 629.718 Q71.2698 630.435 73.1448 632.704 Q75.0429 634.972 75.0429 638.306 Q75.0429 643.422 71.5244 646.222 Q68.0059 649.023 61.5245 649.023 Q59.3486 649.023 57.0338 648.584 Q54.7421 648.167 52.2884 647.31 L52.2884 642.797 Q54.2328 643.931 56.5477 644.509 Q58.8625 645.088 61.3856 645.088 Q65.7837 645.088 68.0754 643.352 Q70.3902 641.616 70.3902 638.306 Q70.3902 635.25 68.2374 633.537 Q66.1078 631.801 62.2884 631.801 L58.2606 631.801 L58.2606 627.959 L62.4735 627.959 Q65.9226 627.959 67.7513 626.593 Q69.58 625.204 69.58 622.611 Q69.58 619.949 67.6819 618.537 Q65.8069 617.102 62.2884 617.102 Q60.3671 617.102 58.168 617.519 Q55.969 617.936 53.3301 618.815 L53.3301 614.649 Q55.9921 613.908 58.3069 613.537 Q60.6449 613.167 62.705 613.167 Q68.0291 613.167 71.1309 615.598 Q74.2327 618.005 74.2327 622.125 Q74.2327 624.996 72.5892 626.986 Q70.9457 628.954 67.9133 629.718 Z\" fill=\"#000000\" fill-rule=\"nonzero\" fill-opacity=\"1\" /><path clip-path=\"url(#clip540)\" d=\"M93.9086 616.871 Q90.2975 616.871 88.4688 620.436 Q86.6632 623.977 86.6632 631.107 Q86.6632 638.213 88.4688 641.778 Q90.2975 645.32 93.9086 645.32 Q97.5428 645.32 99.3483 641.778 Q101.177 638.213 101.177 631.107 Q101.177 623.977 99.3483 620.436 Q97.5428 616.871 93.9086 616.871 M93.9086 613.167 Q99.7187 613.167 102.774 617.774 Q105.853 622.357 105.853 631.107 Q105.853 639.834 102.774 644.44 Q99.7187 649.023 93.9086 649.023 Q88.0984 649.023 85.0197 644.44 Q81.9642 639.834 81.9642 631.107 Q81.9642 622.357 85.0197 617.774 Q88.0984 613.167 93.9086 613.167 Z\" fill=\"#000000\" fill-rule=\"nonzero\" fill-opacity=\"1\" /><path clip-path=\"url(#clip540)\" d=\"M124.07 616.871 Q120.459 616.871 118.631 620.436 Q116.825 623.977 116.825 631.107 Q116.825 638.213 118.631 641.778 Q120.459 645.32 124.07 645.32 Q127.705 645.32 129.51 641.778 Q131.339 638.213 131.339 631.107 Q131.339 623.977 129.51 620.436 Q127.705 616.871 124.07 616.871 M124.07 613.167 Q129.881 613.167 132.936 617.774 Q136.015 622.357 136.015 631.107 Q136.015 639.834 132.936 644.44 Q129.881 649.023 124.07 649.023 Q118.26 649.023 115.182 644.44 Q112.126 639.834 112.126 631.107 Q112.126 622.357 115.182 617.774 Q118.26 613.167 124.07 613.167 Z\" fill=\"#000000\" fill-rule=\"nonzero\" fill-opacity=\"1\" /><path clip-path=\"url(#clip540)\" d=\"M66.5939 346.318 L54.7884 364.767 L66.5939 364.767 L66.5939 346.318 M65.367 342.244 L71.2466 342.244 L71.2466 364.767 L76.1772 364.767 L76.1772 368.656 L71.2466 368.656 L71.2466 376.804 L66.5939 376.804 L66.5939 368.656 L50.9921 368.656 L50.9921 364.142 L65.367 342.244 Z\" fill=\"#000000\" fill-rule=\"nonzero\" fill-opacity=\"1\" /><path clip-path=\"url(#clip540)\" d=\"M93.9086 345.323 Q90.2975 345.323 88.4688 348.888 Q86.6632 352.429 86.6632 359.559 Q86.6632 366.665 88.4688 370.23 Q90.2975 373.772 93.9086 373.772 Q97.5428 373.772 99.3483 370.23 Q101.177 366.665 101.177 359.559 Q101.177 352.429 99.3483 348.888 Q97.5428 345.323 93.9086 345.323 M93.9086 341.619 Q99.7187 341.619 102.774 346.226 Q105.853 350.809 105.853 359.559 Q105.853 368.286 102.774 372.892 Q99.7187 377.475 93.9086 377.475 Q88.0984 377.475 85.0197 372.892 Q81.9642 368.286 81.9642 359.559 Q81.9642 350.809 85.0197 346.226 Q88.0984 341.619 93.9086 341.619 Z\" fill=\"#000000\" fill-rule=\"nonzero\" fill-opacity=\"1\" /><path clip-path=\"url(#clip540)\" d=\"M124.07 345.323 Q120.459 345.323 118.631 348.888 Q116.825 352.429 116.825 359.559 Q116.825 366.665 118.631 370.23 Q120.459 373.772 124.07 373.772 Q127.705 373.772 129.51 370.23 Q131.339 366.665 131.339 359.559 Q131.339 352.429 129.51 348.888 Q127.705 345.323 124.07 345.323 M124.07 341.619 Q129.881 341.619 132.936 346.226 Q136.015 350.809 136.015 359.559 Q136.015 368.286 132.936 372.892 Q129.881 377.475 124.07 377.475 Q118.26 377.475 115.182 372.892 Q112.126 368.286 112.126 359.559 Q112.126 350.809 115.182 346.226 Q118.26 341.619 124.07 341.619 Z\" fill=\"#000000\" fill-rule=\"nonzero\" fill-opacity=\"1\" /><path clip-path=\"url(#clip540)\" d=\"M53.793 70.6963 L72.1494 70.6963 L72.1494 74.6314 L58.0754 74.6314 L58.0754 83.1036 Q59.0939 82.7564 60.1124 82.5944 Q61.131 82.4092 62.1495 82.4092 Q67.9365 82.4092 71.3161 85.5805 Q74.6957 88.7517 74.6957 94.1684 Q74.6957 99.747 71.2235 102.849 Q67.7513 105.928 61.4319 105.928 Q59.256 105.928 56.9875 105.557 Q54.7421 105.187 52.3347 104.446 L52.3347 99.747 Q54.418 100.881 56.6402 101.437 Q58.8625 101.992 61.3393 101.992 Q65.3439 101.992 67.6819 99.8859 Q70.0198 97.7795 70.0198 94.1684 Q70.0198 90.5573 67.6819 88.4508 Q65.3439 86.3443 61.3393 86.3443 Q59.4643 86.3443 57.5893 86.761 Q55.7375 87.1777 53.793 88.0573 L53.793 70.6963 Z\" fill=\"#000000\" fill-rule=\"nonzero\" fill-opacity=\"1\" /><path clip-path=\"url(#clip540)\" d=\"M93.9086 73.775 Q90.2975 73.775 88.4688 77.3398 Q86.6632 80.8814 86.6632 88.011 Q86.6632 95.1174 88.4688 98.6822 Q90.2975 102.224 93.9086 102.224 Q97.5428 102.224 99.3483 98.6822 Q101.177 95.1174 101.177 88.011 Q101.177 80.8814 99.3483 77.3398 Q97.5428 73.775 93.9086 73.775 M93.9086 70.0713 Q99.7187 70.0713 102.774 74.6777 Q105.853 79.261 105.853 88.011 Q105.853 96.7378 102.774 101.344 Q99.7187 105.928 93.9086 105.928 Q88.0984 105.928 85.0197 101.344 Q81.9642 96.7378 81.9642 88.011 Q81.9642 79.261 85.0197 74.6777 Q88.0984 70.0713 93.9086 70.0713 Z\" fill=\"#000000\" fill-rule=\"nonzero\" fill-opacity=\"1\" /><path clip-path=\"url(#clip540)\" d=\"M124.07 73.775 Q120.459 73.775 118.631 77.3398 Q116.825 80.8814 116.825 88.011 Q116.825 95.1174 118.631 98.6822 Q120.459 102.224 124.07 102.224 Q127.705 102.224 129.51 98.6822 Q131.339 95.1174 131.339 88.011 Q131.339 80.8814 129.51 77.3398 Q127.705 73.775 124.07 73.775 M124.07 70.0713 Q129.881 70.0713 132.936 74.6777 Q136.015 79.261 136.015 88.011 Q136.015 96.7378 132.936 101.344 Q129.881 105.928 124.07 105.928 Q118.26 105.928 115.182 101.344 Q112.126 96.7378 112.126 88.011 Q112.126 79.261 115.182 74.6777 Q118.26 70.0713 124.07 70.0713 Z\" fill=\"#000000\" fill-rule=\"nonzero\" fill-opacity=\"1\" /><polyline clip-path=\"url(#clip542)\" style=\"stroke:#009af9; stroke-linecap:round; stroke-linejoin:round; stroke-width:4; stroke-opacity:1; fill:none\" points=\"233.734,956.93 490.897,872.071 748.06,780.423 1005.22,681.987 1262.39,576.762 1519.55,464.749 1776.71,345.947 2033.87,220.356 2291.04,87.9763 \"/>\n",
              "<polyline clip-path=\"url(#clip542)\" style=\"stroke:#e26f46; stroke-linecap:round; stroke-linejoin:round; stroke-width:4; stroke-opacity:1; fill:none\" points=\"233.734,1282.79 490.897,1303.15 748.06,1323.52 1005.22,1343.89 1262.39,1364.25 1519.55,1384.62 1776.71,1404.98 2033.87,1425.35 2291.04,1445.72 \"/>\n",
              "<path clip-path=\"url(#clip540)\" d=\"M244.706 250.738 L515.211 250.738 L515.211 95.2176 L244.706 95.2176  Z\" fill=\"#ffffff\" fill-rule=\"evenodd\" fill-opacity=\"1\"/>\n",
              "<polyline clip-path=\"url(#clip540)\" style=\"stroke:#000000; stroke-linecap:round; stroke-linejoin:round; stroke-width:4; stroke-opacity:1; fill:none\" points=\"244.706,250.738 515.211,250.738 515.211,95.2176 244.706,95.2176 244.706,250.738 \"/>\n",
              "<polyline clip-path=\"url(#clip540)\" style=\"stroke:#009af9; stroke-linecap:round; stroke-linejoin:round; stroke-width:4; stroke-opacity:1; fill:none\" points=\"268.937,147.058 414.319,147.058 \"/>\n",
              "<path clip-path=\"url(#clip540)\" d=\"M452.392 166.745 Q450.587 171.375 448.874 172.787 Q447.161 174.199 444.291 174.199 L440.888 174.199 L440.888 170.634 L443.388 170.634 Q445.147 170.634 446.119 169.8 Q447.091 168.967 448.272 165.865 L449.036 163.921 L438.55 138.412 L443.064 138.412 L451.166 158.689 L459.267 138.412 L463.781 138.412 L452.392 166.745 Z\" fill=\"#000000\" fill-rule=\"nonzero\" fill-opacity=\"1\" /><path clip-path=\"url(#clip540)\" d=\"M471.073 160.402 L478.712 160.402 L478.712 134.037 L470.402 135.703 L470.402 131.444 L478.665 129.778 L483.341 129.778 L483.341 160.402 L490.98 160.402 L490.98 164.338 L471.073 164.338 L471.073 160.402 Z\" fill=\"#000000\" fill-rule=\"nonzero\" fill-opacity=\"1\" /><polyline clip-path=\"url(#clip540)\" style=\"stroke:#e26f46; stroke-linecap:round; stroke-linejoin:round; stroke-width:4; stroke-opacity:1; fill:none\" points=\"268.937,198.898 414.319,198.898 \"/>\n",
              "<path clip-path=\"url(#clip540)\" d=\"M452.392 218.585 Q450.587 223.215 448.874 224.627 Q447.161 226.039 444.291 226.039 L440.888 226.039 L440.888 222.474 L443.388 222.474 Q445.147 222.474 446.119 221.64 Q447.091 220.807 448.272 217.705 L449.036 215.761 L438.55 190.252 L443.064 190.252 L451.166 210.529 L459.267 190.252 L463.781 190.252 L452.392 218.585 Z\" fill=\"#000000\" fill-rule=\"nonzero\" fill-opacity=\"1\" /><path clip-path=\"url(#clip540)\" d=\"M474.29 212.242 L490.61 212.242 L490.61 216.178 L468.665 216.178 L468.665 212.242 Q471.327 209.488 475.911 204.858 Q480.517 200.205 481.698 198.863 Q483.943 196.34 484.823 194.604 Q485.726 192.844 485.726 191.155 Q485.726 188.4 483.781 186.664 Q481.86 184.928 478.758 184.928 Q476.559 184.928 474.105 185.692 Q471.675 186.455 468.897 188.006 L468.897 183.284 Q471.721 182.15 474.175 181.571 Q476.628 180.993 478.665 180.993 Q484.036 180.993 487.23 183.678 Q490.425 186.363 490.425 190.854 Q490.425 192.983 489.614 194.905 Q488.827 196.803 486.721 199.395 Q486.142 200.067 483.04 203.284 Q479.939 206.479 474.29 212.242 Z\" fill=\"#000000\" fill-rule=\"nonzero\" fill-opacity=\"1\" /></svg>\n"
            ],
            "text/html": [
              "<?xml version=\"1.0\" encoding=\"utf-8\"?>\n",
              "<svg xmlns=\"http://www.w3.org/2000/svg\" xmlns:xlink=\"http://www.w3.org/1999/xlink\" width=\"600\" height=\"400\" viewBox=\"0 0 2400 1600\">\n",
              "<defs>\n",
              "  <clipPath id=\"clip590\">\n",
              "    <rect x=\"0\" y=\"0\" width=\"2400\" height=\"1600\"/>\n",
              "  </clipPath>\n",
              "</defs>\n",
              "<path clip-path=\"url(#clip590)\" d=\"M0 1600 L2400 1600 L2400 0 L0 0  Z\" fill=\"#ffffff\" fill-rule=\"evenodd\" fill-opacity=\"1\"/>\n",
              "<defs>\n",
              "  <clipPath id=\"clip591\">\n",
              "    <rect x=\"480\" y=\"0\" width=\"1681\" height=\"1600\"/>\n",
              "  </clipPath>\n",
              "</defs>\n",
              "<path clip-path=\"url(#clip590)\" d=\"M172.015 1486.45 L2352.76 1486.45 L2352.76 47.2441 L172.015 47.2441  Z\" fill=\"#ffffff\" fill-rule=\"evenodd\" fill-opacity=\"1\"/>\n",
              "<defs>\n",
              "  <clipPath id=\"clip592\">\n",
              "    <rect x=\"172\" y=\"47\" width=\"2182\" height=\"1440\"/>\n",
              "  </clipPath>\n",
              "</defs>\n",
              "<polyline clip-path=\"url(#clip592)\" style=\"stroke:#000000; stroke-linecap:round; stroke-linejoin:round; stroke-width:2; stroke-opacity:0.1; fill:none\" points=\"490.897,1486.45 490.897,47.2441 \"/>\n",
              "<polyline clip-path=\"url(#clip592)\" style=\"stroke:#000000; stroke-linecap:round; stroke-linejoin:round; stroke-width:2; stroke-opacity:0.1; fill:none\" points=\"1005.22,1486.45 1005.22,47.2441 \"/>\n",
              "<polyline clip-path=\"url(#clip592)\" style=\"stroke:#000000; stroke-linecap:round; stroke-linejoin:round; stroke-width:2; stroke-opacity:0.1; fill:none\" points=\"1519.55,1486.45 1519.55,47.2441 \"/>\n",
              "<polyline clip-path=\"url(#clip592)\" style=\"stroke:#000000; stroke-linecap:round; stroke-linejoin:round; stroke-width:2; stroke-opacity:0.1; fill:none\" points=\"2033.87,1486.45 2033.87,47.2441 \"/>\n",
              "<polyline clip-path=\"url(#clip590)\" style=\"stroke:#000000; stroke-linecap:round; stroke-linejoin:round; stroke-width:4; stroke-opacity:1; fill:none\" points=\"172.015,1486.45 2352.76,1486.45 \"/>\n",
              "<polyline clip-path=\"url(#clip590)\" style=\"stroke:#000000; stroke-linecap:round; stroke-linejoin:round; stroke-width:4; stroke-opacity:1; fill:none\" points=\"490.897,1486.45 490.897,1467.55 \"/>\n",
              "<polyline clip-path=\"url(#clip590)\" style=\"stroke:#000000; stroke-linecap:round; stroke-linejoin:round; stroke-width:4; stroke-opacity:1; fill:none\" points=\"1005.22,1486.45 1005.22,1467.55 \"/>\n",
              "<polyline clip-path=\"url(#clip590)\" style=\"stroke:#000000; stroke-linecap:round; stroke-linejoin:round; stroke-width:4; stroke-opacity:1; fill:none\" points=\"1519.55,1486.45 1519.55,1467.55 \"/>\n",
              "<polyline clip-path=\"url(#clip590)\" style=\"stroke:#000000; stroke-linecap:round; stroke-linejoin:round; stroke-width:4; stroke-opacity:1; fill:none\" points=\"2033.87,1486.45 2033.87,1467.55 \"/>\n",
              "<path clip-path=\"url(#clip590)\" d=\"M485.55 1544.91 L501.869 1544.91 L501.869 1548.85 L479.925 1548.85 L479.925 1544.91 Q482.587 1542.16 487.17 1537.53 Q491.776 1532.88 492.957 1531.53 Q495.202 1529.01 496.082 1527.27 Q496.985 1525.51 496.985 1523.82 Q496.985 1521.07 495.04 1519.33 Q493.119 1517.6 490.017 1517.6 Q487.818 1517.6 485.364 1518.36 Q482.934 1519.13 480.156 1520.68 L480.156 1515.95 Q482.98 1514.82 485.434 1514.24 Q487.888 1513.66 489.925 1513.66 Q495.295 1513.66 498.489 1516.35 Q501.684 1519.03 501.684 1523.52 Q501.684 1525.65 500.874 1527.57 Q500.087 1529.47 497.98 1532.07 Q497.401 1532.74 494.3 1535.95 Q491.198 1539.15 485.55 1544.91 Z\" fill=\"#000000\" fill-rule=\"nonzero\" fill-opacity=\"1\" /><path clip-path=\"url(#clip590)\" d=\"M1008.23 1518.36 L996.426 1536.81 L1008.23 1536.81 L1008.23 1518.36 M1007 1514.29 L1012.88 1514.29 L1012.88 1536.81 L1017.82 1536.81 L1017.82 1540.7 L1012.88 1540.7 L1012.88 1548.85 L1008.23 1548.85 L1008.23 1540.7 L992.63 1540.7 L992.63 1536.19 L1007 1514.29 Z\" fill=\"#000000\" fill-rule=\"nonzero\" fill-opacity=\"1\" /><path clip-path=\"url(#clip590)\" d=\"M1519.95 1529.7 Q1516.81 1529.7 1514.95 1531.86 Q1513.12 1534.01 1513.12 1537.76 Q1513.12 1541.49 1514.95 1543.66 Q1516.81 1545.82 1519.95 1545.82 Q1523.1 1545.82 1524.93 1543.66 Q1526.78 1541.49 1526.78 1537.76 Q1526.78 1534.01 1524.93 1531.86 Q1523.1 1529.7 1519.95 1529.7 M1529.24 1515.05 L1529.24 1519.31 Q1527.48 1518.48 1525.67 1518.04 Q1523.89 1517.6 1522.13 1517.6 Q1517.5 1517.6 1515.05 1520.72 Q1512.62 1523.85 1512.27 1530.17 Q1513.63 1528.15 1515.69 1527.09 Q1517.75 1526 1520.23 1526 Q1525.44 1526 1528.45 1529.17 Q1531.48 1532.32 1531.48 1537.76 Q1531.48 1543.08 1528.33 1546.3 Q1525.18 1549.52 1519.95 1549.52 Q1513.96 1549.52 1510.79 1544.94 Q1507.62 1540.33 1507.62 1531.6 Q1507.62 1523.41 1511.5 1518.55 Q1515.39 1513.66 1521.94 1513.66 Q1523.7 1513.66 1525.49 1514.01 Q1527.29 1514.36 1529.24 1515.05 Z\" fill=\"#000000\" fill-rule=\"nonzero\" fill-opacity=\"1\" /><path clip-path=\"url(#clip590)\" d=\"M2033.87 1532.44 Q2030.54 1532.44 2028.62 1534.22 Q2026.72 1536 2026.72 1539.13 Q2026.72 1542.25 2028.62 1544.03 Q2030.54 1545.82 2033.87 1545.82 Q2037.21 1545.82 2039.13 1544.03 Q2041.05 1542.23 2041.05 1539.13 Q2041.05 1536 2039.13 1534.22 Q2037.23 1532.44 2033.87 1532.44 M2029.2 1530.45 Q2026.19 1529.7 2024.5 1527.64 Q2022.83 1525.58 2022.83 1522.62 Q2022.83 1518.48 2025.77 1516.07 Q2028.74 1513.66 2033.87 1513.66 Q2039.04 1513.66 2041.98 1516.07 Q2044.92 1518.48 2044.92 1522.62 Q2044.92 1525.58 2043.23 1527.64 Q2041.56 1529.7 2038.57 1530.45 Q2041.95 1531.23 2043.83 1533.52 Q2045.73 1535.82 2045.73 1539.13 Q2045.73 1544.15 2042.65 1546.83 Q2039.59 1549.52 2033.87 1549.52 Q2028.16 1549.52 2025.08 1546.83 Q2022.02 1544.15 2022.02 1539.13 Q2022.02 1535.82 2023.92 1533.52 Q2025.82 1531.23 2029.2 1530.45 M2027.49 1523.06 Q2027.49 1525.75 2029.15 1527.25 Q2030.84 1528.76 2033.87 1528.76 Q2036.88 1528.76 2038.57 1527.25 Q2040.29 1525.75 2040.29 1523.06 Q2040.29 1520.38 2038.57 1518.87 Q2036.88 1517.37 2033.87 1517.37 Q2030.84 1517.37 2029.15 1518.87 Q2027.49 1520.38 2027.49 1523.06 Z\" fill=\"#000000\" fill-rule=\"nonzero\" fill-opacity=\"1\" /><polyline clip-path=\"url(#clip592)\" style=\"stroke:#000000; stroke-linecap:round; stroke-linejoin:round; stroke-width:2; stroke-opacity:0.1; fill:none\" points=\"172.015,1445.72 2352.76,1445.72 \"/>\n",
              "<polyline clip-path=\"url(#clip592)\" style=\"stroke:#000000; stroke-linecap:round; stroke-linejoin:round; stroke-width:2; stroke-opacity:0.1; fill:none\" points=\"172.015,1174.17 2352.76,1174.17 \"/>\n",
              "<polyline clip-path=\"url(#clip592)\" style=\"stroke:#000000; stroke-linecap:round; stroke-linejoin:round; stroke-width:2; stroke-opacity:0.1; fill:none\" points=\"172.015,902.62 2352.76,902.62 \"/>\n",
              "<polyline clip-path=\"url(#clip592)\" style=\"stroke:#000000; stroke-linecap:round; stroke-linejoin:round; stroke-width:2; stroke-opacity:0.1; fill:none\" points=\"172.015,631.072 2352.76,631.072 \"/>\n",
              "<polyline clip-path=\"url(#clip592)\" style=\"stroke:#000000; stroke-linecap:round; stroke-linejoin:round; stroke-width:2; stroke-opacity:0.1; fill:none\" points=\"172.015,359.524 2352.76,359.524 \"/>\n",
              "<polyline clip-path=\"url(#clip592)\" style=\"stroke:#000000; stroke-linecap:round; stroke-linejoin:round; stroke-width:2; stroke-opacity:0.1; fill:none\" points=\"172.015,87.9763 2352.76,87.9763 \"/>\n",
              "<polyline clip-path=\"url(#clip590)\" style=\"stroke:#000000; stroke-linecap:round; stroke-linejoin:round; stroke-width:4; stroke-opacity:1; fill:none\" points=\"172.015,1486.45 172.015,47.2441 \"/>\n",
              "<polyline clip-path=\"url(#clip590)\" style=\"stroke:#000000; stroke-linecap:round; stroke-linejoin:round; stroke-width:4; stroke-opacity:1; fill:none\" points=\"172.015,1445.72 190.912,1445.72 \"/>\n",
              "<polyline clip-path=\"url(#clip590)\" style=\"stroke:#000000; stroke-linecap:round; stroke-linejoin:round; stroke-width:4; stroke-opacity:1; fill:none\" points=\"172.015,1174.17 190.912,1174.17 \"/>\n",
              "<polyline clip-path=\"url(#clip590)\" style=\"stroke:#000000; stroke-linecap:round; stroke-linejoin:round; stroke-width:4; stroke-opacity:1; fill:none\" points=\"172.015,902.62 190.912,902.62 \"/>\n",
              "<polyline clip-path=\"url(#clip590)\" style=\"stroke:#000000; stroke-linecap:round; stroke-linejoin:round; stroke-width:4; stroke-opacity:1; fill:none\" points=\"172.015,631.072 190.912,631.072 \"/>\n",
              "<polyline clip-path=\"url(#clip590)\" style=\"stroke:#000000; stroke-linecap:round; stroke-linejoin:round; stroke-width:4; stroke-opacity:1; fill:none\" points=\"172.015,359.524 190.912,359.524 \"/>\n",
              "<polyline clip-path=\"url(#clip590)\" style=\"stroke:#000000; stroke-linecap:round; stroke-linejoin:round; stroke-width:4; stroke-opacity:1; fill:none\" points=\"172.015,87.9763 190.912,87.9763 \"/>\n",
              "<path clip-path=\"url(#clip590)\" d=\"M124.07 1431.51 Q120.459 1431.51 118.631 1435.08 Q116.825 1438.62 116.825 1445.75 Q116.825 1452.86 118.631 1456.42 Q120.459 1459.96 124.07 1459.96 Q127.705 1459.96 129.51 1456.42 Q131.339 1452.86 131.339 1445.75 Q131.339 1438.62 129.51 1435.08 Q127.705 1431.51 124.07 1431.51 M124.07 1427.81 Q129.881 1427.81 132.936 1432.42 Q136.015 1437 136.015 1445.75 Q136.015 1454.48 132.936 1459.08 Q129.881 1463.67 124.07 1463.67 Q118.26 1463.67 115.182 1459.08 Q112.126 1454.48 112.126 1445.75 Q112.126 1437 115.182 1432.42 Q118.26 1427.81 124.07 1427.81 Z\" fill=\"#000000\" fill-rule=\"nonzero\" fill-opacity=\"1\" /><path clip-path=\"url(#clip590)\" d=\"M54.5569 1187.51 L62.1958 1187.51 L62.1958 1161.15 L53.8856 1162.81 L53.8856 1158.55 L62.1495 1156.89 L66.8254 1156.89 L66.8254 1187.51 L74.4642 1187.51 L74.4642 1191.45 L54.5569 1191.45 L54.5569 1187.51 Z\" fill=\"#000000\" fill-rule=\"nonzero\" fill-opacity=\"1\" /><path clip-path=\"url(#clip590)\" d=\"M93.9086 1159.97 Q90.2975 1159.97 88.4688 1163.53 Q86.6632 1167.07 86.6632 1174.2 Q86.6632 1181.31 88.4688 1184.87 Q90.2975 1188.42 93.9086 1188.42 Q97.5428 1188.42 99.3483 1184.87 Q101.177 1181.31 101.177 1174.2 Q101.177 1167.07 99.3483 1163.53 Q97.5428 1159.97 93.9086 1159.97 M93.9086 1156.26 Q99.7187 1156.26 102.774 1160.87 Q105.853 1165.45 105.853 1174.2 Q105.853 1182.93 102.774 1187.54 Q99.7187 1192.12 93.9086 1192.12 Q88.0984 1192.12 85.0197 1187.54 Q81.9642 1182.93 81.9642 1174.2 Q81.9642 1165.45 85.0197 1160.87 Q88.0984 1156.26 93.9086 1156.26 Z\" fill=\"#000000\" fill-rule=\"nonzero\" fill-opacity=\"1\" /><path clip-path=\"url(#clip590)\" d=\"M124.07 1159.97 Q120.459 1159.97 118.631 1163.53 Q116.825 1167.07 116.825 1174.2 Q116.825 1181.31 118.631 1184.87 Q120.459 1188.42 124.07 1188.42 Q127.705 1188.42 129.51 1184.87 Q131.339 1181.31 131.339 1174.2 Q131.339 1167.07 129.51 1163.53 Q127.705 1159.97 124.07 1159.97 M124.07 1156.26 Q129.881 1156.26 132.936 1160.87 Q136.015 1165.45 136.015 1174.2 Q136.015 1182.93 132.936 1187.54 Q129.881 1192.12 124.07 1192.12 Q118.26 1192.12 115.182 1187.54 Q112.126 1182.93 112.126 1174.2 Q112.126 1165.45 115.182 1160.87 Q118.26 1156.26 124.07 1156.26 Z\" fill=\"#000000\" fill-rule=\"nonzero\" fill-opacity=\"1\" /><path clip-path=\"url(#clip590)\" d=\"M57.7745 915.965 L74.0939 915.965 L74.0939 919.9 L52.1495 919.9 L52.1495 915.965 Q54.8115 913.21 59.3949 908.581 Q64.0013 903.928 65.1819 902.585 Q67.4272 900.062 68.3068 898.326 Q69.2096 896.567 69.2096 894.877 Q69.2096 892.122 67.2652 890.386 Q65.3439 888.65 62.2421 888.65 Q60.043 888.65 57.5893 889.414 Q55.1588 890.178 52.381 891.729 L52.381 887.007 Q55.2051 885.872 57.6588 885.294 Q60.1124 884.715 62.1495 884.715 Q67.5198 884.715 70.7142 887.4 Q73.9087 890.085 73.9087 894.576 Q73.9087 896.706 73.0985 898.627 Q72.3115 900.525 70.205 903.118 Q69.6263 903.789 66.5245 907.006 Q63.4226 910.201 57.7745 915.965 Z\" fill=\"#000000\" fill-rule=\"nonzero\" fill-opacity=\"1\" /><path clip-path=\"url(#clip590)\" d=\"M93.9086 888.419 Q90.2975 888.419 88.4688 891.983 Q86.6632 895.525 86.6632 902.655 Q86.6632 909.761 88.4688 913.326 Q90.2975 916.868 93.9086 916.868 Q97.5428 916.868 99.3483 913.326 Q101.177 909.761 101.177 902.655 Q101.177 895.525 99.3483 891.983 Q97.5428 888.419 93.9086 888.419 M93.9086 884.715 Q99.7187 884.715 102.774 889.321 Q105.853 893.905 105.853 902.655 Q105.853 911.381 102.774 915.988 Q99.7187 920.571 93.9086 920.571 Q88.0984 920.571 85.0197 915.988 Q81.9642 911.381 81.9642 902.655 Q81.9642 893.905 85.0197 889.321 Q88.0984 884.715 93.9086 884.715 Z\" fill=\"#000000\" fill-rule=\"nonzero\" fill-opacity=\"1\" /><path clip-path=\"url(#clip590)\" d=\"M124.07 888.419 Q120.459 888.419 118.631 891.983 Q116.825 895.525 116.825 902.655 Q116.825 909.761 118.631 913.326 Q120.459 916.868 124.07 916.868 Q127.705 916.868 129.51 913.326 Q131.339 909.761 131.339 902.655 Q131.339 895.525 129.51 891.983 Q127.705 888.419 124.07 888.419 M124.07 884.715 Q129.881 884.715 132.936 889.321 Q136.015 893.905 136.015 902.655 Q136.015 911.381 132.936 915.988 Q129.881 920.571 124.07 920.571 Q118.26 920.571 115.182 915.988 Q112.126 911.381 112.126 902.655 Q112.126 893.905 115.182 889.321 Q118.26 884.715 124.07 884.715 Z\" fill=\"#000000\" fill-rule=\"nonzero\" fill-opacity=\"1\" /><path clip-path=\"url(#clip590)\" d=\"M67.9133 629.718 Q71.2698 630.435 73.1448 632.704 Q75.0429 634.972 75.0429 638.306 Q75.0429 643.422 71.5244 646.222 Q68.0059 649.023 61.5245 649.023 Q59.3486 649.023 57.0338 648.584 Q54.7421 648.167 52.2884 647.31 L52.2884 642.797 Q54.2328 643.931 56.5477 644.509 Q58.8625 645.088 61.3856 645.088 Q65.7837 645.088 68.0754 643.352 Q70.3902 641.616 70.3902 638.306 Q70.3902 635.25 68.2374 633.537 Q66.1078 631.801 62.2884 631.801 L58.2606 631.801 L58.2606 627.959 L62.4735 627.959 Q65.9226 627.959 67.7513 626.593 Q69.58 625.204 69.58 622.611 Q69.58 619.949 67.6819 618.537 Q65.8069 617.102 62.2884 617.102 Q60.3671 617.102 58.168 617.519 Q55.969 617.936 53.3301 618.815 L53.3301 614.649 Q55.9921 613.908 58.3069 613.537 Q60.6449 613.167 62.705 613.167 Q68.0291 613.167 71.1309 615.598 Q74.2327 618.005 74.2327 622.125 Q74.2327 624.996 72.5892 626.986 Q70.9457 628.954 67.9133 629.718 Z\" fill=\"#000000\" fill-rule=\"nonzero\" fill-opacity=\"1\" /><path clip-path=\"url(#clip590)\" d=\"M93.9086 616.871 Q90.2975 616.871 88.4688 620.436 Q86.6632 623.977 86.6632 631.107 Q86.6632 638.213 88.4688 641.778 Q90.2975 645.32 93.9086 645.32 Q97.5428 645.32 99.3483 641.778 Q101.177 638.213 101.177 631.107 Q101.177 623.977 99.3483 620.436 Q97.5428 616.871 93.9086 616.871 M93.9086 613.167 Q99.7187 613.167 102.774 617.774 Q105.853 622.357 105.853 631.107 Q105.853 639.834 102.774 644.44 Q99.7187 649.023 93.9086 649.023 Q88.0984 649.023 85.0197 644.44 Q81.9642 639.834 81.9642 631.107 Q81.9642 622.357 85.0197 617.774 Q88.0984 613.167 93.9086 613.167 Z\" fill=\"#000000\" fill-rule=\"nonzero\" fill-opacity=\"1\" /><path clip-path=\"url(#clip590)\" d=\"M124.07 616.871 Q120.459 616.871 118.631 620.436 Q116.825 623.977 116.825 631.107 Q116.825 638.213 118.631 641.778 Q120.459 645.32 124.07 645.32 Q127.705 645.32 129.51 641.778 Q131.339 638.213 131.339 631.107 Q131.339 623.977 129.51 620.436 Q127.705 616.871 124.07 616.871 M124.07 613.167 Q129.881 613.167 132.936 617.774 Q136.015 622.357 136.015 631.107 Q136.015 639.834 132.936 644.44 Q129.881 649.023 124.07 649.023 Q118.26 649.023 115.182 644.44 Q112.126 639.834 112.126 631.107 Q112.126 622.357 115.182 617.774 Q118.26 613.167 124.07 613.167 Z\" fill=\"#000000\" fill-rule=\"nonzero\" fill-opacity=\"1\" /><path clip-path=\"url(#clip590)\" d=\"M66.5939 346.318 L54.7884 364.767 L66.5939 364.767 L66.5939 346.318 M65.367 342.244 L71.2466 342.244 L71.2466 364.767 L76.1772 364.767 L76.1772 368.656 L71.2466 368.656 L71.2466 376.804 L66.5939 376.804 L66.5939 368.656 L50.9921 368.656 L50.9921 364.142 L65.367 342.244 Z\" fill=\"#000000\" fill-rule=\"nonzero\" fill-opacity=\"1\" /><path clip-path=\"url(#clip590)\" d=\"M93.9086 345.323 Q90.2975 345.323 88.4688 348.888 Q86.6632 352.429 86.6632 359.559 Q86.6632 366.665 88.4688 370.23 Q90.2975 373.772 93.9086 373.772 Q97.5428 373.772 99.3483 370.23 Q101.177 366.665 101.177 359.559 Q101.177 352.429 99.3483 348.888 Q97.5428 345.323 93.9086 345.323 M93.9086 341.619 Q99.7187 341.619 102.774 346.226 Q105.853 350.809 105.853 359.559 Q105.853 368.286 102.774 372.892 Q99.7187 377.475 93.9086 377.475 Q88.0984 377.475 85.0197 372.892 Q81.9642 368.286 81.9642 359.559 Q81.9642 350.809 85.0197 346.226 Q88.0984 341.619 93.9086 341.619 Z\" fill=\"#000000\" fill-rule=\"nonzero\" fill-opacity=\"1\" /><path clip-path=\"url(#clip590)\" d=\"M124.07 345.323 Q120.459 345.323 118.631 348.888 Q116.825 352.429 116.825 359.559 Q116.825 366.665 118.631 370.23 Q120.459 373.772 124.07 373.772 Q127.705 373.772 129.51 370.23 Q131.339 366.665 131.339 359.559 Q131.339 352.429 129.51 348.888 Q127.705 345.323 124.07 345.323 M124.07 341.619 Q129.881 341.619 132.936 346.226 Q136.015 350.809 136.015 359.559 Q136.015 368.286 132.936 372.892 Q129.881 377.475 124.07 377.475 Q118.26 377.475 115.182 372.892 Q112.126 368.286 112.126 359.559 Q112.126 350.809 115.182 346.226 Q118.26 341.619 124.07 341.619 Z\" fill=\"#000000\" fill-rule=\"nonzero\" fill-opacity=\"1\" /><path clip-path=\"url(#clip590)\" d=\"M53.793 70.6963 L72.1494 70.6963 L72.1494 74.6314 L58.0754 74.6314 L58.0754 83.1036 Q59.0939 82.7564 60.1124 82.5944 Q61.131 82.4092 62.1495 82.4092 Q67.9365 82.4092 71.3161 85.5805 Q74.6957 88.7517 74.6957 94.1684 Q74.6957 99.747 71.2235 102.849 Q67.7513 105.928 61.4319 105.928 Q59.256 105.928 56.9875 105.557 Q54.7421 105.187 52.3347 104.446 L52.3347 99.747 Q54.418 100.881 56.6402 101.437 Q58.8625 101.992 61.3393 101.992 Q65.3439 101.992 67.6819 99.8859 Q70.0198 97.7795 70.0198 94.1684 Q70.0198 90.5573 67.6819 88.4508 Q65.3439 86.3443 61.3393 86.3443 Q59.4643 86.3443 57.5893 86.761 Q55.7375 87.1777 53.793 88.0573 L53.793 70.6963 Z\" fill=\"#000000\" fill-rule=\"nonzero\" fill-opacity=\"1\" /><path clip-path=\"url(#clip590)\" d=\"M93.9086 73.775 Q90.2975 73.775 88.4688 77.3398 Q86.6632 80.8814 86.6632 88.011 Q86.6632 95.1174 88.4688 98.6822 Q90.2975 102.224 93.9086 102.224 Q97.5428 102.224 99.3483 98.6822 Q101.177 95.1174 101.177 88.011 Q101.177 80.8814 99.3483 77.3398 Q97.5428 73.775 93.9086 73.775 M93.9086 70.0713 Q99.7187 70.0713 102.774 74.6777 Q105.853 79.261 105.853 88.011 Q105.853 96.7378 102.774 101.344 Q99.7187 105.928 93.9086 105.928 Q88.0984 105.928 85.0197 101.344 Q81.9642 96.7378 81.9642 88.011 Q81.9642 79.261 85.0197 74.6777 Q88.0984 70.0713 93.9086 70.0713 Z\" fill=\"#000000\" fill-rule=\"nonzero\" fill-opacity=\"1\" /><path clip-path=\"url(#clip590)\" d=\"M124.07 73.775 Q120.459 73.775 118.631 77.3398 Q116.825 80.8814 116.825 88.011 Q116.825 95.1174 118.631 98.6822 Q120.459 102.224 124.07 102.224 Q127.705 102.224 129.51 98.6822 Q131.339 95.1174 131.339 88.011 Q131.339 80.8814 129.51 77.3398 Q127.705 73.775 124.07 73.775 M124.07 70.0713 Q129.881 70.0713 132.936 74.6777 Q136.015 79.261 136.015 88.011 Q136.015 96.7378 132.936 101.344 Q129.881 105.928 124.07 105.928 Q118.26 105.928 115.182 101.344 Q112.126 96.7378 112.126 88.011 Q112.126 79.261 115.182 74.6777 Q118.26 70.0713 124.07 70.0713 Z\" fill=\"#000000\" fill-rule=\"nonzero\" fill-opacity=\"1\" /><polyline clip-path=\"url(#clip592)\" style=\"stroke:#009af9; stroke-linecap:round; stroke-linejoin:round; stroke-width:4; stroke-opacity:1; fill:none\" points=\"233.734,956.93 490.897,872.071 748.06,780.423 1005.22,681.987 1262.39,576.762 1519.55,464.749 1776.71,345.947 2033.87,220.356 2291.04,87.9763 \"/>\n",
              "<polyline clip-path=\"url(#clip592)\" style=\"stroke:#e26f46; stroke-linecap:round; stroke-linejoin:round; stroke-width:4; stroke-opacity:1; fill:none\" points=\"233.734,1282.79 490.897,1303.15 748.06,1323.52 1005.22,1343.89 1262.39,1364.25 1519.55,1384.62 1776.71,1404.98 2033.87,1425.35 2291.04,1445.72 \"/>\n",
              "<path clip-path=\"url(#clip590)\" d=\"M244.706 250.738 L515.211 250.738 L515.211 95.2176 L244.706 95.2176  Z\" fill=\"#ffffff\" fill-rule=\"evenodd\" fill-opacity=\"1\"/>\n",
              "<polyline clip-path=\"url(#clip590)\" style=\"stroke:#000000; stroke-linecap:round; stroke-linejoin:round; stroke-width:4; stroke-opacity:1; fill:none\" points=\"244.706,250.738 515.211,250.738 515.211,95.2176 244.706,95.2176 244.706,250.738 \"/>\n",
              "<polyline clip-path=\"url(#clip590)\" style=\"stroke:#009af9; stroke-linecap:round; stroke-linejoin:round; stroke-width:4; stroke-opacity:1; fill:none\" points=\"268.937,147.058 414.319,147.058 \"/>\n",
              "<path clip-path=\"url(#clip590)\" d=\"M452.392 166.745 Q450.587 171.375 448.874 172.787 Q447.161 174.199 444.291 174.199 L440.888 174.199 L440.888 170.634 L443.388 170.634 Q445.147 170.634 446.119 169.8 Q447.091 168.967 448.272 165.865 L449.036 163.921 L438.55 138.412 L443.064 138.412 L451.166 158.689 L459.267 138.412 L463.781 138.412 L452.392 166.745 Z\" fill=\"#000000\" fill-rule=\"nonzero\" fill-opacity=\"1\" /><path clip-path=\"url(#clip590)\" d=\"M471.073 160.402 L478.712 160.402 L478.712 134.037 L470.402 135.703 L470.402 131.444 L478.665 129.778 L483.341 129.778 L483.341 160.402 L490.98 160.402 L490.98 164.338 L471.073 164.338 L471.073 160.402 Z\" fill=\"#000000\" fill-rule=\"nonzero\" fill-opacity=\"1\" /><polyline clip-path=\"url(#clip590)\" style=\"stroke:#e26f46; stroke-linecap:round; stroke-linejoin:round; stroke-width:4; stroke-opacity:1; fill:none\" points=\"268.937,198.898 414.319,198.898 \"/>\n",
              "<path clip-path=\"url(#clip590)\" d=\"M452.392 218.585 Q450.587 223.215 448.874 224.627 Q447.161 226.039 444.291 226.039 L440.888 226.039 L440.888 222.474 L443.388 222.474 Q445.147 222.474 446.119 221.64 Q447.091 220.807 448.272 217.705 L449.036 215.761 L438.55 190.252 L443.064 190.252 L451.166 210.529 L459.267 190.252 L463.781 190.252 L452.392 218.585 Z\" fill=\"#000000\" fill-rule=\"nonzero\" fill-opacity=\"1\" /><path clip-path=\"url(#clip590)\" d=\"M474.29 212.242 L490.61 212.242 L490.61 216.178 L468.665 216.178 L468.665 212.242 Q471.327 209.488 475.911 204.858 Q480.517 200.205 481.698 198.863 Q483.943 196.34 484.823 194.604 Q485.726 192.844 485.726 191.155 Q485.726 188.4 483.781 186.664 Q481.86 184.928 478.758 184.928 Q476.559 184.928 474.105 185.692 Q471.675 186.455 468.897 188.006 L468.897 183.284 Q471.721 182.15 474.175 181.571 Q476.628 180.993 478.665 180.993 Q484.036 180.993 487.23 183.678 Q490.425 186.363 490.425 190.854 Q490.425 192.983 489.614 194.905 Q488.827 196.803 486.721 199.395 Q486.142 200.067 483.04 203.284 Q479.939 206.479 474.29 212.242 Z\" fill=\"#000000\" fill-rule=\"nonzero\" fill-opacity=\"1\" /></svg>\n"
            ]
          },
          "metadata": {},
          "output_type": "display_data"
        }
      ],
      "source": [
        "#treatment cost&efficiency\n",
        "using Plots\n",
        "function treatment_cost(w, x, y, z) #create a function that calculate treatment cost\n",
        "    return (x^2/20, y*1.5, x*0.2, y-y*(1-0.005*y))\n",
        "end\n",
        "landfill = [60, 65, 70, 75, 80, 85, 90, 95, 100] #number of waste in land dispose\n",
        "chemical = [40, 35, 30, 25, 20, 15, 10, 5, 0] #number of waste in chemi\n",
        "output = treatment_cost.(landfill, landfill, chemical, chemical)\n",
        "a = [out[1] for out in output]\n",
        "b = [out[2] for out in output]\n",
        "c = [out[3] for out in output]\n",
        "d = [out[4] for out in output]\n",
        "@show a\n",
        "@show b\n",
        "@show c\n",
        "@show d\n",
        "landfill = a\n",
        "chemical = b\n",
        "plot([landfill, chemical])\n"
      ]
    },
    {
      "cell_type": "markdown",
      "id": "c860071d-9605-44fd-9824-08feaa19071c",
      "metadata": {},
      "source": [
        "#### Problem 5.1\n",
        "\n",
        "Using a\n",
        "[comprehension](https://viveks.me/environmental-systems-analysis/tutorials/julia-basics.html#comprehensions),\n",
        "count the number of odd numbers between 0 and 149."
      ]
    },
    {
      "cell_type": "code",
      "execution_count": 4,
      "id": "c9b4dd61",
      "metadata": {},
      "outputs": [
        {
          "name": "stdout",
          "output_type": "stream",
          "text": [
            "count = 75\n"
          ]
        },
        {
          "data": {
            "text/plain": [
              "75"
            ]
          },
          "metadata": {},
          "output_type": "display_data"
        }
      ],
      "source": [
        "#= 1 for i in 0:149 if !iseven(i), writing this down after reading comprehension page, so it'll have 1 for every number between 0 to 149\n",
        "that's not even, and basically I just need the sum of it to know how many are odd numbers=#\n",
        "count = sum(1 for i in 0:149 if !iseven(i))\n",
        "@show count "
      ]
    },
    {
      "cell_type": "markdown",
      "id": "bbad418b-b1e1-4bc1-9236-4dc7d5e0a6bb",
      "metadata": {},
      "source": [
        "> **Hint**\n",
        ">\n",
        "> `iseven()` returns `true` for even numbers and `false` for odd\n",
        "> numbers."
      ]
    },
    {
      "cell_type": "markdown",
      "id": "ab678985-748c-45a4-9154-8fd5765df1ce",
      "metadata": {},
      "source": [
        "#### Problem 5.2\n",
        "\n",
        "Write a function `polynomial(x, a)` which calculates the polynomial\n",
        "$$p(x) = \\sum_{i=1}^n a_i x^i$$\n",
        "\n",
        "based on a point `x` and a coefficient vector `a` of length `n` using a\n",
        "loop. Test your function by computing $$p(x) = 2x^3 - x^2 + 1$$ at\n",
        "$x=2$."
      ]
    },
    {
      "cell_type": "markdown",
      "id": "8b14add5",
      "metadata": {},
      "source": [
        "So for this quesiton, I wanted to create a for loop that can calculate the polynomial with loop\n",
        "so first I created the for loop that can calculate the sum of each individual element within the polynomial\n",
        "and because there's a number for constant, so I use x^(i-1) for the function\n",
        "a(length of the equation-(element in the array-1)) gives me the coefficient for this equation, for instance if length is 4\n",
        "a(4-(1-1)) will give me the last coefficient of the polynomial, combined with x^(1-1) gives me the value of the constant.\n",
        "loop this for the length of the polynomial, we'll get the result."
      ]
    },
    {
      "cell_type": "code",
      "execution_count": 35,
      "id": "ea902390",
      "metadata": {},
      "outputs": [
        {
          "name": "stdout",
          "output_type": "stream",
          "text": [
            "test = 13\n"
          ]
        },
        {
          "data": {
            "text/plain": [
              "13"
            ]
          },
          "metadata": {},
          "output_type": "display_data"
        }
      ],
      "source": [
        "function polynomial(x, a)\n",
        "   result = 0 #setting a result that holds value\n",
        "    n = length(a) #length of the equation\n",
        "    for i in 1:n\n",
        "        result += a[n-(i-1)]*x^(i-1) \n",
        "    end\n",
        "    return result\n",
        "end\n",
        "coeff = [2, -1, 0, 1]\n",
        "test = polynomial(2, coeff)\n",
        "@show test\n"
      ]
    },
    {
      "cell_type": "markdown",
      "id": "47b1b47a-d0c6-4812-b7a5-fbecebddd3f9",
      "metadata": {},
      "source": [
        "## References\n",
        "\n",
        "List any external references consulted, including classmates."
      ]
    }
  ],
  "metadata": {
    "kernel_info": {
      "name": "julia"
    },
    "kernelspec": {
      "display_name": "Julia 1.10.4",
      "language": "julia",
      "name": "julia-1.10"
    },
    "language_info": {
      "file_extension": ".jl",
      "mimetype": "application/julia",
      "name": "julia",
      "version": "1.10.4"
    }
  },
  "nbformat": 4,
  "nbformat_minor": 5
}
